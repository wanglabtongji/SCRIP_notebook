{
 "cells": [
  {
   "cell_type": "code",
   "execution_count": 1,
   "id": "62c0ab83-9aad-44f4-87bb-47a9d5e3a950",
   "metadata": {},
   "outputs": [
    {
     "name": "stderr",
     "output_type": "stream",
     "text": [
      "Registered S3 method overwritten by 'GGally':\n",
      "  method from   \n",
      "  +.gg   ggplot2\n",
      "\n",
      "Registered S3 method overwritten by 'cli':\n",
      "  method     from         \n",
      "  print.boxx spatstat.geom\n",
      "\n",
      "Attaching SeuratObject\n",
      "\n",
      "\n",
      "Attaching package: 'Signac'\n",
      "\n",
      "\n",
      "The following object is masked from 'package:Seurat':\n",
      "\n",
      "    FoldChange\n",
      "\n",
      "\n"
     ]
    }
   ],
   "source": [
    "library(MAESTRO)\n",
    "library(Seurat)\n",
    "library(Signac)\n",
    "library(rhdf5)"
   ]
  },
  {
   "cell_type": "code",
   "execution_count": null,
   "id": "b4e63e95-a54c-40b2-a257-6df1565dc460",
   "metadata": {},
   "outputs": [],
   "source": []
  },
  {
   "cell_type": "code",
   "execution_count": null,
   "id": "6246b317-a082-45bf-9d46-d04dee008ac6",
   "metadata": {},
   "outputs": [],
   "source": []
  },
  {
   "cell_type": "code",
   "execution_count": null,
   "id": "35ebf627-e6e3-431e-8e52-159e0650b052",
   "metadata": {},
   "outputs": [],
   "source": []
  },
  {
   "cell_type": "code",
   "execution_count": null,
   "id": "6abbb7fd-7e40-4aa5-a7cf-1c5fbe758ba9",
   "metadata": {},
   "outputs": [],
   "source": []
  },
  {
   "cell_type": "code",
   "execution_count": null,
   "id": "9f67eb46-479e-4b48-83c3-c7bf33573446",
   "metadata": {},
   "outputs": [],
   "source": []
  }
 ],
 "metadata": {
  "kernelspec": {
   "display_name": "MAESTRO R 4.0.5",
   "language": "R",
   "name": "irmaestro4.0.5"
  },
  "language_info": {
   "codemirror_mode": "r",
   "file_extension": ".r",
   "mimetype": "text/x-r-source",
   "name": "R",
   "pygments_lexer": "r",
   "version": "4.0.5"
  }
 },
 "nbformat": 4,
 "nbformat_minor": 5
}
