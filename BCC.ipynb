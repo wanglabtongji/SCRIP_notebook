{
 "cells": [
  {
   "cell_type": "markdown",
   "id": "da17b4f4-ef79-4118-8e84-92978ac047a1",
   "metadata": {},
   "source": [
    "# Fig a"
   ]
  },
  {
   "cell_type": "code",
   "execution_count": null,
   "id": "dc4150df-72bf-4114-9c9a-f44ff56992a1",
   "metadata": {},
   "outputs": [],
   "source": [
    "###############fig a######################\n",
    "library(Seurat)\n",
    "library(plyr)\n",
    "library(patchwork)\n",
    "library(dplyr)\n",
    "library(pheatmap)\n",
    "library(stringr)"
   ]
  },
  {
   "cell_type": "code",
   "execution_count": null,
   "id": "2132ae72-44e0-4170-87d7-a875e33d8673",
   "metadata": {},
   "outputs": [],
   "source": [
    "relabel <- function(R1,R2) {\n",
    "  for (i in R1) {\n",
    "    if (i %in% R2) {next}\n",
    "    else {R1[which(R1 == i)] <- \"\"}\n",
    "  }\n",
    "  return(R1)\n",
    "}\n",
    "# read BCC single cell experiment\n",
    "se <- readRDS(\"example/data/scATAC_TME_All_SummarizedExperiment.final.rds\")  \n",
    "all_tumor_table <- read.table(\"example/data/bcc_SCRIPT_enrichment.txt\",comment.char = \"\")\n",
    "all_tumor_table_norm <- all_tumor_table"
   ]
  },
  {
   "cell_type": "code",
   "execution_count": null,
   "id": "ce58d632-e0d3-42d4-88c7-3942431ce993",
   "metadata": {},
   "outputs": [],
   "source": [
    "# transfer enrichment_table rownames to corresponding cluster and normalization\n",
    "cluster <- mapvalues(rownames(all_tumor_table_norm),se@colData@listData[[\"Group_Barcode\"]],se@colData@listData[[\"Clusters\"]])\n",
    "rownames(all_tumor_table_norm) <- paste(cluster,1:length(rownames(all_tumor_table_norm)),sep = \"_\") \n",
    "all_tumor_table_norm <- apply(all_tumor_table_norm, 2, function (x) (x-min(x))/(max(x)-min(x)))"
   ]
  },
  {
   "cell_type": "code",
   "execution_count": null,
   "id": "98a2e8f3-45f1-49a4-825f-fb11f0223a34",
   "metadata": {},
   "outputs": [],
   "source": [
    "# build seurat object\n",
    "all_tumor_seurat <- CreateSeuratObject(counts = t(all_tumor_table_norm),project = \"t_cell\")\n",
    "all_tumor_seurat <- NormalizeData(all_tumor_seurat)\n",
    "all.genes <- rownames(all_tumor_seurat)\n",
    "all_tumor_seurat <- ScaleData(all_tumor_seurat, features = all.genes)"
   ]
  },
  {
   "cell_type": "code",
   "execution_count": null,
   "id": "3ebfb9d1-f488-4b7f-abaf-46a1e52d5f49",
   "metadata": {},
   "outputs": [],
   "source": [
    "# get tumor specific TF\n",
    "cluster_all <- c(\"Cluster17\",\"Cluster18\",\"Cluster19\",\"Cluster20\")\n",
    "cluster_normal <- paste(\"Cluster\",c(1:16),sep = \"\")\n",
    "bcc_tf <- vector(\"list\",length(cluster_all))\n",
    "for (i in seq_along(cluster_all)) {\n",
    "  cluster_markers <- FindMarkers(all_tumor_seurat, \n",
    "                                 ident.1 = cluster_all[i], \n",
    "                                 ident.2 = cluster_normal,\n",
    "                                 logfc.threshold = 1)\n",
    "  bcc_tf[[i]] <- rownames(cluster_markers)\n",
    "}\n",
    "pre_tf <- c(\"BCL11A\",\"SPI1\",\"IRF8\",\"ETV2\",\"RUNX\",\"TBX21\",\"AP4\",\"EOMES\",\"NFKB\",\"KLF4\",\"P63\",\"BATF\",\"BATF3\",\"BCL11B\",\"RUNX1\",\"RUNX1T1\",\"CEBPA\",\"CEBPB\",\"CEBPG\",\"KLF2\",\"KLF3\",\"KLF4\",\"KLF7\",\"KLF9\")\n",
    "bcc_tf <- unique(c(unlist(bcc_tf),pre_tf))"
   ]
  },
  {
   "cell_type": "code",
   "execution_count": null,
   "id": "d02e3a89-1b3a-471d-aeac-01e73f7c3b41",
   "metadata": {},
   "outputs": [],
   "source": [
    "# get mean of cell type enrichment score\n",
    "cell_cluster <- paste(\"Cluster\",1:20,sep = \"\")\n",
    "cell_cluster_type <- c(\"Naive CD4 T\",\"TH17\",\"Tfh\",\"Treg\",\"Naive CD8 T\",\"Th1\",\"Memory CD8 T\",\"CD8 TEx\",\"Effector CD8 T\",\"NK1\",\"NK2\",\"B\",\"Plasma B\",\"Myeloid\",\"Endothelial\",\"Fibroblasts\",\"Tumor 1\",\"Tumor 2\",\"Tumor 3\",\"Tumor 4\")\n",
    "bcc_tf <- bcc_tf[bcc_tf %in% colnames(all_tumor_table)]\n",
    "tumor_type <-  as.data.frame(cbind(cluster = se@colData@listData[[\"Clusters\"]],barcode = se@colData@listData[[\"Group_Barcode\"]]))\n",
    "tumor_cell_f <- all_tumor_table[,bcc_tf]\n",
    "tumor_cell_f$barcode <- rownames(tumor_cell_f)\n",
    "tem <- inner_join(tumor_cell_f,tumor_type,by = \"barcode\")\n",
    "TF_mean <- as.data.frame(group_by(tem,cluster) %>% summarise_each(funs = mean))\n",
    "rownames(TF_mean) <- mapvalues(TF_mean$cluster,cell_cluster,cell_cluster_type)\n",
    "TF_mean <- TF_mean[,-c(1,length(TF_mean))]"
   ]
  },
  {
   "cell_type": "code",
   "execution_count": null,
   "id": "948d41dc-9e95-44d9-b96a-eb0934181919",
   "metadata": {},
   "outputs": [],
   "source": [
    "tumor_tf <- c(\"TBX21\",\"JUN\",\"FOS\",\"EOMES\",\"IRF8\",\"ETV2\",\"NKFB1\",\"NFKB2\",\"CEBPG\",\"TP63\")\n",
    "tumor_label <- relabel(colnames(TF_mean),tumor_tf)\n",
    "TF_mean <- apply(TF_mean, 2, function (x) (x-min(x))/(max(x)-min(x)))\n",
    "all_tumor <- pheatmap(t(TF_mean),labels_row = tumor_label,border_color= NA,fontsize_row = 13,fontsize_col = 17,treeheight_col  = 0,treeheight_row  = 0)"
   ]
  },
  {
   "cell_type": "markdown",
   "id": "982869de-3911-42d9-8f1e-f8a03c84af59",
   "metadata": {},
   "source": [
    "# Fig b Naive T ---> TEx"
   ]
  },
  {
   "cell_type": "code",
   "execution_count": null,
   "id": "a07c85f2-337d-4787-8b45-9494af6f7eb0",
   "metadata": {},
   "outputs": [],
   "source": [
    "library(Matrix)\n",
    "library(SummarizedExperiment)\n",
    "library(matrixStats)\n",
    "library(magrittr)\n",
    "library(edgeR)\n",
    "library(TTR)\n",
    "set.seed(1)"
   ]
  },
  {
   "cell_type": "markdown",
   "id": "0c901275-d5c5-46d0-8b52-5b1653213063",
   "metadata": {},
   "source": [
    "## Trajectory"
   ]
  },
  {
   "cell_type": "code",
   "execution_count": null,
   "id": "5243b289-4f6e-47f2-b151-8dca7f75c61b",
   "metadata": {},
   "outputs": [],
   "source": [
    "\n",
    "getQuantiles <- function(x){\n",
    "  trunc(rank(x))/length(x)\n",
    "}\n",
    "\n",
    "alignTrajectory <- function(df, trajectory, filter = 0.05, dof = 250, spar = 1){\n",
    "  \n",
    "  \n",
    "  findClosest <- function(x, y, fitx, fity){\n",
    "    distxy <- sqrt(rowSums(cbind((fitx - x)^2 + (fity - y)^2)))\n",
    "    idxMin <- which.min(distxy)\n",
    "    if(idxMin==1){\n",
    "      idxMin <- idxMin + 1\n",
    "    }else if(idxMin==length(fitx)){\n",
    "      idxMin <- idxMin - 1\n",
    "    }\n",
    "    if(distxy[idxMin + 1]  < distxy[idxMin - 1]){\n",
    "      diff <- 1\n",
    "    }else{\n",
    "      diff <- -1\n",
    "    }\n",
    "    data.frame(idx = idxMin, dist = distxy[idxMin], diff = diff)\n",
    "  }\n",
    "  \n",
    "  \n",
    "  dfAll <- data.frame()\n",
    "  for(x in seq_along(trajectory)){\n",
    "    #Subset\n",
    "    dfx <- df[df$Group==trajectory[x],]\n",
    "    #Mean Diff Filter\n",
    "    xmean <- colMeans(dfx[,c(1,2)])\n",
    "    diffx <- sqrt(colSums((t(dfx[,1:2]) - xmean)^2))\n",
    "    dfx <- dfx[which(diffx <= quantile(diffx,1 - filter)),]\n",
    "    #Get diff\n",
    "    if(x!=length(trajectory)){\n",
    "      xmean1 <- colMeans(df[df$Group==trajectory[x+1],c(1,2)])\n",
    "      diffx1 <- sqrt(colSums((t(dfx[,1:2]) - xmean1)^2))\n",
    "      dfx$time <- (1 - getQuantiles(diffx1)) + x\n",
    "    }else{\n",
    "      xmean1 <- colMeans(df[df$Group==trajectory[x-1],c(1,2)])\n",
    "      diffx1 <- sqrt(colSums((t(dfx[,1:2]) - xmean1)^2))\n",
    "      dfx$time <- getQuantiles(diffx1) + x\n",
    "    }\n",
    "    dfAll <- rbind(dfAll , dfx)\n",
    "  }\n",
    "  sx <- smooth.spline(dfAll$time, dfAll$x, df = dof, spar = spar)\n",
    "  sy <- smooth.spline(dfAll$time, dfAll$y, df = dof, spar = spar)\n",
    "  dfFit <- data.frame(x = sx[[2]], y = sy[[2]], t = seq_along(sy[[2]]))\n",
    "  dfTrajectory <- df[df$Group %in% trajectory,]\n",
    "  dfTime <- lapply(seq_len(nrow(dfTrajectory)), function(x){\n",
    "    findClosest(dfTrajectory[x,1],dfTrajectory[x,2], dfFit[,1],dfFit[,2])\n",
    "  }) %>% Reduce(\"rbind\",.)\n",
    "  dfTime$distQ <- getQuantiles(dfTime$dist)\n",
    "  dfTrajectory$pseudotime <- 100*getQuantiles(dfTime$idx + matrixStats::rowProds(as.matrix(dfTime[,c(\"diff\",\"distQ\")])))\n",
    "  \n",
    "  out <- list(trajectory=dfTrajectory, fitTrajectory = dfFit)\n",
    "}\n",
    "\n",
    "trajectoryStats <- function(mat, trajectory, nSim = 1000, nFeatures = 10000){\n",
    "  #--------------\n",
    "  # Functions\n",
    "  #--------------\n",
    "  rankTrajectory <- function(mat, trajectory, n = 10000, method = \"vec\"){\n",
    "    if(method==\"vec\"){\n",
    "      vecRank <- c()\n",
    "      for(i in seq_along(trajectory)[-length(trajectory)]){\n",
    "        if(i == 1){\n",
    "          rem <- c(trajectory[i])\n",
    "        }else{\n",
    "          rem <- c(trajectory[i], trajectory[seq(1,i-1)])\n",
    "        }\n",
    "        trajectoryI <- trajectory[i]\n",
    "        peaksI <- head(order(mat[,trajectoryI],decreasing=TRUE), n = 10000)\n",
    "        distI <- rank(sqrt(colSums((mat[peaksI,] - mat[peaksI,trajectoryI])^2))[colnames(mat) %ni% rem])\n",
    "        vecRank <- c(vecRank, distI[trajectory[i+1]])\n",
    "      }   \n",
    "      vecRank\n",
    "    }else{\n",
    "      matRank <- matrix(ncol=length(trajectory)-1,nrow=ncol(mat))\n",
    "      rownames(matRank) <- colnames(mat)\n",
    "      colnames(matRank) <- paste0(\"T\",seq_along(trajectory[-1]))\n",
    "      for(i in seq_along(trajectory)[-length(trajectory)]){\n",
    "        if(i == 1){\n",
    "          rem <- c(trajectory[i])\n",
    "        }else{\n",
    "          rem <- c(trajectory[i], trajectory[seq(1,i-1)])\n",
    "        }\n",
    "        trajectoryI <- trajectory[i]\n",
    "        peaksI <- head(order(mat[,trajectoryI],decreasing=TRUE), n = 10000)\n",
    "        distI <- sqrt(colSums((mat[peaksI,] - mat[peaksI,trajectoryI])^2))[colnames(mat) %ni% rem]\n",
    "        matRank[names(distI),i] <- distI\n",
    "      }   \n",
    "      matRank\n",
    "    }\n",
    "  }\n",
    "  nullTracjectory <- function(trajectory, n = 1000){\n",
    "    nullTracjectory <- list()\n",
    "    while(length(nullTracjectory) < n){\n",
    "      trajx <- sample(trajectory, length(trajectory))\n",
    "      if(!identical(trajx, trajectory)){\n",
    "        nullTracjectory[[length(nullTracjectory) + 1]] <- trajx\n",
    "      }\n",
    "      \n",
    "    }\n",
    "    nullTracjectory\n",
    "  }\n",
    "  #Reverse Trajectory\n",
    "  trajectory <- rev(trajectory)\n",
    "  # Compute Null\n",
    "  message(\"Computing Null Trajectories...\")\n",
    "  nullT <- nullTracjectory(trajectory, nSim)\n",
    "  pb <- txtProgressBar(min = 0, max = 100, initial = 0, style = 3)\n",
    "  nullRanks <- Reduce(\"rbind\",lapply(seq_along(nullT), function(x){\n",
    "    setTxtProgressBar(pb, round(x * 100/length(nullT), 0))\n",
    "    rankX <- rankTrajectory(mat, nullT[[x]], n = nFeatures)\n",
    "    data.frame(mean = mean(rankX), median = median(rankX))\n",
    "  }))\n",
    "  # Compute Actual\n",
    "  rankT <- rankTrajectory(mat, trajectory, n = nFeatures)\n",
    "  rankTMat <- rankTrajectory(mat, trajectory, n = nFeatures, method = \"mat\")\n",
    "  pvalMean <- sum(nullRanks$mean < mean(rankT)) / nrow(nullRanks)\n",
    "  pvalMedian <- sum(nullRanks$median < median(rankT)) / nrow(nullRanks)\n",
    "  out <- list(\n",
    "    pvalMean = pvalMean,\n",
    "    pvalMedian = pvalMedian,\n",
    "    rankT = rankT,\n",
    "    rankNull = nullRanks,\n",
    "    rankTMat = rankTMat\n",
    "  )\n",
    "  return(out)\n",
    "}\n",
    "\n",
    "groupSums <- function (mat, groups = NULL, na.rm = TRUE, sparse = FALSE){\n",
    "  stopifnot(!is.null(groups))\n",
    "  stopifnot(length(groups) == ncol(mat))\n",
    "  gm <- lapply(unique(groups), function(x) {\n",
    "    if (sparse) {\n",
    "      Matrix::rowSums(mat[, which(groups == x), drop = F], na.rm = na.rm)\n",
    "    }\n",
    "    else {\n",
    "      rowSums(mat[, which(groups == x), drop = F], na.rm = na.rm)\n",
    "    }\n",
    "  }) %>% Reduce(\"cbind\", .)\n",
    "  colnames(gm) <- unique(groups)\n",
    "  return(gm)\n",
    "}\n",
    "\n",
    "\n",
    "\n",
    "'%ni%' <- Negate('%in%')"
   ]
  },
  {
   "cell_type": "code",
   "execution_count": null,
   "id": "f03ae594-5d4c-4037-8c45-b2a1fad61c50",
   "metadata": {},
   "outputs": [],
   "source": [
    "se <- readRDS(\"example/data/scATAC_TME_TCells_SummarizedExperiment.final.rds\")\n",
    "tcell_table <- read.table(\"example/project/SCRIPT/tcell/enrichment/SCRIPT_enrichment.txt\",comment.char = \"\")\n",
    "tcell_table_norm <- tcell_table\n",
    "tcell_table_tra <- tcell_table"
   ]
  },
  {
   "cell_type": "code",
   "execution_count": null,
   "id": "affaaafb-c045-4def-848f-31f79fa4cdb4",
   "metadata": {},
   "outputs": [],
   "source": [
    "# get the pseudotime series of cluster13，15，16，17\n",
    "trajectory <- paste0(\"Cluster\",c(13,15,16,17))\n",
    "df <- data.frame(row.names = colnames(se), x = colData(se)$UMAP1, y = colData(se)$UMAP2, Group = colData(se)$T_Cell_Cluster)\n",
    "trajAligned <- alignTrajectory(df, trajectory)\n",
    "df2 <- trajAligned[[1]]\n",
    "map <- mapvalues(x = rownames(tcell_table_tra), from = se@colData@listData[[\"Group_Barcode\"]], to = se@colData@listData[[\"Internal_Name\"]])\n",
    "rownames(tcell_table_tra) <- map\n",
    "df2 <- df2[order(df2$pseudotime), ] \n",
    "pseudotime_index <- rownames(df2)\n",
    "test_omit_table <- tcell_table_tra[pseudotime_index,]\n",
    "test_omit_table <- na.omit(test_omit_table)\n",
    "psudotime_table <- df2[rownames(test_omit_table),]"
   ]
  },
  {
   "cell_type": "code",
   "execution_count": null,
   "id": "c2080201-cfce-4bbc-a438-f801bb8d70fb",
   "metadata": {},
   "outputs": [],
   "source": [
    "cluster <- mapvalues(rownames(tcell_table_norm),se@colData@listData[[\"Group_Barcode\"]],se@colData@listData[[\"T_Cell_Cluster\"]])\n",
    "rownames(tcell_table_norm) <- paste(cluster,1:length(rownames(tcell_table_norm)),sep = \"_\")\n",
    "tcell_table_norm <- apply(tcell_table_norm, 2, function (x) (x-min(x))/(max(x)-min(x)))\n",
    "cluster_tcell_seurat <- CreateSeuratObject(counts = t(tcell_table_norm))\n",
    "cluster_tcell_seurat <- NormalizeData(cluster_tcell_seurat)\n",
    "all.genes <- rownames(cluster_tcell_seurat)\n",
    "cluster_tcell_seurat <- ScaleData(cluster_tcell_seurat, features = all.genes)"
   ]
  },
  {
   "cell_type": "code",
   "execution_count": null,
   "id": "11bdccdf-e1db-4fdb-bb7b-30b3c870c6a4",
   "metadata": {},
   "outputs": [],
   "source": [
    "cluster_markers_naivet <- FindMarkers(cluster_tcell_seurat, \n",
    "                                 ident.1 = \"Cluster13\", \n",
    "                                 ident.2 = c(\"Cluster15\",\"Cluster16\",\"Cluster17\"),\n",
    "                                 only.pos = TRUE,\n",
    "                                 logfc.threshold = 0.1)\n",
    "cluster_markers_naivet <- cluster_markers_naivet[order(cluster_markers_naivet$avg_log2FC,decreasing = T), ][c(1:25),]\n",
    "\n",
    "cluster_markers_earlyTEx <- FindMarkers(cluster_tcell_seurat, \n",
    "                                 ident.1 = \"Cluster15\", \n",
    "                                 ident.2 = c(\"Cluster13\",\"Cluster16\",\"Cluster17\"),\n",
    "                                 only.pos = TRUE,\n",
    "                                 logfc.threshold = 0.1)\n",
    "cluster_markers_earlyTEx <- cluster_markers_earlyTEx[order(cluster_markers_earlyTEx$avg_log2FC,decreasing = T), ][c(1:25),]\n",
    "\n",
    "cluster_markers_interTEx <- FindMarkers(cluster_tcell_seurat, \n",
    "                                 ident.1 = \"Cluster16\", \n",
    "                                 ident.2 = c(\"Cluster13\",\"Cluster15\",\"Cluster17\"),\n",
    "                                 only.pos = TRUE,\n",
    "                                 logfc.threshold = 0.1)\n",
    "cluster_markers_interTEx <- cluster_markers_interTEx[order(cluster_markers_interTEx$avg_log2FC,decreasing = T), ][c(1:25),]\n",
    "\n",
    "cluster_markers_TEx <- FindMarkers(cluster_tcell_seurat, \n",
    "                                 ident.1 = \"Cluster17\", \n",
    "                                 ident.2 = c(\"Cluster13\",\"Cluster15\",\"Cluster16\"),\n",
    "                                 only.pos = TRUE,\n",
    "                                 logfc.threshold = 0.1)\n",
    "cluster_markers_TEx <- cluster_markers_TEx[order(cluster_markers_TEx$avg_log2FC,decreasing = T), ][c(1:25),]\n",
    "tcell_tf <- unique(c(rownames(cluster_markers_naivet),rownames(cluster_markers_earlyTEx),rownames(cluster_markers_interTEx),rownames(cluster_markers_TEx)))"
   ]
  },
  {
   "cell_type": "code",
   "execution_count": null,
   "id": "2fd9873b-a8b0-478c-833e-f08fee6a7659",
   "metadata": {},
   "outputs": [],
   "source": [
    "plot_table <- tcell_table_tra[rownames(psudotime_table),c(tcell_tf)]\n",
    "plot_table <- na.omit(plot_table)\n",
    "for (i in seq_along(plot_table)) {\n",
    "  t <- ts(plot_table[,i])\n",
    "  plot_table[,i] <- SMA(t,n=8)\n",
    "  \n",
    "}\n",
    "plot_table <- plot_table[-c(1:7),]\n",
    "plot_table <- apply(plot_table, 2, function (x) (x-min(x))/(max(x)-min(x)))"
   ]
  },
  {
   "cell_type": "code",
   "execution_count": null,
   "id": "8163f04b-0d94-41f5-8f30-3791a8340e57",
   "metadata": {},
   "outputs": [],
   "source": [
    "tcell_cluster <- c(\"Cluster13\",\"Cluster15\",\"Cluster16\",\"Cluster17\")\n",
    "tcell_cluster_type <- c(\"Naive CD8 T\",\"Early TEx\",\"Intermediate TEx\",\"Terminal TEx\")\n",
    "psudotime_table$Group <- mapvalues(psudotime_table$Group,tcell_cluster,tcell_cluster_type)\n",
    "plot_anno <- select(psudotime_table,Group)\n",
    "plot_anno <- slice(plot_anno,8:length(rownames(plot_anno)))\n",
    "ann_colors = list(\n",
    "  CellType = c(\"Naive CD8 T\" = \"#00AEEC\", \"Early TEx\" = \"#b2f7ef\",\"Intermediate TEx\" = \"#fcd5ce\",\"Terminal TEx\" =\"#FF6D6F\")\n",
    ")\n",
    "t <- pheatmap(t(plot_table),border=FALSE,annotation_colors = ann_colors,annotation_col =  plot_anno,legend_breaks = c(1,0),fontsize_row = 20,cellheight = 17,cellwidth = 0.055,cluster_rows = FALSE,cluster_cols = FALSE,fontsize_col = 10,show_colnames = F,treeheight_row  = 0)"
   ]
  },
  {
   "cell_type": "markdown",
   "id": "9058fc46-aefb-45c0-8ccb-8ccdd8b1066f",
   "metadata": {},
   "source": [
    "# line chart"
   ]
  },
  {
   "cell_type": "code",
   "execution_count": null,
   "id": "f4dac993-5d2a-4025-b46d-da0e4c0fa974",
   "metadata": {},
   "outputs": [],
   "source": [
    "line_data <- cbind(plot_table,plot_anno)\n",
    "tf_mean <- group_by(line_data,Group) %>% summarise_each(funs = mean)\n",
    "tf_mean <- t(tf_mean)\n",
    "colnames(tf_mean) <- tf_mean[1,]\n",
    "tf_mean <- as.data.frame(tf_mean[-1,c(3,1,2,4)])\n",
    "\n",
    "tf_mean <- tf_mean[c(\"NR4A2\",\"NR4A3\",\"JUNB\",\"BATF\",\"FOS\"),]\n",
    "tf_mean_data <- gather(tf_mean,key = Period,value = `TF activity`,c(`Naive CD8 T`,`Early TEx`,`Intermediate TEx`,`Terminal TEx`))\n",
    "tf_mean_data$TF <- rep(rownames(tf_mean),4)\n",
    "tf_mean_data$Period <- factor(tf_mean_data$Period,levels=c(\"Naive CD8 T\",\"Early TEx\",\"Intermediate TEx\",\"Terminal TEx\"))\n",
    "line <- ggplot(data=tf_mean_data,aes(x=Period, y=`TF activity`, group=TF, color=TF))+\n",
    "  geom_line(size = 2)+theme_classic()+geom_point(size = 3)+theme(plot.title = element_text(hjust = 5, size = 15), \n",
    "                                                                 axis.text.y = element_text(size = 10,color='black'),\n",
    "                                                                 axis.text.x = element_text(size = 16,color='black'), \n",
    "                                                                 axis.title.y = element_text(size = 20),\n",
    "                                                                 axis.title.x = element_text(size = 20),\n",
    "                                                                 legend.title = element_text(size = 19),\n",
    "                                                                 legend.text = element_text(size = 20),)+ theme(axis.text.x = element_text(angle = 45, hjust = 1))\n",
    "line"
   ]
  },
  {
   "cell_type": "markdown",
   "id": "b717af21-4655-43a1-b24c-f3a4f2d30827",
   "metadata": {},
   "source": [
    "# Fig e GO term plot"
   ]
  },
  {
   "cell_type": "code",
   "execution_count": null,
   "id": "e09b6487-1066-496e-8399-abb2097c6808",
   "metadata": {},
   "outputs": [],
   "source": [
    "library(plyr)\n",
    "library(ggplot2)\n",
    "library(Seurat)\n",
    "library(clusterProfiler)\n",
    "library(org.Hs.eg.db)\n",
    "library(dplyr)"
   ]
  },
  {
   "cell_type": "code",
   "execution_count": null,
   "id": "8c3dad3f-7497-4cf2-9a58-a7777e0cd0d7",
   "metadata": {},
   "outputs": [],
   "source": [
    "se <- readRDS(\"example/data/scATAC_TME_TCells_SummarizedExperiment.final.rds\")\n",
    "naive_tex_table <- read.csv(\"example/project/SCRIPT/tcell/target/fige/JUNB.csv\")\n",
    "rownames(naive_tex_table) <- naive_tex_table$X\n",
    "naive_tex_table <- naive_tex_table[,-1]"
   ]
  },
  {
   "cell_type": "code",
   "execution_count": null,
   "id": "7c85ab39-0d9b-4512-83ec-614685d1ef19",
   "metadata": {},
   "outputs": [],
   "source": [
    "colnames(naive_tex_table) <- gsub(\"[.]\",\"-\",colnames(naive_tex_table))\n",
    "rname <- mapvalues(rownames(naive_tex_table),se@colData@listData[[\"Group_Barcode\"]],se@colData@listData[[\"T_Cell_Cluster\"]])\n",
    "rownames(naive_tex_table) <- paste(rname,1:length(rname),sep = \"_\")"
   ]
  },
  {
   "cell_type": "code",
   "execution_count": null,
   "id": "6a41ef7e-1a32-4ed0-96a2-5800fc386d5c",
   "metadata": {},
   "outputs": [],
   "source": [
    "# remove the low quality target\n",
    "delete <- data.frame(apply(naive_tex_table,2,sum))\n",
    "colnames(delete) <- \"sum\"\n",
    "delete$name <- rownames(delete)\n",
    "delete <- delete[order(delete[,1],decreasing = FALSE),]\n",
    "delete <- delete[delete$sum < 1000,]\n",
    "delete_target <- rownames(delete)\n",
    "naive_tex_table_norm <- naive_tex_table[,setdiff(colnames(naive_tex_table),delete_target)]"
   ]
  },
  {
   "cell_type": "code",
   "execution_count": null,
   "id": "d3541823-4b98-4d87-b73e-d16aaf1fb5eb",
   "metadata": {},
   "outputs": [],
   "source": [
    "naive_tex_seurat <- CreateSeuratObject(counts = t(naive_tex_table_norm))\n",
    "naive_tex_seurat <- NormalizeData(naive_tex_seurat)\n",
    "all.genes <- rownames(naive_tex_seurat)\n",
    "naive_tex_seurat <- ScaleData(naive_tex_seurat, features = all.genes)"
   ]
  },
  {
   "cell_type": "code",
   "execution_count": null,
   "id": "f0a24d33-732c-425d-a889-791bb6f98b3b",
   "metadata": {},
   "outputs": [],
   "source": [
    "cluster_markers_naive <- FindMarkers(naive_tex_seurat, \n",
    "                                     ident.1 = \"Cluster13\", \n",
    "                                     ident.2 = \"Cluster17\",\n",
    "                                     logfc.threshold = 0.1,\n",
    "                                     only.pos = TRUE)\n",
    "\n",
    "cluster_markers_tex <- FindMarkers(naive_tex_seurat, \n",
    "                                   ident.1 = \"Cluster17\", \n",
    "                                   ident.2 = \"Cluster13\",\n",
    "                                   logfc.threshold = 0.1,\n",
    "                                   only.pos = TRUE)\n",
    "avg_log2FC_threshold <-  0.25\n",
    "p_val_threshold <- 0.01\n",
    "naive_target <- rownames(cluster_markers_naive)[which(cluster_markers_naive$avg_log2FC>avg_log2FC_threshold&cluster_markers_naive$p_val<p_val_threshold)]\n",
    "tex_target <- rownames(cluster_markers_tex)[which(cluster_markers_tex$avg_log2FC>avg_log2FC_threshold&cluster_markers_tex$p_val<p_val_threshold)]"
   ]
  },
  {
   "cell_type": "code",
   "execution_count": null,
   "id": "3ad03e90-cba4-4491-ab17-817a58974c52",
   "metadata": {},
   "outputs": [],
   "source": [
    "eg_naive <- bitr(naive_target, \n",
    "                 fromType=\"SYMBOL\", \n",
    "                 toType=c(\"ENTREZID\",\"ENSEMBL\",'SYMBOL'),\n",
    "                 OrgDb=\"org.Hs.eg.db\")\n",
    "go_naive <- enrichGO(eg_naive$ENTREZID, \n",
    "                     OrgDb = org.Hs.eg.db, \n",
    "                     ont='BP',\n",
    "                     pAdjustMethod = 'BH',\n",
    "                     pvalueCutoff = 0.1,\n",
    "                     keyType = 'ENTREZID')\n",
    "go_naive <- go_naive[order(go_naive[,9],decreasing = TRUE),]"
   ]
  },
  {
   "cell_type": "code",
   "execution_count": null,
   "id": "70e5364c-edaf-48cb-ad4d-16c9cde22ee0",
   "metadata": {},
   "outputs": [],
   "source": [
    "eg_tex <- bitr(tex_target, \n",
    "               fromType=\"SYMBOL\", \n",
    "               toType=c(\"ENTREZID\",\"ENSEMBL\",'SYMBOL'),\n",
    "               OrgDb=\"org.Hs.eg.db\")\n",
    "# Run GO enrichment analysis \n",
    "go_tex <- enrichGO(eg_tex$ENTREZID, \n",
    "                   OrgDb = org.Hs.eg.db, \n",
    "                   ont='BP',\n",
    "                   pAdjustMethod = 'BH',\n",
    "                   pvalueCutoff = 0.1,\n",
    "                   keyType = 'ENTREZID')\n",
    "go_tex <- go_tex[order(go_tex[,9],decreasing = TRUE),]\n",
    "go_tex <- go_tex[grep(\"negative\",go_tex$Description),][c(1:6),]"
   ]
  },
  {
   "cell_type": "code",
   "execution_count": null,
   "id": "ce865e96-c94a-4181-82cc-5d4034f7c78f",
   "metadata": {},
   "outputs": [],
   "source": [
    "options(repr.plot.width = 6, repr.plot.height = 10,repr.plot.res = 70)\n",
    "par(mar=c(3,3,0.5,0.5),mgp=c(1.5,0.5,0),bg='black')\n",
    "go_naive_term=ggplot(go_naive,aes(Description,Count))+geom_point(aes(color=pvalue,size=Count))+\n",
    "  labs(x = \"GO Terms\",y = \"Gene Numbers\",title = \"JUNB targets in Naive T\") + \n",
    "  coord_flip()+theme_bw() +\n",
    "  theme(panel.grid = element_blank())+\n",
    "  theme(plot.title = element_text(hjust = 0.5, size = 15), \n",
    "        axis.text.y = element_text(size = 3.9,color='black'),\n",
    "        axis.text.x = element_text(size = 15,color='black'), \n",
    "        axis.title.y = element_text(size = 15),\n",
    "        axis.title.x = element_text(size = 15),\n",
    "        legend.title = element_text(size = 15),\n",
    "        legend.text = element_text(size = 5),\n",
    "        text = element_text(hjust = 0.5))+scale_color_continuous(low='#FF6D6F',high='#4ecdc4')+\n",
    "  scale_x_discrete(limits = rev(go_naive$Description))+\n",
    "  theme(text = element_text(size=40,family=\"myfont\"))+\n",
    "  scale_y_continuous(breaks=seq(0,25,10))+theme(legend.position=c(0.8,0.4))"
   ]
  },
  {
   "cell_type": "code",
   "execution_count": null,
   "id": "7c0d9c2a-e65d-444b-9404-019d7106625b",
   "metadata": {},
   "outputs": [],
   "source": [
    "options(repr.plot.width = 6, repr.plot.height = 10,repr.plot.res = 70)\n",
    "par(mar=c(3,3,0.5,0.5),mgp=c(1.5,0.5,0),bg='black')\n",
    "go_naive_term=ggplot(go_tex,aes(Description,Count))+geom_point(aes(color=pvalue,size=Count))+\n",
    "  labs(x = \"GO Terms\",y = \"Gene Numbers\",title = \"JUNB targets in TEx\") + \n",
    "  coord_flip()+theme_bw() +\n",
    "  theme(panel.grid = element_blank())+\n",
    "  theme(plot.title = element_text(hjust = 0.5, size = 15), \n",
    "        axis.text.y = element_text(size = 3.9,color='black'),\n",
    "        axis.text.x = element_text(size = 15,color='black'), \n",
    "        axis.title.y = element_text(size = 15),\n",
    "        axis.title.x = element_text(size = 15),\n",
    "        legend.title = element_text(size = 15),\n",
    "        legend.text = element_text(size = 5),\n",
    "        text = element_text(hjust = 0.5))+scale_color_continuous(low='#FF6D6F',high='#4ecdc4')+\n",
    "  scale_x_discrete(limits = rev(go_tex$Description))+\n",
    "  theme(text = element_text(size=40,family=\"myfont\"))+\n",
    "  scale_y_continuous(breaks=seq(0,25,10))+theme(legend.position=c(0.8,0.4))"
   ]
  },
  {
   "cell_type": "code",
   "execution_count": null,
   "id": "6a2a98be-88a8-42fb-ae25-dacacaf1b95c",
   "metadata": {},
   "outputs": [],
   "source": [
    "write.table (naive_target, file =\"example/project/SCRIPT/tcell/naive_target.txt\", sep =\"\", row.names = F, col.names = F, quote = F)\n",
    "write.table (tex_target, file =\"example/project/SCRIPT/tcell/tex_target.txt\", sep =\"\", row.names = F, col.names = F, quote = F)"
   ]
  },
  {
   "cell_type": "markdown",
   "id": "6fe5c89a-6d18-4a2e-be89-ee79a4a2dcd7",
   "metadata": {},
   "source": [
    "# volcano plot"
   ]
  },
  {
   "cell_type": "code",
   "execution_count": null,
   "id": "9759fc4f-1029-48bb-bdce-569a590c1971",
   "metadata": {},
   "outputs": [],
   "source": [
    "cluster_markers_all <- FindMarkers(naive_tex_seurat, \n",
    "                                     ident.1 = \"Cluster13\", \n",
    "                                     ident.2 = \"Cluster17\",\n",
    "                                     logfc.threshold = 0.1)"
   ]
  },
  {
   "cell_type": "code",
   "execution_count": null,
   "id": "e62e6d43-5ef1-4036-8d53-b7ed0eb4a851",
   "metadata": {},
   "outputs": [],
   "source": [
    "volcano <- cluster_markers_all[,c(1,2)]\n",
    "colnames(volcano) <- c(\"Pvalue\",\"Foldchange\")\n",
    "threshold<-as.factor((volcano$Foldchange>0.25|volcano$Foldchange<(-0.25))&volcano$Pvalue<0.01)\n",
    "r03=ggplot(volcano,aes(Foldchange,-log10(Pvalue),colour=threshold))+geom_point()\n",
    "r04=r03+labs(title=\"Volcanoplot\")+theme(plot.title = element_text(hjust = 0.25))+xlim(-1,1)+theme_classic()\n",
    "r05=r04+geom_vline(xintercept=c(-0.25,0.25),linetype=\"dotted\",size=1)+geom_hline(yintercept=-log10(0.01),col=\"blue\")"
   ]
  },
  {
   "cell_type": "code",
   "execution_count": null,
   "id": "80bfaa3b-69b1-4443-b244-a3b3800aa919",
   "metadata": {},
   "outputs": [],
   "source": [
    "r05"
   ]
  },
  {
   "cell_type": "markdown",
   "id": "af18994e-3659-4609-9e35-8316e6366c60",
   "metadata": {},
   "source": [
    "# Fig d"
   ]
  },
  {
   "cell_type": "code",
   "execution_count": null,
   "id": "e7fd9ade-f05a-439d-ad06-82fa9e391a36",
   "metadata": {},
   "outputs": [],
   "source": [
    "library(pheatmap)"
   ]
  },
  {
   "cell_type": "code",
   "execution_count": null,
   "id": "283f5095-ddac-495d-8b37-7b6847a1af46",
   "metadata": {},
   "outputs": [],
   "source": [
    "plot_data <- naive_tex_table[,c(naive_target,tex_target)]\n",
    "annotation_col = data.frame(\n",
    "  CellType = c(rep(\"Naive T\", 2555),rep(\"TEx\",2912))\n",
    ")\n",
    "rownames(annotation_col) = rownames(plot_data)\n",
    "labels_row_target =  relabel(colnames(plot_data),c(\"FOSL1\",\"PRMT5\",\"CASP8\",\"LY9\",\"F11R\",\"ULBP2\",\"AQP3\",\"TCF7\",\"KLF10\",\"CCL3\",\"SMAD3\",\"TIGIT\",\"CTLA4\",\"DUSP22\",\"CD80\",\"IL10\"))\n",
    "plot_data <- apply(plot_data,2, function (x) (x-min(x))/(max(x)-min(x))*100)"
   ]
  },
  {
   "cell_type": "code",
   "execution_count": null,
   "id": "1fca4b4f-a132-40f8-9d9e-2fb4da57a058",
   "metadata": {},
   "outputs": [],
   "source": [
    "tg <- pheatmap(t(plot_data),labels_row = labels_row_target,color = colorRampPalette(colors = c(\"white\",\"#00AEEC\",\"#7794CF\"))(100),border=FALSE,show_colnames = F,cluster_rows = FALSE,cluster_cols = FALSE,annotation_col = annotation_col)"
   ]
  },
  {
   "cell_type": "markdown",
   "id": "384edb6e-16c6-4f30-bb2f-e33909e2bb4f",
   "metadata": {},
   "source": [
    "# Fig e network plot"
   ]
  },
  {
   "cell_type": "code",
   "execution_count": null,
   "id": "afb54d13-031b-45be-80fb-b2e13a14f235",
   "metadata": {},
   "outputs": [],
   "source": [
    "library(Seurat)\n",
    "library(clusterProfiler)\n",
    "library(igraph)\n",
    "library(tidyverse)\n",
    "library(ggraph)\n",
    "library(tidygraph)"
   ]
  },
  {
   "cell_type": "code",
   "execution_count": null,
   "id": "5e5f4202-4cd1-4408-ab0c-68f9bb01ae4a",
   "metadata": {},
   "outputs": [],
   "source": [
    "se <- readRDS(\"example/data/scATAC_TME_TCells_SummarizedExperiment.final.rds\")\n",
    "tex_use<-Read10X(\"example/project/SCRIPT/tcell/target/1JUNB/imputation/JUNB_10x\",gene.column =1)\n",
    "tex_USE<-t(tex_use)"
   ]
  },
  {
   "cell_type": "code",
   "execution_count": null,
   "id": "623b5c3b-d114-432a-9f36-0cf98edf3fee",
   "metadata": {},
   "outputs": [],
   "source": [
    "tex_ENTREZID<-c()\n",
    "GO <- g_n\n",
    "for (i in GO){\n",
    "  t<-unique((as.character(unlist(strsplit(GO[i,8],split=\"/\")))))\n",
    "  tex_ENTREZID<-append(tex_ENTREZID,t)\n",
    "  tex_ENTREZID<-unique(tex_ENTREZID)\n",
    "}\n",
    "tex_trans <- bitr(tex_ENTREZID, fromType=\"ENTREZID\", toType=c(\"SYMBOL\"), OrgDb=\"org.Hs.eg.db\")\n",
    "head(tex_trans)"
   ]
  },
  {
   "cell_type": "code",
   "execution_count": null,
   "id": "ab603642-0c43-458a-b5dc-4ae62cdafc0a",
   "metadata": {},
   "outputs": [],
   "source": [
    "tex_barcode <- se@colData@listData[[\"Group_Barcode\"]][which(se@colData@listData[[\"T_Cell_Cluster\"]] == \"Cluster17\")]#只选取Cluster为TEx的细胞\n",
    "use_tex<-tex_USE[rownames(tex_USE)%in%tex_barcode,]\n",
    "use_qc_junb<-use_tex[rownames(use_tex)%in%rownames(as.data.frame(sort(apply(use_tex,1,sum),decreasing=TRUE)[1:500])),]#选取RPscore总和前500的细胞\n",
    "TEx_use_junb<-as.data.frame(sort(apply(use_qc_junb[,1:28307],2,mean),decreasing = TRUE)[1:3000]) #选取RPscore总和前3000的target\n",
    "junb_target_igra <- tex_trans$SYMBOL\n",
    "TEx_use_junb$gene<-rownames(TEx_use_junb)\n",
    "weight_junb<-TEx_use_junb[(TEx_use_junb$gene)%in%junb_target_igra,]\n",
    "colnames(weight_junb)<-c('weight','gene')\n",
    "weight_junb <- weight_junb[-c(6,7,9,10,15,17,19),]"
   ]
  },
  {
   "cell_type": "code",
   "execution_count": null,
   "id": "3ce687c8-3e02-4575-a577-e3e6b21b82aa",
   "metadata": {},
   "outputs": [],
   "source": [
    "TEx_graph_junb<-data.frame(matrix(NA,12,2))\n",
    "TEx_graph_junb[,1]<-c(rep('JUNB',12))\n",
    "TEx_graph_junb[1:12,2]<-weight_junb$gene\n",
    "TEx_graph_junb[1:12,3]<-weight_junb$weight\n",
    "head(TEx_graph_junb)\n",
    "colnames(TEx_graph_junb)<-c('TF',\"target\",'weight')\n",
    "name<-data.frame(c(TEx_graph_junb$TF,TEx_graph_junb$target))\n",
    "length(name$c.TEx_graph_junb.TF..TEx_graph_junb.target.)\n",
    "nodes<-name%>%\n",
    "  distinct()%>%\n",
    "  mutate(group=c(rep('4',13)))\n",
    "colnames(nodes)<-c(\"label\",\"group\")\n",
    "\n",
    "nodes[(nodes$label)%in%c('JUNB'),2]='1'\n",
    "nodes[(nodes$label)%in%c(\"TIGIT\",\"DUSP22\",\"CD80\",\"CCL3\",\"CTLA4\",\"SMAD3\"),2]='2' #文献中查阅到的为2\n",
    "nodes[(nodes$label)%in%c(\"PARK7\",\"ADORA2A\",\"TRIB1\",\"RUNX1\",\"IL10\",\"ADTRP\"),2]='3'\n",
    "\n",
    "edges<-TEx_graph_junb%>%\n",
    "  rename(from=TF,to=target,weight=weight)\n"
   ]
  },
  {
   "cell_type": "code",
   "execution_count": null,
   "id": "786079f5-bde4-4a48-acfd-d69afaa9a389",
   "metadata": {},
   "outputs": [],
   "source": [
    "net_pc<-graph_from_data_frame(\n",
    "  d=edges,vertices = nodes,\n",
    "  directed=TRUE)\n",
    "\n",
    "graph_pc<-as_tbl_graph(net_pc)\n",
    "options(repr.plot.width = 10, repr.plot.height = 15,repr.plot.res = 70)\n",
    "par(mar=c(3,3,0.5,0.5),mgp=c(1.5,0.5,0),bg='black')\n",
    "\n",
    "g_merge<-ggraph(graph_pc,layout=\"stress\")+   #kk\n",
    "  geom_edge_link(color='lightblue',aes(edge_width=100*weight),\n",
    "                 arrow = arrow(length = unit(4, 'mm')), \n",
    "                 end_cap = circle(15, 'mm'))+\n",
    "  geom_node_point(aes(color=group),size = 30,alpha=0.4)+\n",
    "  geom_node_text(aes(label = name),size=8) +\n",
    "  scale_color_manual(\n",
    "    values = c(\"1\"=\"#FDB12C\",\"2\"=\"#FF6D6F\",\"3\"=\"#b8b8ff\",'4'='#cddafd')) +\n",
    "  scale_edge_width(range=c(0.5,1.5))+\n",
    "  theme(text = element_text(size=40,family=\"myfont\"))+\n",
    "  theme_void()+\n",
    "  NoLegend()\n",
    "\n",
    "g_merge"
   ]
  }
 ],
 "metadata": {
  "kernelspec": {
   "display_name": "MAESTRO R 4.0.5",
   "language": "R",
   "name": "irmaestro4.0.5"
  },
  "language_info": {
   "codemirror_mode": "r",
   "file_extension": ".r",
   "mimetype": "text/x-r-source",
   "name": "R",
   "pygments_lexer": "r",
   "version": "4.0.5"
  }
 },
 "nbformat": 4,
 "nbformat_minor": 5
}
