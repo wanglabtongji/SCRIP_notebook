{
 "cells": [
  {
   "cell_type": "code",
   "execution_count": null,
   "id": "7be78a08-e639-48af-bd08-ed9718d45d87",
   "metadata": {},
   "outputs": [],
   "source": [
    "library(MAESTRO)\n",
    "library(chromVAR)\n",
    "library(Seurat)\n",
    "library(Matrix)\n",
    "# library(BSgenome.Hsapiens.UCSC.hg19)\n",
    "# library(BSgenome.Hsapiens.UCSC.hg38)\n",
    "library(BiocParallel)\n",
    "library(motifmatchr)\n",
    "library(SummarizedExperiment)\n",
    "library(rhdf5)\n",
    "library(dplyr)\n",
    "library(motifmatchr)\n",
    "# library(chromVARmotifs)\n",
    "# library(JASPAR2016)\n",
    "\n",
    "library(ggplot2)\n",
    "# library(spam)\n",
    "# library(VennDiagram)\n",
    "library(stringr)\n",
    "# library(ggrepel)\n",
    "# library(ggsignif)\n",
    "library(qs)\n",
    "register(MulticoreParam(8))"
   ]
  },
  {
   "cell_type": "code",
   "execution_count": null,
   "id": "16ab428b-4180-4592-b33a-ba3dea1cb089",
   "metadata": {},
   "outputs": [],
   "source": [
    "destination = 'example/PBMC/data/ATAC/filtered_mtx'"
   ]
  },
  {
   "cell_type": "markdown",
   "id": "a42461d6-3459-4f39-a58a-2a056cd0b6b5",
   "metadata": {},
   "source": [
    "# PBMC"
   ]
  },
  {
   "cell_type": "code",
   "execution_count": null,
   "id": "9e6d7953-0777-4152-aa37-c461897e37f0",
   "metadata": {},
   "outputs": [],
   "source": [
    "# pbmc_RNA_object <- readRDS('example/PBMC/data/PBMC_granulocyte_sorted_10k_scRNA_Object.rds')"
   ]
  },
  {
   "cell_type": "markdown",
   "id": "8e79b5fe-b17a-4dd8-8caa-54d1e6b7c9cb",
   "metadata": {},
   "source": [
    "## ATAC-seq analysis"
   ]
  },
  {
   "cell_type": "code",
   "execution_count": null,
   "id": "bd5cfa85-671c-4daa-9ca5-d1c911d180e3",
   "metadata": {
    "scrolled": true
   },
   "outputs": [],
   "source": [
    "pbmc_inputMat <- Read10X_h5('example/PBMC/data/ATAC/filtered_mtx/PBMC_granulocyte_sorted_10k_filtered_peak_count.h5')"
   ]
  },
  {
   "cell_type": "code",
   "execution_count": null,
   "id": "d167083f-a796-4ebd-afcf-432b6a93138e",
   "metadata": {},
   "outputs": [],
   "source": [
    "pbmc_inputMat"
   ]
  },
  {
   "cell_type": "code",
   "execution_count": null,
   "id": "bb368ed7-4af2-4a7f-88ca-cb298489b391",
   "metadata": {
    "tags": []
   },
   "outputs": [],
   "source": [
    "# rna_bc <- rownames(pbmc_RNA_object$RNA@meta.data)\n",
    "\n",
    "# key = read.table('example/PBMC/barcode_key.txt',sep='\\t', header=TRUE)\n",
    "\n",
    "# key[which(key$RNA %in% rna_bc),'ATAC']\n",
    "\n",
    "# atac_bc <- key[which(key$RNA %in% rna_bc),'ATAC']"
   ]
  },
  {
   "cell_type": "code",
   "execution_count": null,
   "id": "dffaa1e5-080c-4211-aa02-a0d7c83160eb",
   "metadata": {},
   "outputs": [],
   "source": [
    "# atac_match_bc <- colnames(pbmc_inputMat)[colnames(pbmc_inputMat) %in% atac_bc]"
   ]
  },
  {
   "cell_type": "code",
   "execution_count": null,
   "id": "c7e21457-e42c-4658-b19f-748d0a50f172",
   "metadata": {
    "tags": []
   },
   "outputs": [],
   "source": [
    "# filter_pbmc_count <- pbmc_inputMat[,atac_match_bc]"
   ]
  },
  {
   "cell_type": "code",
   "execution_count": null,
   "id": "de888dd4-6f9c-4c00-b190-277f80086250",
   "metadata": {},
   "outputs": [],
   "source": [
    "# gene.id = rownames(filter_pbmc_count)\n",
    "# write10xCounts(\n",
    "#   'example/PBMC/data/PBMC_granulocyte_sorted_10k_peak_count_filter_by_match.h5',\n",
    "#   filter_pbmc_count,\n",
    "#   barcodes = colnames(filter_pbmc_count),\n",
    "#   gene.id = rownames(filter_pbmc_count),\n",
    "#   gene.symbol = gene.id,\n",
    "#   gene.type = \"Chromatin Accessibility\",\n",
    "#   overwrite = FALSE,\n",
    "#   type = \"HDF5\",\n",
    "#   genome = \"hg38\",\n",
    "#   version = \"3\",\n",
    "#   chemistry = \"Single Cell 3' v3\",\n",
    "#   original.gem.groups = 1L,\n",
    "#   library.ids = \"custom\"\n",
    "# )"
   ]
  },
  {
   "cell_type": "code",
   "execution_count": null,
   "id": "b0ad98dd-e4fc-4b7b-8fa6-7cbd2a1b2872",
   "metadata": {},
   "outputs": [],
   "source": [
    "# pbmc.gene <- ATACCalculateGenescore(filter_pbmc_count, organism = \"GRCh38\")"
   ]
  },
  {
   "cell_type": "code",
   "execution_count": null,
   "id": "dcb6d6d9-4647-426b-b49d-73a3788a614f",
   "metadata": {
    "tags": []
   },
   "outputs": [],
   "source": [
    "pbmc.ATAC.res <- ATACRunSeurat(inputMat = pbmc_inputMat,\n",
    "                                 project = \"atac\",\n",
    "                                 min.c = 50,\n",
    "                                 min.p = 500,\n",
    "                                 method = \"LSI\",\n",
    "                                 dims.use = 1:30,\n",
    "                                 cluster.res = 0.6,\n",
    "                                 only.pos = TRUE,\n",
    "                                 peaks.test.use = \"presto\",\n",
    "                                 peaks.cutoff = 1e-05,\n",
    "                                 peaks.pct = 0.1,\n",
    "                                 peaks.logfc = 0.2,\n",
    "                                 outdir = \"example/PBMC/analysis/\")"
   ]
  },
  {
   "cell_type": "code",
   "execution_count": null,
   "id": "52119e3e-3e7a-4238-bf85-84d77ceb9556",
   "metadata": {},
   "outputs": [],
   "source": [
    "# pbmc.ATAC.res$ATAC <- ATACAttachGenescore(ATAC = pbmc.ATAC.res$ATAC, RPmatrix = pbmc.gene)\n",
    "# data(human.immune.CIBERSORT)\n",
    "# pbmc.ATAC.res$ATAC <- ATACAnnotateCelltype(ATAC = pbmc.ATAC.res$ATAC,\n",
    "#                                              signatures = human.immune.CIBERSORT,\n",
    "#                                              min.score = 0.1,\n",
    "#                                              genes.test.use = \"presto\",\n",
    "#                                              genes.cutoff = 1E-5)"
   ]
  },
  {
   "cell_type": "code",
   "execution_count": null,
   "id": "abe99175-e53b-45cc-8baf-81c39e8e9cfd",
   "metadata": {},
   "outputs": [],
   "source": [
    "DimPlot(pbmc.ATAC.res$ATAC, label = TRUE, pt.size = 0.2, repel = T)"
   ]
  },
  {
   "cell_type": "code",
   "execution_count": null,
   "id": "83a1d320-9847-42d8-83f2-d6a91b628095",
   "metadata": {},
   "outputs": [],
   "source": [
    "# pbmc.ATAC.res$ATAC@reductions$umap@cell.embeddings"
   ]
  },
  {
   "cell_type": "code",
   "execution_count": null,
   "id": "bd066a6c-a995-448d-a103-c68d55999094",
   "metadata": {},
   "outputs": [],
   "source": [
    "# DimPlot(pbmc.ATAC.res$ATAC, label = TRUE, pt.size = 0.2, repel = T, group.by='assign.ident')"
   ]
  },
  {
   "cell_type": "code",
   "execution_count": null,
   "id": "a5576b28-9bfd-4eac-b761-5d721b996c4f",
   "metadata": {},
   "outputs": [],
   "source": [
    "pbmc.ATAC.singlecellexperiment <- as.SingleCellExperiment(pbmc.ATAC.res$ATAC)"
   ]
  },
  {
   "cell_type": "code",
   "execution_count": null,
   "id": "14307702-2b88-4e2e-b4db-81442723ee3d",
   "metadata": {},
   "outputs": [],
   "source": [
    "saveRDS(pbmc.ATAC.singlecellexperiment,'example/PBMC/pbmc_ATAC_singlecellexperiment.rds')"
   ]
  },
  {
   "cell_type": "markdown",
   "id": "60c946f6-6c1e-4ac2-814d-aad2da3be77f",
   "metadata": {},
   "source": [
    "### chromVAR running"
   ]
  },
  {
   "cell_type": "code",
   "execution_count": null,
   "id": "ce79054e-2f74-4896-900f-594a615e1223",
   "metadata": {},
   "outputs": [],
   "source": []
  },
  {
   "cell_type": "code",
   "execution_count": null,
   "id": "6deb6fc7-2e55-4622-a7ec-597ce64b1477",
   "metadata": {
    "scrolled": true
   },
   "outputs": [],
   "source": [
    "pbmc10x_chromVAR <- RunchromVAR(pbmc_10X_inputMat)"
   ]
  },
  {
   "cell_type": "code",
   "execution_count": null,
   "id": "f9c8a335-c53d-4a12-b28c-f9695061499f",
   "metadata": {
    "scrolled": true
   },
   "outputs": [],
   "source": [
    "# pbmc10x_chromVAR would have 3 keys: dev,variability,zscore\n",
    "plotVariability(pbmc10x_chromVAR$variability, use_plotly = T) "
   ]
  },
  {
   "cell_type": "code",
   "execution_count": null,
   "id": "c67d3754-045e-4a0d-a111-c9a6402ec72a",
   "metadata": {
    "scrolled": true
   },
   "outputs": [],
   "source": [
    "qsave(pbmc10x_chromVAR, \"10X_ATAC/per_50_cell_peak/1k_TF_index/run_chromVAR_result.qs\")"
   ]
  },
  {
   "cell_type": "code",
   "execution_count": null,
   "id": "dcb730db-91b4-4729-a887-a330987bdb51",
   "metadata": {
    "scrolled": true
   },
   "outputs": [],
   "source": [
    "pbmc10x_chromVAR <- qread(\"10X_ATAC/per_50_cell_peak/1k_TF_index/run_chromVAR_result.qs\")"
   ]
  },
  {
   "cell_type": "code",
   "execution_count": null,
   "id": "0a702d98-0c56-4c42-8552-70d186cdd8bb",
   "metadata": {
    "scrolled": true
   },
   "outputs": [],
   "source": [
    "TFlist <- head(pbmc10x_chromVAR$variability[order(pbmc10x_chromVAR$variability['variability'], decreasing=T),],5)$name\n",
    "z_frame <- t(pbmc10x_chromVAR$zscore)"
   ]
  },
  {
   "cell_type": "code",
   "execution_count": null,
   "id": "0fb9f32a-1854-421d-b648-196037b2c51d",
   "metadata": {
    "scrolled": true
   },
   "outputs": [],
   "source": [
    "seurat_rds <- readRDS('10X_ATAC/analysis/atac_pbmc_10k_v1_S1_L001/Result/Analysis/atac_pbmc_10k_v1_S1_L001_scATAC_Object.rds')\n",
    "chromVarResult <- mergeChromVarResult(seurat_rds, z_frame)"
   ]
  },
  {
   "cell_type": "code",
   "execution_count": null,
   "id": "c0348612-f6e7-4954-b819-a55117e51811",
   "metadata": {
    "scrolled": true
   },
   "outputs": [],
   "source": [
    "chromVarResult$ATAC@meta.data"
   ]
  },
  {
   "cell_type": "code",
   "execution_count": null,
   "id": "c98e7a14-dc87-476f-a66f-c5ccf0f572b7",
   "metadata": {
    "tags": []
   },
   "outputs": [],
   "source": [
    "for (i in TFlist) {\n",
    "    fig <- FeaturePlot(object = chromVarResult$ATAC, feature=i)\n",
    "    show(fig)\n",
    "}"
   ]
  },
  {
   "cell_type": "code",
   "execution_count": null,
   "id": "e8585563-1eb6-4fc1-8aaa-79f081d5d82d",
   "metadata": {
    "scrolled": true
   },
   "outputs": [],
   "source": [
    "# tmp.path <- \"10X_ATAC/chromVAR_result_more_motif.rds\"\n",
    "# tmp <- readRDS(tmp.path)\n",
    "# qsave(tmp, str_replace(tmp.path, \".rds\", \".qs\"))"
   ]
  },
  {
   "cell_type": "code",
   "execution_count": null,
   "id": "06188a3b-e18a-4932-b48f-a4169364f5bb",
   "metadata": {
    "scrolled": true
   },
   "outputs": [],
   "source": [
    "qsave(chromVarResult, \"10X_ATAC/chromVAR_result_more_motif.qs\")"
   ]
  },
  {
   "cell_type": "code",
   "execution_count": null,
   "id": "41dbd654-e4c6-43d9-8d2b-63476b5874a2",
   "metadata": {
    "scrolled": true
   },
   "outputs": [],
   "source": [
    "chromVarResult <- qread(\"example/10X_ATAC/chromVAR_result_more_motif.qs\")"
   ]
  },
  {
   "cell_type": "code",
   "execution_count": null,
   "id": "56c47526-192f-4356-85f0-d18972996b71",
   "metadata": {
    "scrolled": true
   },
   "outputs": [],
   "source": [
    "write.table(chromVarResult$z,'example/10X_ATAC/chromVar_result_table.txt', quote=FALSE, sep='\\t')"
   ]
  }
 ],
 "metadata": {
  "kernelspec": {
   "display_name": "MAESTRO R 4.0.5",
   "language": "R",
   "name": "irmaestro4.0.5"
  },
  "language_info": {
   "codemirror_mode": "r",
   "file_extension": ".r",
   "mimetype": "text/x-r-source",
   "name": "R",
   "pygments_lexer": "r",
   "version": "4.0.5"
  }
 },
 "nbformat": 4,
 "nbformat_minor": 5
}
