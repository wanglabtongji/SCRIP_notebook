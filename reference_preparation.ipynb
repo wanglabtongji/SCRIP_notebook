{
 "cells": [
  {
   "cell_type": "markdown",
   "metadata": {},
   "source": [
    "# Library"
   ]
  },
  {
   "cell_type": "code",
   "execution_count": 2,
   "metadata": {
    "scrolled": true
   },
   "outputs": [],
   "source": [
    "import os\n",
    "import sys\n",
    "import pandas as pd\n",
    "import numpy as np\n",
    "import seaborn as sns\n",
    "import matplotlib.pyplot as plt\n",
    "import sklearn\n",
    "import time\n",
    "from datetime import datetime\n",
    "\n",
    "plt.rcParams.update({\n",
    "    'figure.figsize': [4.0, 4.0],\n",
    "    'font.size' : 15,\n",
    "    'font.family': 'Arial',\n",
    "    'font.style' : 'normal',\n",
    "    'font.weight':'normal',\n",
    "    'figure.titleweight': 'normal',\n",
    "    'axes.labelsize': 14 ,\n",
    "    'axes.titleweight': 'normal',\n",
    "    'axes.labelweight': 'normal',\n",
    "    'axes.spines.right': False,\n",
    "    'axes.spines.top': False,\n",
    "})"
   ]
  },
  {
   "cell_type": "markdown",
   "metadata": {},
   "source": [
    "# Reference Building"
   ]
  },
  {
   "cell_type": "markdown",
   "metadata": {},
   "source": [
    "## human TF"
   ]
  },
  {
   "cell_type": "code",
   "execution_count": 2,
   "metadata": {},
   "outputs": [],
   "source": [
    "QC = pd.read_csv(\"/fs/home/dongxin/Files/cistrome/human/human_factor_full_QC.txt\", sep = \"\\t\", index_col=0)"
   ]
  },
  {
   "cell_type": "code",
   "execution_count": 3,
   "metadata": {},
   "outputs": [],
   "source": [
    "# correct\n",
    "QC.loc[56245,'Factor'] = 'TEAD1'\n",
    "QC.loc[86201,'Factor'] = 'Input'\n",
    "QC.loc[88593,'Factor'] = 'TP53'\n",
    "QC.loc[88589,'Factor'] = 'TP53'\n",
    "QC.loc[88590,'Factor'] = 'TP53'\n",
    "QC.loc[88587,'Factor'] = 'TP53'\n",
    "QC.loc[88591,'Factor'] = 'TP53'\n",
    "QC.loc[88588,'Factor'] = 'TP53'\n",
    "QC.loc[94019,'Factor'] = 'RELA'\n",
    "QC.loc[89909,'Factor'] = 'SPI1'\n",
    "QC.loc[94017,'Factor'] = 'SPI1'\n",
    "QC.loc[91101,'Factor'] = 'SPI1'\n",
    "QC.loc[89908,'Factor'] = 'SPI1'\n",
    "QC.loc[86683,'Factor'] = 'NR3C1'\n",
    "QC.loc[91098,'Factor'] = 'SPI1'\n",
    "QC.loc[43234,'Factor'] = 'NPPA'\n",
    "QC.loc[34677,'Factor'] = 'ESR2'\n",
    "QC.loc[50107,'Factor'] = 'MIXL1'\n",
    "QC.loc[50108,'Factor'] = 'MIXL1'\n",
    "QC.loc[52969,'Factor'] = 'BATF2'\n",
    "QC.loc[39012,'Factor'] = 'MECOM'\n",
    "QC.loc[34675,'Factor'] = 'ESR2'\n",
    "QC.loc[52573,'Factor'] = 'PGR'\n",
    "QC.loc[52574,'Factor'] = 'PGR'\n",
    "QC.loc[48755,'Factor'] = 'POLR2A'\n",
    "QC.loc[70752,'Factor'] = 'EZH2'\n",
    "QC.loc[48704,'Factor'] = 'FXR'\n",
    "QC.loc[67599,'Factor'] = 'ELF3'\n",
    "QC.loc[83918,'Factor'] = 'CTCF'\n",
    "QC.loc[37565,'Factor'] = 'AP4'\n",
    "QC.loc[40164,'Factor'] = 'RUNX1'\n",
    "QC.loc[39784,'Factor'] = 'RUNX1'\n",
    "QC.loc[38173,'Factor'] = 'ERF'\n",
    "QC.loc[37565,'Factor'] = 'AP4'\n",
    "QC.loc[2467,'Factor'] = 'RXRA'\n",
    "QC.loc[2814,'Factor'] = 'RXRA'\n",
    "QC.loc[2813,'Factor'] = 'RXRA'\n",
    "QC.loc[82146,'Factor'] = 'POLR2A'\n",
    "QC.loc[86686,'Factor'] = 'NR3C1'\n",
    "QC.loc[56668,'Factor'] = 'AR'\n",
    "QC.loc[8456,'Factor'] = 'SMAD1'\n",
    "QC.loc[50878,'Factor'] = 'POLR2A'\n",
    "QC.loc[87159,'Factor'] = 'SMARCA4'\n",
    "QC.loc[70119,'Factor'] = 'NEUROD1'\n",
    "QC.loc[[48277, 48279, 48280, 48263, 48278],'Factor'] = 'GABPA'\n",
    "\n",
    "\n",
    "\n",
    "QC.drop(index=[6559], inplace=True) #Input\n",
    "QC.drop(index=[70093, 70095], inplace=True) #H3K4me3\n",
    "QC.drop(index=[49180], inplace=True) #GFP\n",
    "QC.drop(index=[85740], inplace=True) #Input\n",
    "QC.drop(index=[88981], inplace=True) #H3K4me\n",
    "QC.drop(index=[85741], inplace=True) #Input\n",
    "QC.drop(index=[88976], inplace=True) #H3K4me\n",
    "QC.drop(index=[88980], inplace=True) #H3K4me\n",
    "QC.drop(index=[49936], inplace=True) #Input\n",
    "QC.drop(index=[43237], inplace=True) #H2AZ\n",
    "QC.drop(index=[6573,6572], inplace=True) #Input\n",
    "QC.drop(index=[73452, 72089], inplace=True) #MLL-AF4\n",
    "QC.drop(index=[73462], inplace=True) #MLL-AF9\n",
    "QC.drop(index=[86202], inplace=True) #Input\n",
    "QC.drop(index=[38173], inplace=True) #EBNA2\n",
    "# QC.drop(index=[104822], inplace=True) #ASCL1-NEUROG2-Chimera\n",
    "QC.drop(index=QC[QC.loc[:,'Factor'] == 'FAIRE'].index, inplace=True) #FAIRE\n",
    "QC.drop(index=[39352, 46058, 58874, 58873, 8412], inplace=True) #remove 46058 GATA3 dataset, this datasets motif looks weird, seems not a GATA chip seq\n",
    "QC.drop(index=[49737, 86793, 46149, 46294, 62560, 62561], inplace=True) #remove these datasets, these datasets' motif looks weird, seems chip antibody is bad\n",
    "QC.drop(index=[8673], inplace=True) #mouse sample\n",
    "\n",
    "# remove 62513 ID3 dataset, redownload from https://www.encodeproject.org/files/ENCFF375SIS/@@download/ENCFF375SIS.bed.gz  (encode website)"
   ]
  },
  {
   "cell_type": "code",
   "execution_count": 11,
   "metadata": {},
   "outputs": [
    {
     "data": {
      "text/plain": [
       "2"
      ]
     },
     "execution_count": 11,
     "metadata": {},
     "output_type": "execute_result"
    }
   ],
   "source": [
    "QC = QC[(QC['FRiP']>0.01) & (QC['FastQC']>25) & (QC['PeaksUnionDHSRatio']>0.7) & (QC['PBC']>0.8) & (QC['UniquelyMappedRatio']>0.5) & (QC['PeaksFoldChangeAbove10'] > 100)]\n",
    "QC.Factor.unique().__len__()"
   ]
  },
  {
   "cell_type": "code",
   "execution_count": 12,
   "metadata": {},
   "outputs": [],
   "source": [
    "QC.to_csv('~/human_ca.csv', sep='\\t')"
   ]
  },
  {
   "cell_type": "code",
   "execution_count": 33,
   "metadata": {
    "scrolled": true,
    "tags": []
   },
   "outputs": [
    {
     "name": "stdout",
     "output_type": "stream",
     "text": [
      "SMAD3\n",
      "CDX2\n",
      "GATA6\n",
      "HNF4A\n",
      "NOTCH1\n",
      "RBPJ\n",
      "ZNF143\n",
      "VDR\n",
      "JUND\n",
      "MAX\n",
      "MYC\n",
      "POLR2A\n",
      "EOMES\n",
      "EP300\n",
      "FOXH1\n",
      "FOXP1\n",
      "SMAD2/3\n",
      "SMAD4\n",
      "TRIM28\n",
      "E2F1\n",
      "ELK4\n",
      "GATAD1\n",
      "C17orf49\n",
      "H2AZ\n",
      "NR2C2\n",
      "NR3C1\n",
      "PHF8\n",
      "RELA\n",
      "STAT1\n",
      "CEBPA\n",
      "CTCF\n",
      "RAD21\n",
      "STAG1\n",
      "FOS\n",
      "GATA2\n",
      "RBL2\n",
      "TAL1\n",
      "BCL6\n",
      "GATA1\n",
      "JUN\n",
      "NFYA\n",
      "NFYB\n",
      "RUNX1\n",
      "ZNF263\n",
      "AR\n",
      "FOXA1\n",
      "ESR1\n",
      "GATA3\n",
      "TFAP2A\n",
      "TFAP2C\n",
      "PML\n",
      "CREBBP\n",
      "RARA\n",
      "RXRA\n",
      "ERG\n",
      "HDAC1\n",
      "PPARG\n",
      "RXRG\n",
      "SMARCA4\n",
      "TP63\n",
      "SOX2\n",
      "RUNX2\n",
      "FLI1\n",
      "CEBPB\n",
      "POLR2M\n",
      "NKX3-1\n",
      "POU5F1\n",
      "SPI1\n",
      "ETV4\n",
      "TP73\n",
      "TP53\n",
      "SRC\n",
      "BCLAF1\n",
      "YY1\n",
      "ATF3\n",
      "BHLHE40\n",
      "HEY1\n",
      "JUNB\n",
      "SMAD1\n",
      "TCF7L2\n",
      "RNF2\n",
      "HDAC3\n",
      "EZH2\n",
      "CHD1\n",
      "HDAC2\n",
      "KDM1A\n",
      "RBBP5\n",
      "SAP30\n",
      "CHD7\n",
      "KDM5A\n",
      "KDM4A\n",
      "SUZ12\n",
      "TCF7L1\n",
      "TCF12\n",
      "HCFC1\n",
      "GABPA\n",
      "SMC1A\n",
      "NIPBL\n",
      "BRD4\n",
      "CDK9\n",
      "MED1\n",
      "PR\n",
      "KLF4\n",
      "TET2\n",
      "SMC3\n",
      "CDK8\n",
      "NANOG\n",
      "STAT3\n",
      "SUMO1\n",
      "MECP2\n",
      "PAX5\n",
      "KMT2A\n",
      "FOXM1\n",
      "BCOR\n",
      "NCOR1\n",
      "NCOR2\n",
      "HSF1\n",
      "GRHL2\n",
      "NKX2-1\n",
      "REST\n",
      "NR2F2\n",
      "NR2F1\n",
      "SUMO2\n",
      "REPIN1\n",
      "BRD2\n",
      "HIRA\n",
      "RB1\n",
      "MYOD1\n",
      "CTBP1\n",
      "GTF2B\n",
      "GREB1\n",
      "E2F4\n",
      "TLE3\n",
      "CREB1\n",
      "FOXA2\n",
      "CBFB\n",
      "MYH11\n",
      "ETS1\n",
      "SSRP1\n",
      "E2F7\n",
      "MED12\n",
      "NFATC1\n",
      "LHX2\n",
      "HINFP\n",
      "HOXB13\n",
      "TFDP1\n",
      "RFX1\n",
      "KLF5\n",
      "SP2\n",
      "KLF1\n",
      "NFE2\n",
      "BACH2\n",
      "RUNX1T1\n",
      "OGT\n",
      "ICE1\n",
      "ZC3H8\n",
      "CDK7\n",
      "IRF4\n",
      "MBD2\n",
      "IRF1\n",
      "ZFX\n",
      "TEAD4\n",
      "MAFK\n",
      "POLR3D\n",
      "JARID2\n",
      "ZBTB17\n",
      "ATF2\n",
      "GLI2\n",
      "STAT2\n",
      "CTCFL\n",
      "ZNF83\n",
      "XBP1\n",
      "BRD3\n",
      "JMJD6\n",
      "EBNA3C\n",
      "TERF2\n",
      "HOXC9\n",
      "BRCA1\n",
      "EMX1\n",
      "KDM5B\n",
      "USF2\n",
      "CUX1\n",
      "TBP\n",
      "SREBF1\n",
      "NRF1\n",
      "ESRRA\n",
      "MXI1\n",
      "ZNF384\n",
      "ELK1\n",
      "CHD2\n",
      "SIN3A\n",
      "IKZF1\n",
      "RFX5\n",
      "RCOR1\n",
      "EBF1\n",
      "TBL1XR1\n",
      "MAZ\n",
      "GTF2F1\n",
      "BACH1\n",
      "SMARCC1\n",
      "PRDM1\n",
      "SMARCB1\n",
      "ZKSCAN1\n",
      "ARID3A\n",
      "ATF1\n",
      "UBTF\n",
      "BCL3\n",
      "SIX5\n",
      "ELF1\n",
      "SP1\n",
      "USF1\n",
      "E2F6\n",
      "FOSL2\n",
      "ZBTB33\n",
      "TAF1\n",
      "PBX3\n",
      "EGR1\n",
      "SRF\n",
      "NFIC\n",
      "ZBTB7A\n",
      "BATF\n",
      "POU2F2\n",
      "MEF2A\n",
      "ZEB1\n",
      "STAT5A\n",
      "MTA3\n",
      "SP4\n",
      "TAF7\n",
      "CBX3\n",
      "FOSL1\n",
      "CEBPD\n",
      "HNF4G\n",
      "TTF1\n",
      "GATA4\n",
      "TEAD1\n",
      "SNAI2\n",
      "PRKDC\n",
      "KDM6B\n",
      "SPIB\n",
      "AFF4\n",
      "ELL2\n",
      "CPSF3L\n",
      "PDX1\n",
      "HIF1A\n",
      "RPE\n",
      "RARG\n",
      "PROX1\n",
      "DEK\n",
      "ASCL1\n",
      "LMO2\n",
      "CHD8\n",
      "WDR5\n",
      "KLF9\n",
      "ARRB1\n",
      "DDX21\n",
      "EZH1\n",
      "MYB\n",
      "KLF11\n",
      "OTX2\n",
      "PAX6\n",
      "PIAS1\n",
      "ASH2L\n",
      "TCF4\n",
      "THAP11\n",
      "MRE11A\n",
      "TOP1\n",
      "TCF21\n",
      "PGR\n",
      "T\n",
      "FUS\n",
      "LYL1\n",
      "NELFE\n",
      "SUPT5H\n",
      "LEF1\n",
      "MEF2B\n",
      "DAXX\n",
      "FOXO1\n",
      "YAP1\n",
      "NCAPG\n",
      "WWTR1\n",
      "KMT2D\n",
      "NELFA\n",
      "ATF4\n",
      "PAF1\n",
      "LARP7\n",
      "HEXIM1\n",
      "JMJD1C\n",
      "MAF\n",
      "XRN2\n",
      "MLLT1\n",
      "SETD1A\n",
      "MBD3\n",
      "ZEB2\n",
      "ZNF2\n",
      "ZNF175\n",
      "ZNF600\n",
      "TARDBP\n",
      "KLF17\n",
      "CHAMP1\n",
      "ZNF76\n",
      "HES2\n",
      "ZNF639\n",
      "NBN\n",
      "HLTF\n",
      "CREB3\n",
      "CEBPG\n",
      "ZNF24\n",
      "TFAP4\n",
      "MTA2\n",
      "PKNOX1\n",
      "CDC5L\n",
      "SP3\n",
      "HDGF\n",
      "ZNF584\n",
      "ARNT\n",
      "ZBTB11\n",
      "DNMT3B\n",
      "SMARCE1\n",
      "ZNF346\n",
      "DIDO1\n",
      "FOXK2\n",
      "ZSCAN29\n",
      "ZNF341\n",
      "ZNF766\n",
      "NFE2L2\n",
      "EED\n",
      "ZBED1\n",
      "ZNF391\n",
      "GLI4\n",
      "TRIM25\n",
      "TSHZ1\n",
      "PRDM10\n",
      "DPF2\n",
      "ZBTB40\n",
      "SMAD5\n",
      "MBD1_isoform2\n",
      "PBX2\n",
      "GABP\n",
      "ETV1\n",
      "PTTG1\n",
      "OSR2\n",
      "ZNF335\n",
      "NKRF\n",
      "SCRT2\n",
      "C11orf30\n",
      "ZNF318\n",
      "ZSCAN5A\n",
      "ZFP37\n",
      "POLR2AphosphoS5\n",
      "ZFP69B\n",
      "DDX20\n",
      "INSM2\n",
      "GATAD2B\n",
      "MBD1_isoform1\n",
      "CSDE1\n",
      "PYGO2\n",
      "ZFP2\n",
      "ZNF692\n",
      "MIER1\n",
      "ADNP\n",
      "TCF7\n",
      "SOX13\n",
      "GFI1B\n",
      "ZKSCAN8\n",
      "ZNF501\n",
      "SP7\n",
      "ZNF423\n",
      "ZBTB8A\n",
      "GLIS1\n",
      "ZNF654\n",
      "NR2F6\n",
      "RAD51\n",
      "HLF\n",
      "L3MBTL2\n",
      "GLIS2\n",
      "ZXDB\n",
      "ZNF197\n",
      "ZNF589\n",
      "KLF7\n",
      "SCRT1\n",
      "KLF13\n",
      "HBP1\n",
      "TEAD2\n",
      "KLF8\n",
      "KDM4B\n",
      "MEF2D\n",
      "HHEX\n",
      "NFRKB\n",
      "ZNF580\n",
      "ZNF792\n",
      "ZNF610\n",
      "ZNF592\n",
      "ZSCAN23\n",
      "MYNN\n",
      "E2F5\n",
      "ZNF362\n",
      "ZNF644\n",
      "ZNF740\n",
      "TBX21\n",
      "KLF16\n",
      "ZSCAN20\n",
      "ZNF324\n",
      "OVOL3\n",
      "BCL11B\n",
      "HNF1A\n",
      "HIC1\n",
      "IKZF2\n",
      "MAFG\n",
      "CBX1\n",
      "FEZF1\n",
      "TRIM22\n",
      "FOXJ2\n",
      "ZMYM3\n",
      "ZNF382\n",
      "ZSCAN16\n",
      "ZNF800\n",
      "SMARCA5\n",
      "ZNF687\n",
      "CREM\n",
      "TRIM24\n",
      "EGR2\n",
      "IRF9\n",
      "ZBTB1\n",
      "NCOA1\n",
      "WT1\n",
      "PATZ1\n",
      "ZNF18\n",
      "TGIF2\n",
      "KLF15\n",
      "ZFP64\n",
      "ZSCAN22\n",
      "ZBTB48\n",
      "ZBTB6\n",
      "SIX2\n",
      "ELF3\n",
      "NFKB1\n",
      "NR4A1\n",
      "BIRA\n",
      "NR1H3\n",
      "NR1H2\n",
      "NEUROD1\n",
      "DNMT3A\n",
      "SOX4\n",
      "SIX1\n",
      "TBX5\n",
      "KDM2B\n",
      "AFF1\n",
      "MEN1\n",
      "KLF10\n",
      "TSC22D4\n",
      "ETV6\n",
      "ZBTB2\n",
      "FOXO3\n",
      "MYCN\n",
      "RELB\n",
      "MAML3\n",
      "ZMYND8\n",
      "ZBTB16\n",
      "NEUROG2\n",
      "EBF3\n",
      "CD74\n",
      "CNOT3\n",
      "ZNF282\n",
      "ZSCAN2\n",
      "DPF1\n",
      "ZNF75A\n",
      "WDHD1\n",
      "NFIA\n",
      "REL\n",
      "NCAPH2\n",
      "MKL2\n",
      "INTS11\n",
      "GTF3C5\n",
      "PHIP\n",
      "EWSR1\n",
      "ERF\n",
      "U2AF1\n",
      "SMAD2\n",
      "FGFR1\n",
      "ARID2\n",
      "ARID1A\n",
      "SS18\n",
      "PRMT1\n",
      "CHD4\n"
     ]
    }
   ],
   "source": [
    "factor_list = QC.Factor.unique().tolist()\n",
    "keep_max_n = 1\n",
    "for f in factor_list:\n",
    "    if len(QC[(QC[\"Factor\"] == f)]) > keep_max_n:\n",
    "        print(f)\n",
    "        need_remove_table_factor = QC[(QC[\"Factor\"] == f)].copy()\n",
    "        cell_line_list = need_remove_table_factor.Cell_line.unique().tolist()\n",
    "        cell_type_list = need_remove_table_factor.Cell_type.unique().tolist()\n",
    "        tissue_type_list = need_remove_table_factor.Tissue_type.unique().tolist()\n",
    "        for cl in cell_line_list:\n",
    "            for ct in cell_type_list:\n",
    "                for tt in tissue_type_list:\n",
    "#                     print(f, cl,ct,tt)\n",
    "                    check_table = need_remove_table_factor[(need_remove_table_factor[\"Cell_line\"] == cl) & (need_remove_table_factor[\"Cell_type\"] == ct) & (need_remove_table_factor[\"Tissue_type\"] == tt)]\n",
    "                    if len(check_table) > keep_max_n:\n",
    "                        need_remove_table_cl = check_table.copy()\n",
    "                        remove_id = list(set(need_remove_table_cl.index.tolist()) - set(need_remove_table_cl.sort_values(by=\"PeaksFoldChangeAbove10\", ascending=False).head(keep_max_n).index.tolist()))\n",
    "                        QC = QC.drop(index=remove_id)\n",
    "                    else:\n",
    "                        continue\n",
    "    else:\n",
    "        continue"
   ]
  },
  {
   "cell_type": "code",
   "execution_count": 18,
   "metadata": {},
   "outputs": [],
   "source": [
    "raw_folder_path = \"/fs/data/cistrome/peak/human_factor/\"\n",
    "aim_path = '/fs/home/dongxin/Projects/SCRIPT/indices/human/tf_chip_qc_5fold_motif/'"
   ]
  },
  {
   "cell_type": "code",
   "execution_count": 19,
   "metadata": {},
   "outputs": [],
   "source": [
    "for dcid in QC.index:\n",
    "    factor = QC.loc[dcid, \"Factor\"]\n",
    "    if \"/\" in factor or \"_\" in factor:\n",
    "        factor = factor.replace(\"/\", \"or\").replace(\"_\", \"\")\n",
    "    os.system(\"cp %s/%s_*.bed %s/%s_%s.bed\" % (raw_folder_path, dcid, aim_path, factor, dcid))"
   ]
  },
  {
   "cell_type": "code",
   "execution_count": 4,
   "metadata": {},
   "outputs": [],
   "source": [
    "# length_table = pd.read_csv('/fs/home/dongxin/Projects/SCRIPT/indices/human/tf_chip_qc_5fold_motif_index/human_tf_index.tsv', sep='\\t', index_col=1)\n",
    "# length_table['total_bp'] = np.round(length_table['Number of regions']*length_table['Avg size'])/10000\n",
    "# length_table.index = [i[0:-7] for i in length_table.index]\n",
    "\n",
    "# pd.DataFrame(length_table.loc[:,\"total_bp\"]).to_csv('/fs/home/dongxin/Projects/SCRIPT/indices/human/tf_chip_qc_5fold_motif/peaks_length.txt', sep='\\t', header=None)"
   ]
  },
  {
   "cell_type": "markdown",
   "metadata": {},
   "source": [
    "```bash\n",
    "rm ID3_62513.bed\n",
    "wget https://www.encodeproject.org/files/ENCFF375SIS/@@download/ENCFF375SIS.bed.gz -O ID3_62513.bed.gz\n",
    "gunzip ID3_62513.bed.gz\n",
    "```"
   ]
  },
  {
   "cell_type": "markdown",
   "metadata": {},
   "source": [
    "```bash\n",
    "\n",
    "for file in *.bed\n",
    "do\n",
    "    echo ${file}\n",
    "    awk -F \"\\t\" '$7>5 {print}' ${file} | sort --buffer-size 2G -k1,1 -k2,2n -k3,3n | bedtools merge | bgzip -c > ${file}.gz #sort -nr -k 7 |\n",
    "done\n",
    "rm *.bed\n",
    "```\n",
    "\n",
    "```bash\n",
    "for i in *.bed.gz; do echo ${i::-7}; number=`zcat $i | wc -l`; echo -e ${i::-7}'\\t'$number >> peaks_number.txt ;done\n",
    "\n",
    "\n",
    "for i in `awk '{if ($2 < 1000) print $1}' peaks_number.txt`\n",
    "do\n",
    "rm ${i}*\n",
    "done\n",
    "\n",
    "rm peaks_number.txt; for i in *.bed.gz; do echo ${i::-7}; number=`zcat $i | wc -l`; echo -e ${i::-7}'\\t'$number >> peaks_number.txt ;done\n",
    "```"
   ]
  },
  {
   "cell_type": "markdown",
   "metadata": {},
   "source": [
    "### motif"
   ]
  },
  {
   "cell_type": "markdown",
   "metadata": {},
   "source": [
    "```bash\n",
    "for i in *.motif\n",
    "do\n",
    "    scanMotifGenomeWide.pl ${i} hg38 -bed > ../motif_bed/${i/.motif/}.bed\n",
    "done\n",
    "\n",
    "cut -f 1,2,3 hg38-ccREs.bed > hg38-ccREs.3col.bed\n",
    "cat DHS_hg38.bed hg38-ccREs.3col.bed | bedtools sort | bedtools merge > hg38_DHS_all.bed\n",
    "bedtools intersect -v -a hg38_DHS_all.bed -b hg38_blacklist.bed.gz > hg38_all_DHS_remove_black.bed\n",
    "\n",
    "n=0\n",
    "for f in *\n",
    "do \n",
    "    fl[$n]=$f\n",
    "    let 'n++'\n",
    "done\n",
    "\n",
    "i=0\n",
    "while(($i < $n))\n",
    "do\n",
    "    nc=`ps -ef | grep wanglab | grep bedtools | grep intersect | wc -l`\n",
    "    if [ ${nc} -le 40 ]\n",
    "    then\n",
    "        echo ${fl[$i]}\n",
    "        bedtools intersect -wa -a ${fl[$i]} -b ../hg38_all_DHS_remove_black.bed | sort -k 5 -nr | head -n 25000 | awk -F '\\t' '{X=170; mid=(int($2)+int($3))/2;printf(\"%s\\t%d\\t%d\\t%s\\t%f\\n\",$1,(mid-X<0?0:mid-X),mid+X,$4,$5);}' | bedtools sort | bedtools merge > ../bed_with_CCRE_resize/${fl[$i]} &\n",
    "        let 'i++'\n",
    "    else\n",
    "        sleep 3\n",
    "    fi\n",
    "done\n",
    "\n",
    "\n",
    "for i in *\n",
    "do\n",
    "    echo $i\n",
    "    filename=${i/.bed/}_motif.bed\n",
    "    cat ${i} | bgzip -c > ../tf_chip_qc_5fold_motif/${filename}.gz\n",
    "done\n",
    "\n",
    "\n",
    "for i in *.bed.gz; do echo ${i::-7}; number=`zcat $i | wc -l`; echo -e ${i::-7}'\\t'$number >> peaks_number.txt ;done\n",
    "\n",
    "for i in `awk '{if ($2 < 1000) print $1}' peaks_number.txt`\n",
    "do\n",
    "    rm ${i}*\n",
    "done\n",
    "\n",
    "rm peaks_number.txt; for i in *.bed.gz; do echo ${i::-7}; number=`zcat $i | wc -l`; echo -e ${i::-7}'\\t'$number >> peaks_number.txt ;done\n",
    "\n",
    "ulimit -n 4096 \n",
    "giggle index -i '*.bed.gz' -o ../tf_chip_qc_5fold_motif_giggle -f -s \n",
    "\n",
    "\n",
    "cd ..\n",
    "cp tf_chip_qc_5fold_motif tf_chip_qc_5fold_motif_giggle/raw_beds -r\n",
    "cd tf_chip_qc_5fold_motif_giggle/raw_beds\n",
    "for i in *.bed.gz; do echo ${i::-7}; number=`zcat $i | wc -l`; echo -e ${i::-7}'\\t'$number >> ../peaks_number.txt ;done\n",
    "```\n",
    "\n",
    "\n"
   ]
  },
  {
   "cell_type": "code",
   "execution_count": 34,
   "metadata": {},
   "outputs": [],
   "source": [
    "QC.to_csv('/fs/home/dongxin/Projects/SCRIPT/indices/human/tf_chip_qc_5fold_motif_giggle/info.txt', index=True, header=True, sep='\\t')"
   ]
  },
  {
   "cell_type": "markdown",
   "metadata": {},
   "source": [
    "## human histone"
   ]
  },
  {
   "cell_type": "code",
   "execution_count": 115,
   "metadata": {},
   "outputs": [],
   "source": [
    "QC = pd.read_csv(\"/fs/home/dongxin/Files/cistrome/human/human_hm_full_QC.txt\", sep = \"\\t\", index_col=0)\n",
    "# activate_histone = ['H3K4me3', 'H3K4me2', 'H3K27ac', 'H3K9ac', 'H3K4me1']"
   ]
  },
  {
   "cell_type": "code",
   "execution_count": 8,
   "metadata": {},
   "outputs": [
    {
     "data": {
      "text/plain": [
       "53"
      ]
     },
     "execution_count": 8,
     "metadata": {},
     "output_type": "execute_result"
    }
   ],
   "source": [
    "QC = QC[(QC['FRiP']>0.01) & (QC['FastQC']>25) & (QC['PeaksUnionDHSRatio']>0.7) & (QC['PBC']>0.8)  & (QC['UniquelyMappedRatio']>0.5) & (QC['PeaksFoldChangeAbove10'] > 100)]\n",
    "QC.Factor.unique().__len__()"
   ]
  },
  {
   "cell_type": "code",
   "execution_count": 5,
   "metadata": {},
   "outputs": [],
   "source": [
    "QC = QC[QC['Factor'].isin(activate_histone)]"
   ]
  },
  {
   "cell_type": "code",
   "execution_count": 9,
   "metadata": {},
   "outputs": [],
   "source": [
    "QC.to_csv('~/human_hm.csv', sep='\\t')"
   ]
  },
  {
   "cell_type": "code",
   "execution_count": null,
   "metadata": {
    "scrolled": true,
    "tags": []
   },
   "outputs": [],
   "source": [
    "for f in activate_histone:\n",
    "    if len(QC[(QC[\"Factor\"] == f)]) > 2:\n",
    "        print(f)\n",
    "        need_remove_table_factor = QC[(QC[\"Factor\"] == f)].copy()\n",
    "        cell_line_list = need_remove_table_factor.Cell_line.unique().tolist()\n",
    "        cell_type_list = need_remove_table_factor.Cell_type.unique().tolist()\n",
    "        tissue_type_list = need_remove_table_factor.Tissue_type.unique().tolist()\n",
    "        for cl in cell_line_list:\n",
    "            for ct in cell_type_list:\n",
    "                for tt in tissue_type_list:\n",
    "#                     print(f, cl,ct,tt)\n",
    "                    check_table = need_remove_table_factor[(need_remove_table_factor[\"Cell_line\"] == cl) & (need_remove_table_factor[\"Cell_type\"] == ct) & (need_remove_table_factor[\"Tissue_type\"] == tt)]\n",
    "                    if len(check_table) > 2:\n",
    "                        need_remove_table_cl = check_table.copy()\n",
    "                        remove_id = list(set(need_remove_table_cl.index.tolist()) - set(need_remove_table_cl.sort_values(by=\"PeaksFoldChangeAbove10\", ascending=False).head(1).index.tolist()))\n",
    "                        QC = QC.drop(index=remove_id)\n",
    "                    else:\n",
    "                        continue\n",
    "    else:\n",
    "        continue"
   ]
  },
  {
   "cell_type": "code",
   "execution_count": null,
   "metadata": {},
   "outputs": [],
   "source": [
    "raw_folder_path = \"/fs/data/cistrome/peak/human_hm\"\n",
    "aim_path = '/fs/home/dongxin/Projects/SCRIPT/indices/human/hm_chip_qc_5fold/'\n",
    "QC.to_csv(aim_path+'/info.txt', index=True, header=True, sep='\\t')\n",
    "for dcid in QC.index:\n",
    "    factor = QC.loc[dcid, \"Factor\"]\n",
    "    if \"/\" in factor or \"_\" in factor:\n",
    "        factor = factor.replace(\"/\", \"or\").replace(\"_\", \"\")\n",
    "    os.system(\"cp %s/%s_*.bed %s/%s_%s.bed\" % (raw_folder_path, dcid, aim_path, factor, dcid))"
   ]
  },
  {
   "cell_type": "markdown",
   "metadata": {},
   "source": [
    "```bash\n",
    "\n",
    "for file in *.bed\n",
    "do\n",
    "    echo ${file}\n",
    "    awk -F \"\\t\" '$7>5 {print}' ${file} | sort --buffer-size 2G -k1,1 -k2,2n -k3,3n | bedtools merge | bgzip -c > ${file}.gz\n",
    "done\n",
    "rm *.bed\n",
    "```\n",
    "\n",
    "```bash\n",
    "for i in *.bed.gz; do echo ${i::-7}; number=`zcat $i | wc -l`; echo -e ${i::-7}'\\t'$number >> peaks_number.txt ;done\n",
    "\n",
    "\n",
    "for i in `awk '{if ($2 < 3000) print $1}' peaks_number.txt`\n",
    "do\n",
    "rm ${i}*\n",
    "done\n",
    "\n",
    "rm peaks_number.txt; for i in *.bed.gz; do echo ${i::-7}; number=`zcat $i | wc -l`; echo -e ${i::-7}'\\t'$number >> peaks_number.txt ;done\n",
    "```"
   ]
  },
  {
   "cell_type": "code",
   "execution_count": 20,
   "metadata": {},
   "outputs": [],
   "source": [
    "length_table = pd.read_csv('/fs/home/dongxin/Projects/SCRIPT/indices/human/hm_chip_qc_5fold_index/human_histone_index.tsv', sep='\\t', index_col=1)\n",
    "length_table['total_bp'] = np.round(length_table['Number of regions']*length_table['Avg size'])/10000\n",
    "length_table.index = [i[0:-7] for i in length_table.index]\n",
    "\n",
    "pd.DataFrame(length_table.loc[:,\"total_bp\"]).to_csv('/fs/home/dongxin/Projects/SCRIPT/indices/human/hm_chip_qc_5fold/peaks_length.txt', sep='\\t', header=None)"
   ]
  },
  {
   "cell_type": "markdown",
   "metadata": {},
   "source": [
    "## mouse TF"
   ]
  },
  {
   "cell_type": "code",
   "execution_count": 13,
   "metadata": {},
   "outputs": [],
   "source": [
    "QC = pd.read_csv(\"/fs/home/dongxin/Files/cistrome/mouse/mouse_factor_full_QC.txt\", sep = \"\\t\", index_col=0)"
   ]
  },
  {
   "cell_type": "code",
   "execution_count": 20,
   "metadata": {},
   "outputs": [],
   "source": [
    "QC = pd.read_csv(\"/fs/home/dongxin/Files/cistrome/mouse/mouse_ca_full_QC.txt\", sep = \"\\t\", index_col=0)"
   ]
  },
  {
   "cell_type": "code",
   "execution_count": 14,
   "metadata": {},
   "outputs": [],
   "source": [
    "# correct till Aug 13\n",
    "QC.loc[55978,'Cell_type'] = 'Brain'\n",
    "QC.loc[55978,'Tissue_type'] = 'Embryo'\n",
    "QC.loc[55964,'Cell_type'] = 'Cortex'\n",
    "QC.loc[55968,'Cell_type'] = 'Pancreas'\n",
    "QC.loc[55976,'Cell_type'] = 'Brain'\n",
    "QC.loc[55962,'Cell_type'] = 'Cortex'\n",
    "QC.loc[55966,'Cell_type'] = 'Pancreas'\n",
    "QC.loc[55974,'Cell_type'] = 'Brain'\n",
    "QC.loc[4501,'Cell_type'] = 'Embryoid Bodies'\n",
    "QC.loc[51815,'Cell_type'] = 'Embryonic Stem Cells'\n",
    "QC.loc[49151,'Cell_type'] = 'Liver'\n",
    "QC.loc[68937,'Factor'] = 'TRIM28'\n",
    "QC.loc[56270, 'Factor'] = 'AR'\n",
    "QC.loc[56271,'Factor'] = 'AR'\n",
    "QC.loc[56272,'Factor'] = 'AR'\n",
    "QC.loc[72519,'Factor'] = 'RELA'\n",
    "QC.loc[72520,'Factor'] = 'RELA'\n",
    "QC.loc[72533,'Factor'] = 'POLR2A'\n",
    "QC.loc[72534,'Factor'] = 'POLR2A'\n",
    "QC.loc[72535,'Factor'] = 'POLR2A'\n",
    "QC.loc[83902,'Factor'] = 'FOXO3A'\n",
    "QC.loc[72705,'Factor'] = 'TCF3'\n",
    "QC.loc[72706,'Factor'] = 'TCF3'\n",
    "QC.loc[67261,'Factor'] = 'EP300'\n",
    "QC.loc[67258,'Factor'] = 'SPI1'\n",
    "QC.loc[83997,'Factor'] = 'TBX19'\n",
    "QC.loc[88124,'Factor'] = 'NR3C1'\n",
    "QC.loc[86118,'Factor'] = 'ASH2L'\n",
    "QC.loc[70132,'Factor'] = 'NR1D1'\n",
    "QC.loc[72731,'Factor'] = 'NR1D1'\n",
    "QC.loc[44415,'Factor'] = 'CHD1'\n",
    "QC.loc[44418,'Factor'] = 'CHD1'\n",
    "QC.loc[50432,'Factor'] = 'HAND2'\n",
    "QC.loc[50164,'Factor'] = 'HAND2'\n",
    "QC.loc[50165,'Factor'] = 'HAND2'\n",
    "QC.loc[54583,'Factor'] = 'GLI3'\n",
    "QC.loc[53236,'Factor'] = 'SIM2'\n",
    "QC.loc[53238,'Factor'] = 'SIM2'\n",
    "QC.loc[53240,'Factor'] = 'SIM2'\n",
    "QC.loc[56484,'Factor'] = 'KAT5'\n",
    "QC.loc[53234,'Factor'] = 'SIM2'\n",
    "QC.loc[48243,'Factor'] = 'MSGN1'\n",
    "QC.loc[41646,'Factor'] = 'PITX2'\n",
    "QC.loc[43656,'Factor'] = 'RARB'\n",
    "QC.loc[72690,'Factor'] = 'POLR2A'\n",
    "QC.loc[87656,'Factor'] = 'POLR2A'\n",
    "QC.loc[93146,'Factor'] = 'NR1D1'\n",
    "QC.loc[93141,'Factor'] = 'NR1D1'\n",
    "QC.loc[93145,'Factor'] = 'NR1D1'\n",
    "QC.loc[93143,'Factor'] = 'NR1D1'\n",
    "QC.loc[93147,'Factor'] = 'NR1D1'\n",
    "QC.loc[93142,'Factor'] = 'NR1D1'\n",
    "QC.loc[94933,'Factor'] = 'RUNX1-RUNX1T1'\n",
    "QC.loc[91350,'Factor'] = 'RUNX1-RUNX1T1'\n",
    "QC.loc[68347,'Factor'] = 'MSIN3A'\n",
    "QC.loc[68346,'Factor'] = 'MSIN3A'\n",
    "QC.loc[70733,'Factor'] = 'TBR2'\n",
    "QC.loc[82562,'Factor'] = 'POLR2A'\n",
    "QC.loc[36258,'Factor'] = 'POLR2A'\n",
    "QC.loc[72730,'Factor'] = 'NR1D1'\n",
    "QC.loc[83918,'Factor'] = 'CTCF'\n",
    "QC.loc[73015,'Factor'] = 'LHX3'\n",
    "QC.loc[73011,'Factor'] = 'LHX3'\n",
    "QC.loc[73018,'Factor'] = 'LHX3'\n",
    "QC.loc[73016,'Factor'] = 'LHX3'\n",
    "QC.loc[73078,'Factor'] = 'LHX3'\n",
    "QC.loc[73063,'Factor'] = 'EBF2'\n",
    "QC.loc[73016,'Factor'] = 'LHX3'\n",
    "QC.loc[73071,'Factor'] = 'NEUROG2'\n",
    "QC.loc[73072,'Factor'] = 'NEUROG2'\n",
    "QC.loc[73064,'Factor'] = 'EBF2'\n",
    "QC.loc[73013,'Factor'] = 'LHX3'\n",
    "QC.loc[73073,'Factor'] = 'LHX3'\n",
    "QC.loc[73058,'Factor'] = 'LHX3'\n",
    "QC.loc[73012,'Factor'] = 'LHX3'\n",
    "QC.loc[73019,'Factor'] = 'LHX3'\n",
    "QC.loc[73059,'Factor'] = 'LHX3'\n",
    "QC.loc[73066,'Factor'] = 'LHX3'\n",
    "QC.loc[73010,'Factor'] = 'LHX3'\n",
    "QC.loc[73085,'Factor'] = 'POU5F1'\n",
    "QC.loc[73017,'Factor'] = 'LHX3'\n",
    "QC.loc[73077,'Factor'] = 'LHX3'\n",
    "\n",
    "\n",
    "\n",
    "QC.drop(index=[59474], inplace=True) #H3K27ac\n",
    "QC.drop(index=[59471], inplace=True) #H3K27ac\n",
    "QC.drop(index=[59472], inplace=True) #H3K27ac\n",
    "QC.drop(index=[59473], inplace=True) #H3K27ac\n",
    "QC.drop(index=[72156], inplace=True) #H3K4me3\n",
    "QC.drop(index=[52674], inplace=True) #H3K4me3\n",
    "QC.drop(index=[8980], inplace=True) #H3K4me3\n",
    "QC.drop(index=[88128], inplace=True) #H3\n",
    "QC.drop(index=[41184], inplace=True) #input\n",
    "QC.drop(index=[34362], inplace=True) #input\n",
    "QC.drop(index=[76982], inplace=True) #H2AX\n",
    "QC.drop(index=[76983], inplace=True) #H2AX\n",
    "QC.drop(index=[88998], inplace=True) #Input\n",
    "QC.drop(index=[36328], inplace=True) #Input\n",
    "QC.drop(index=[32797], inplace=True) #Input\n",
    "QC.drop(index=[69445,69443,69439], inplace=True) #H3\n",
    "QC.drop(index=[55091], inplace=True) #\n",
    "QC.drop(index=[55092], inplace=True) #\n",
    "QC.drop(index=[55100], inplace=True) #\n",
    "QC.drop(index=[55097], inplace=True) #\n",
    "QC.drop(index=[55098,55099], inplace=True) #\n",
    "QC.drop(index=QC[QC.loc[:,'Factor'] == 'FAIRE'].index, inplace=True) #FAIRE"
   ]
  },
  {
   "cell_type": "code",
   "execution_count": 21,
   "metadata": {},
   "outputs": [
    {
     "data": {
      "text/plain": [
       "2"
      ]
     },
     "execution_count": 21,
     "metadata": {},
     "output_type": "execute_result"
    }
   ],
   "source": [
    "QC =  QC[(QC['FRiP']>0.01) & (QC['FastQC']>25) & (QC['PeaksUnionDHSRatio']>0.7) & (QC['PBC']>0.8) & (QC['UniquelyMappedRatio']>0.6) & (QC['PeaksFoldChangeAbove10'] > 100)]\n",
    "QC.Factor.unique().__len__()"
   ]
  },
  {
   "cell_type": "code",
   "execution_count": 22,
   "metadata": {},
   "outputs": [],
   "source": [
    "QC.to_csv('~/mouse_ca.csv', sep='\\t')"
   ]
  },
  {
   "cell_type": "code",
   "execution_count": 75,
   "metadata": {},
   "outputs": [],
   "source": [
    "factor_list = QC.Factor.unique().tolist()\n",
    "for f in factor_list:\n",
    "    if len(QC[(QC[\"Factor\"] == f)]) > 2:\n",
    "        print(f)\n",
    "        need_remove_table_factor = QC[(QC[\"Factor\"] == f)].copy()\n",
    "        cell_line_list = need_remove_table_factor.Cell_line.unique().tolist()\n",
    "        cell_type_list = need_remove_table_factor.Cell_type.unique().tolist()\n",
    "        tissue_type_list = need_remove_table_factor.Tissue_type.unique().tolist()\n",
    "        for cl in cell_line_list:\n",
    "            for ct in cell_type_list:\n",
    "                for tt in tissue_type_list:\n",
    "#                     print(f, cl,ct,tt)\n",
    "                    check_table = need_remove_table_factor[(need_remove_table_factor[\"Cell_line\"] == cl) & (need_remove_table_factor[\"Cell_type\"] == ct) & (need_remove_table_factor[\"Tissue_type\"] == tt)]\n",
    "                    if len(check_table) > 2:\n",
    "                        need_remove_table_cl = check_table.copy()\n",
    "                        remove_id = list(set(need_remove_table_cl.index.tolist()) - set(need_remove_table_cl.sort_values(by=\"PeaksFoldChangeAbove10\", ascending=False).head(1).index.tolist()))\n",
    "                        QC = QC.drop(index=remove_id)\n",
    "                    else:\n",
    "                        continue\n",
    "    else:\n",
    "        continue"
   ]
  },
  {
   "cell_type": "code",
   "execution_count": 77,
   "metadata": {},
   "outputs": [],
   "source": [
    "QC"
   ]
  },
  {
   "cell_type": "code",
   "execution_count": 78,
   "metadata": {},
   "outputs": [],
   "source": [
    "raw_folder_path = \"/fs/data/cistrome/peak/mouse_factor/\"\n",
    "aim_path = '/fs/home/dongxin/Projects/SCRIPT/indices/mouse/tf_chip_qc_5fold'\n",
    "QC.to_csv(aim_path+'/info.txt', index=True, header=True, sep='\\t')\n",
    "for dcid in QC.index:\n",
    "    factor = QC.loc[dcid, \"Factor\"]\n",
    "    if \"/\" in factor or \"_\" in factor:\n",
    "        factor = factor.replace(\"/\", \"or\").replace(\"_\", \"\")\n",
    "    os.system(\"cp %s/%s_*.bed %s/%s_%s.bed\" % (raw_folder_path, dcid, aim_path, factor.capitalize(), dcid))"
   ]
  },
  {
   "cell_type": "code",
   "execution_count": null,
   "metadata": {},
   "outputs": [],
   "source": [
    "factor"
   ]
  },
  {
   "cell_type": "markdown",
   "metadata": {},
   "source": [
    "```bash\n",
    "\n",
    "for file in *.bed\n",
    "do\n",
    "    echo ${file}\n",
    "    awk -F \"\\t\" '$7>5 {print}' ${file} | sort -nr -k 7 | sort --buffer-size 2G -k1,1 -k2,2n -k3,3n | bedtools merge | bgzip -c > ${file}.gz\n",
    "done\n",
    "rm *.bed\n",
    "\n",
    "```\n",
    "\n",
    "\n",
    "```bash\n",
    "for i in *.bed.gz; do echo ${i::-7}; number=`zcat $i | wc -l`; echo -e ${i::-7}'\\t'$number >> peaks_number.txt ;done\n",
    "\n",
    "for i in `awk '{if ($2 < 1000) print $1}' peaks_number.txt`\n",
    "do\n",
    "rm ${i}*\n",
    "done\n",
    "\n",
    "rm peaks_number.txt; for i in *.bed.gz; do echo ${i::-7}; number=`zcat $i | wc -l`; echo -e ${i::-7}'\\t'$number >> peaks_number.txt ;done\n",
    "```"
   ]
  },
  {
   "cell_type": "markdown",
   "metadata": {},
   "source": [
    "### motif"
   ]
  },
  {
   "cell_type": "markdown",
   "metadata": {},
   "source": [
    "```bash\n",
    "for i in *.motif\n",
    "do\n",
    "    scanMotifGenomeWide.pl ${i} mm10 -bed > ../motif_bed/${i/.motif/}.bed\n",
    "done\n",
    "\n",
    "\n",
    "cut -f 1,2,3 mm10-ccREs.bed > mm10-ccREs.3col.bed\n",
    "cat DHS_mm10.bed mm10-ccREs.3col.bed | bedtools sort | bedtools merge > mm10_DHS_all.bed\n",
    "bedtools intersect -v -a mm10_DHS_all.bed -b mm10_blacklist.bed.gz > mm10_all_DHS_remove_black.bed\n",
    "\n",
    "n=0\n",
    "for f in *\n",
    "do \n",
    "    fl[$n]=$f\n",
    "    let 'n++'\n",
    "done\n",
    "\n",
    "i=0\n",
    "while(($i < $n))\n",
    "do\n",
    "    nc=`ps -ef | grep wanglab | grep bedtools | grep intersect | wc -l`\n",
    "    if [ ${nc} -le 40 ]\n",
    "    then\n",
    "        echo ${fl[$i]}\n",
    "        bedtools intersect -wa -a ${fl[$i]} -b ../mm10_all_DHS_remove_black.bed | sort -k 5 -nr | head -n 25000 | awk -F '\\t' '{X=170; mid=(int($2)+int($3))/2;printf(\"%s\\t%d\\t%d\\t%s\\t%f\\n\",$1,(mid-X<0?0:mid-X),mid+X,$4,$5);}' | bedtools sort | bedtools merge > ../bed_with_CCRE_resize/${fl[$i]} &\n",
    "        let 'i++'\n",
    "    else\n",
    "        sleep 3\n",
    "    fi\n",
    "done\n",
    "\n",
    "\n",
    "for i in *\n",
    "do\n",
    "    echo $i\n",
    "    filename=${i/.bed/}_motif.bed\n",
    "    cat ${i} | bgzip -c > ../tf_chip_qc_5fold_motif/${filename}.gz\n",
    "done\n",
    "\n",
    "cd ../tf_chip_qc_5fold_motif/\n",
    "for i in *.bed.gz; do echo ${i::-7}; number=`zcat $i | wc -l`; echo -e ${i::-7}'\\t'$number >> peaks_number.txt ;done\n",
    "\n",
    "for i in `awk '{if ($2 < 1000) print $1}' peaks_number.txt`\n",
    "do\n",
    "    rm ${i}*\n",
    "done\n",
    "\n",
    "rm peaks_number.txt; for i in *.bed.gz; do echo ${i::-7}; number=`zcat $i | wc -l`; echo -e ${i::-7}'\\t'$number >> peaks_number.txt ;done\n",
    "```"
   ]
  },
  {
   "cell_type": "markdown",
   "metadata": {},
   "source": [
    "## mouse histone"
   ]
  },
  {
   "cell_type": "code",
   "execution_count": 112,
   "metadata": {},
   "outputs": [],
   "source": [
    "QC = pd.read_csv(\"/fs/home/dongxin/Files/cistrome/mouse/mouse_hm_full_QC.txt\", sep = \"\\t\", index_col=0)"
   ]
  },
  {
   "cell_type": "code",
   "execution_count": 116,
   "metadata": {},
   "outputs": [],
   "source": [
    "activate_histone = ['H3K4me3', 'H3K4me2', 'H3K27ac', 'H3K9ac', 'H3K4me1', 'H3K27me3']"
   ]
  },
  {
   "cell_type": "code",
   "execution_count": 103,
   "metadata": {},
   "outputs": [
    {
     "data": {
      "text/plain": [
       "45"
      ]
     },
     "execution_count": 103,
     "metadata": {},
     "output_type": "execute_result"
    }
   ],
   "source": [
    "QC = QC[(QC['FRiP']>0.01) & (QC['FastQC']>25) & (QC['PeaksUnionDHSRatio']>0.7) & (QC['PBC']>0.8) & (QC['UniquelyMappedRatio']>0.6) & (QC['PeaksFoldChangeAbove10'] > 100)]\n",
    "\n",
    "QC.Factor.unique().__len__()"
   ]
  },
  {
   "cell_type": "code",
   "execution_count": 117,
   "metadata": {},
   "outputs": [],
   "source": [
    "QC = QC[(QC['FRiP']>0.01) & (QC['FastQC']>25) & (QC['PBC']>0.8) & (QC['UniquelyMappedRatio']>0.6)]"
   ]
  },
  {
   "cell_type": "code",
   "execution_count": 85,
   "metadata": {},
   "outputs": [],
   "source": [
    "mouse_hm_list = QC.Factor.value_counts()[0:15].index.tolist()"
   ]
  },
  {
   "cell_type": "code",
   "execution_count": 95,
   "metadata": {},
   "outputs": [
    {
     "data": {
      "text/plain": [
       "12"
      ]
     },
     "execution_count": 95,
     "metadata": {},
     "output_type": "execute_result"
    }
   ],
   "source": [
    "mouse_hm_list.__len__()"
   ]
  },
  {
   "cell_type": "code",
   "execution_count": 92,
   "metadata": {},
   "outputs": [],
   "source": [
    "# mouse_hm_list.remove('H3.3')\n",
    "# mouse_hm_list.remove('H3.2')\n",
    "# mouse_hm_list.remove('H3.1')\n",
    "# mouse_hm_list.remove('H3')\n",
    "# mouse_hm_list.remove('H2A')\n",
    "# mouse_hm_list.remove('H2AX')\n",
    "# mouse_hm_list.remove('H3K9ac, H3K14ac')"
   ]
  },
  {
   "cell_type": "code",
   "execution_count": 118,
   "metadata": {},
   "outputs": [],
   "source": [
    "QC[QC['Factor'].isin(activate_histone)].to_csv('~/human_ca_filter.txt',sep='\\t')"
   ]
  },
  {
   "cell_type": "code",
   "execution_count": 19,
   "metadata": {},
   "outputs": [],
   "source": [
    "QC.to_csv('~/mouse_hm.csv', sep='\\t')"
   ]
  },
  {
   "cell_type": "code",
   "execution_count": null,
   "metadata": {},
   "outputs": [],
   "source": [
    "QC = QC[QC['Factor'].isin(activate_histone)]"
   ]
  },
  {
   "cell_type": "code",
   "execution_count": null,
   "metadata": {},
   "outputs": [],
   "source": [
    "for f in activate_histone:\n",
    "    if len(QC[(QC[\"Factor\"] == f)]) > 2:\n",
    "        print(f)\n",
    "        need_remove_table_factor = QC[(QC[\"Factor\"] == f)].copy()\n",
    "        cell_line_list = need_remove_table_factor.Cell_line.unique().tolist()\n",
    "        cell_type_list = need_remove_table_factor.Cell_type.unique().tolist()\n",
    "        tissue_type_list = need_remove_table_factor.Tissue_type.unique().tolist()\n",
    "        for cl in cell_line_list:\n",
    "            for ct in cell_type_list:\n",
    "                for tt in tissue_type_list:\n",
    "#                     print(f, cl,ct,tt)\n",
    "                    check_table = need_remove_table_factor[(need_remove_table_factor[\"Cell_line\"] == cl) & (need_remove_table_factor[\"Cell_type\"] == ct) & (need_remove_table_factor[\"Tissue_type\"] == tt)]\n",
    "                    if len(check_table) > 2:\n",
    "                        need_remove_table_cl = check_table.copy()\n",
    "                        remove_id = list(set(need_remove_table_cl.index.tolist()) - set(need_remove_table_cl.sort_values(by=\"PeaksFoldChangeAbove10\", ascending=False).head(1).index.tolist()))\n",
    "                        QC = QC.drop(index=remove_id)\n",
    "                    else:\n",
    "                        continue\n",
    "    else:\n",
    "        continue"
   ]
  },
  {
   "cell_type": "code",
   "execution_count": null,
   "metadata": {},
   "outputs": [],
   "source": [
    "QC"
   ]
  },
  {
   "cell_type": "code",
   "execution_count": 19,
   "metadata": {},
   "outputs": [],
   "source": [
    "raw_folder_path = \"/fs/data/cistrome/peak/mouse_hm/\"\n",
    "aim_path = '/fs/home/dongxin/Projects/SCRIPT/indices/mouse/hm_chip_qc_5fold/'\n",
    "QC.to_csv(aim_path+'/info.txt', index=True, header=True, sep='\\t')\n",
    "for dcid in QC.index:\n",
    "    factor = QC.loc[dcid, \"Factor\"]\n",
    "    if \"/\" in factor or \"_\" in factor:\n",
    "        factor = factor.replace(\"/\", \"or\").replace(\"_\", \"\")\n",
    "    os.system(\"cp %s/%s_*.bed %s/%s_%s.bed\" % (raw_folder_path, dcid, aim_path, factor, dcid))"
   ]
  },
  {
   "cell_type": "markdown",
   "metadata": {},
   "source": [
    "```bash\n",
    "\n",
    "for file in *.bed\n",
    "do\n",
    "    echo ${file}\n",
    "    awk -F \"\\t\" '$7>5 {print}' ${file} | sort --buffer-size 2G -k1,1 -k2,2n -k3,3n | bedtools merge | bgzip -c > ${file}.gz\n",
    "done\n",
    "rm *.bed\n",
    "```\n",
    "\n",
    "```bash\n",
    "for i in *.bed.gz; do echo ${i::-7}; number=`zcat $i | wc -l`; echo -e ${i::-7}'\\t'$number >> peaks_number.txt ;done\n",
    "\n",
    "\n",
    "for i in `awk '{if ($2 < 3000) print $1}' peaks_number.txt`\n",
    "do\n",
    "rm ${i}*\n",
    "done\n",
    "\n",
    "rm peaks_number.txt; for i in *.bed.gz; do echo ${i::-7}; number=`zcat $i | wc -l`; echo -e ${i::-7}'\\t'$number >> peaks_number.txt ;done\n",
    "```"
   ]
  },
  {
   "cell_type": "markdown",
   "metadata": {},
   "source": [
    "------------"
   ]
  },
  {
   "cell_type": "markdown",
   "metadata": {},
   "source": [
    "# Other stastics"
   ]
  },
  {
   "cell_type": "code",
   "execution_count": 44,
   "metadata": {},
   "outputs": [],
   "source": [
    "# os.listdir(\"/fs/home/dongxin/Files/cistrome/human/\")\n",
    "\n",
    "QC = pd.read_csv(\"/fs/home/dongxin/Files/cistrome/human/human_factor_full_QC.txt\", sep = \"\\t\")"
   ]
  },
  {
   "cell_type": "code",
   "execution_count": 41,
   "metadata": {},
   "outputs": [
    {
     "data": {
      "text/plain": [
       "577"
      ]
     },
     "execution_count": 41,
     "metadata": {},
     "output_type": "execute_result"
    }
   ],
   "source": [
    "QC[(QC['FRiP']>0.01) & (QC['FastQC']>25) & (QC['PeaksUnionDHSRatio']>0.7) & (QC['PBC']>0.8) & (QC['PeaksFoldChangeAbove10']>500)].Factor.unique().__len__()"
   ]
  },
  {
   "cell_type": "code",
   "execution_count": 45,
   "metadata": {},
   "outputs": [],
   "source": [
    "QC = QC[(QC['FRiP']>0.01) & (QC['FastQC']>25) & (QC['PeaksUnionDHSRatio']>0.7) & (QC['PBC']>0.8)]"
   ]
  },
  {
   "cell_type": "code",
   "execution_count": 46,
   "metadata": {},
   "outputs": [],
   "source": [
    "factor_list = QC.Factor.unique().tolist()"
   ]
  },
  {
   "cell_type": "code",
   "execution_count": 47,
   "metadata": {},
   "outputs": [],
   "source": [
    "for f in factor_list:\n",
    "    if len(QC[(QC[\"Factor\"] == f)]) > 2:\n",
    "        need_remove_table_factor = QC[(QC[\"Factor\"] == f)]\n",
    "        cell_line_list = need_remove_table_factor.Cell_line.unique().tolist()\n",
    "        for cl in cell_line_list:\n",
    "            if len(need_remove_table_factor[need_remove_table_factor[\"Cell_line\"] == cl]) > 2:\n",
    "                need_remove_table_cl = need_remove_table_factor[need_remove_table_factor[\"Cell_line\"] == cl]\n",
    "                remove_id = list(set(need_remove_table_cl.index.tolist()) - set(need_remove_table_cl.sort_values(by=\"PeaksFoldChangeAbove10\", ascending=False).head(2).index.tolist()))\n",
    "                QC = QC.drop(index=remove_id)\n",
    "            else:\n",
    "                continue\n",
    "    else:\n",
    "        continue"
   ]
  },
  {
   "cell_type": "code",
   "execution_count": null,
   "metadata": {},
   "outputs": [],
   "source": [
    "os.listdir(\"/fs/home/dongxin/Files/cistrome/human/human_factor\")"
   ]
  },
  {
   "cell_type": "code",
   "execution_count": 51,
   "metadata": {},
   "outputs": [],
   "source": [
    "for i in os.listdir(\"/fs/home/dongxin/Files/cistrome/human/human_factor\"):\n",
    "    dcid = int(i.split(\"_\")[0])\n",
    "    factor = QC[QC[\"DCid\"] == dcid][\"Factor\"].to_string().split()[1]\n",
    "    if \"/\" in factor or \"_\" in factor:\n",
    "        factor = factor.replace(\"/\", \"or\").replace(\"_\", \"\")\n",
    "#     Cell_line = QC[QC[\"DCid\"] == dcid][\"Cell_line\"].to_string().split()[1]\n",
    "#     Cell_type = \n",
    "#     Tissue_type\n",
    "    os.system(\"cp /fs/home/dongxin/Files/cistrome/human/human_factor/%s_*.bed /fs/home/dongxin/Projects/SCRIPT/indices/human/tf_chip_qc_3_10k/%s_%s.bed\" % (dcid,factor,dcid))"
   ]
  },
  {
   "cell_type": "markdown",
   "metadata": {},
   "source": [
    "```bash\n",
    "rm peaks_number.txt; for i in *.bed.gz; do echo ${i::-7}; number=`zcat $i | wc -l`; echo -e ${i::-7}'\\t'$number >> peaks_number.txt ;done\n",
    "\n",
    "# rename_factor\n",
    "mv MBD1_isoform2_63122.bed.gz MBD1isoform2_63122_.bed.gz\n",
    "mv MBD1_isoform2_63123.bed.gz MBD1isoform2_63123.bed.gz\n",
    "mv MBD1_isoform1_63464.bed.gz MBD1isoform1_63464.bed.gz\n",
    "mv MBD1_isoform1_63465.bed.gz MBD1isoform1_63465.bed.gz\n",
    "\n",
    "rm FAIRE* # FAIRE-seq sample\n",
    "rm TET2_70093.bed.gz # H3K4me3\n",
    "rm ARID1A_85741.bed.gz # H3K4me\n",
    "rm MLLT3_73462.bed.gz # MLL-AF9\n",
    "rm SND1_38173.bed.gz # EBNA2\n",
    "\n",
    "# bad_quality\n",
    "rm RXRG_2814.bed.gz\n",
    "rm LMO2_36248.bed.gz \n",
    "rm GLI2_38718.bed.gz\n",
    "rm MBD3_40335.bed.gz\n",
    "rm MBD3_41402.bed.gz\n",
    "rm EPAS1_47088.bed.gz\n",
    "rm BRD1_56279.bed.gz\n",
    "rm DPF2_63060.bed.gz\n",
    "rm SMARCA5_69998.bed.gz\n",
    "rm SMARCC1_72099.bed.gz\n",
    "rm STAT1_87922.bed.gz\n",
    "rm SMARCC1_88136.bed.gz\n",
    "rm RXRG_2814.bed.gz \n",
    "\n",
    "# uncorrect factor\n",
    "mv T_88591.bed.gz TP53_88591.bed.gz \n",
    "mv T_88587.bed.gz TP53_88587.bed.gz \n",
    "mv CHRM2_43234.bed.gz NPPA_43234.bed.gz \n",
    "mv CHRM2_34675.bed.gz ESR1_34675.bed.gz \n",
    "mv CHRM2_50107.bed.gz MIXL1_50107.bed.gz \n",
    "mv CHRM2_50108.bed.gz MIXL1_50108.bed.gz \n",
    "mv CHRM2_52573.bed.gz PGR_52573.bed.gz \n",
    "mv CHRM2_52574.bed.gz PGR_52574.bed.gz \n",
    "mv GLI2_86683.bed.gz NR3C1_86683.bed.gz\n",
    "mv GLI2_82146.bed.gz POLR2A_82146.bed.gz\n",
    "mv CBX8_48755.bed.gz POLR2A_48755.bed.gz\n",
    "mv RXRG_2467.bed.gz RXRA_2467.bed.gz\n",
    "mv RXRG_2813.bed.gz RXRA_2813.bed.gz\n",
    "mv RUNX1T1_39784.bed.gz RUNX1_39784.bed.gz\n",
    "mv RUNX1T1_40164.bed.gz RUNX1_40164.bed.gz\n",
    "mv EPAS1_5516.bed.gz HIF1A_5516.bed.gz\n",
    "\n",
    "for i in `awk '{if ($2 < 1000) print $1}' peaks_number.txt`\n",
    "do\n",
    "rm ${i}*\n",
    "done\n",
    "\n",
    "```"
   ]
  },
  {
   "cell_type": "markdown",
   "metadata": {},
   "source": [
    "----------\n",
    "## factor statistic"
   ]
  },
  {
   "cell_type": "code",
   "execution_count": 217,
   "metadata": {
    "scrolled": true
   },
   "outputs": [],
   "source": [
    "annotation_path = '/mnt/Storage2/home/dongxin/Projects/scATAC/reference/giggle.all/CistromeDB.sample.annotation.txt'\n",
    "anno_table = pd.read_csv(annotation_path,sep=\"\\t\")\n",
    "factorid = list(map(str,anno_table[(anno_table[\"FactorType\"]=='tf')][\"ID\"].tolist()))\n",
    "factor_dict = anno_table[(anno_table[\"FactorType\"]=='tf') & (anno_table[\"Species\"]=='Homo sapiens')][[\"ID\",\"Factor\"]].set_index(\"ID\").to_dict()[\"Factor\"]\n",
    "path = '/mnt/Storage/home/dongxin/Storage2/Projects/scATAC/10X_ATAC/per_100_cell_peak/giggle_result/'\n",
    "bigdict = dict()"
   ]
  },
  {
   "cell_type": "code",
   "execution_count": 165,
   "metadata": {
    "scrolled": true
   },
   "outputs": [],
   "source": [
    "stas_dict = {}\n",
    "for i in factor_dict:\n",
    "    if factor_dict[i] in stas_dict:\n",
    "        stas_dict[factor_dict[i]] += 1\n",
    "    else:\n",
    "        stas_dict[factor_dict[i]] = 1\n",
    "    "
   ]
  },
  {
   "cell_type": "code",
   "execution_count": null,
   "metadata": {
    "scrolled": true
   },
   "outputs": [],
   "source": [
    "anno_table[anno_table[\"ID\"]==50]"
   ]
  },
  {
   "cell_type": "code",
   "execution_count": null,
   "metadata": {
    "scrolled": true
   },
   "outputs": [],
   "source": [
    "factor_dict"
   ]
  },
  {
   "cell_type": "code",
   "execution_count": 200,
   "metadata": {
    "scrolled": true
   },
   "outputs": [],
   "source": [
    "cnt_factor_table = pd.DataFrame(stas_dict, index=[\"count\"]).T.sort_values(\"count\",ascending=False)"
   ]
  },
  {
   "cell_type": "code",
   "execution_count": null,
   "metadata": {
    "scrolled": true
   },
   "outputs": [],
   "source": [
    "cnt_factor_table[\"count\"]"
   ]
  },
  {
   "cell_type": "code",
   "execution_count": 207,
   "metadata": {
    "tags": []
   },
   "outputs": [
    {
     "data": {
      "image/png": "[encoded data removed]",
      "text/plain": [
       "<Figure size 504x720 with 1 Axes>"
      ]
     },
     "metadata": {
      "needs_background": "light"
     },
     "output_type": "display_data"
    }
   ],
   "source": [
    "fig, ax = plt.subplots(figsize=(7, 10))\n",
    "ax = sns.barplot(cnt_factor_table[\"count\"][14:50], cnt_factor_table.index.tolist()[14:50])\n",
    "fig.show()"
   ]
  },
  {
   "cell_type": "code",
   "execution_count": 291,
   "metadata": {},
   "outputs": [],
   "source": [
    "# data_info = pd.read_csv('/fs/home/dongxin/Projects/SCRIPT/indices/human/tf_chip_qc_5fold_motif_giggle/info.txt', sep='\\t', index_col=0)\n",
    "data_info = pd.read_csv('/fs/home/dongxin/Projects/SCRIPT/indices/human/hm_chip_qc_5fold_giggle/info.txt', sep='\\t', index_col=0)\n",
    "# data_info = pd.read_csv('/fs/home/dongxin/Projects/SCRIPT/indices/mouse/tf_chip_qc_5fold/info.txt', sep='\\t', index_col=0)\n",
    "# data_info = pd.read_csv('/fs/home/dongxin/Projects/SCRIPT/indices/mouse/hm_chip_qc_5fold/info.txt', sep='\\t', index_col=0)"
   ]
  },
  {
   "cell_type": "code",
   "execution_count": 292,
   "metadata": {},
   "outputs": [],
   "source": [
    "total = data_info.shape[0]\n",
    "\n",
    "tmp = data_info['Tissue_type'].value_counts()"
   ]
  },
  {
   "cell_type": "code",
   "execution_count": 293,
   "metadata": {},
   "outputs": [],
   "source": [
    "break_number = int(0.02*total)\n",
    "for i in enumerate(tmp.values):\n",
    "    if i[1] < break_number:\n",
    "        break_index = i[0]\n",
    "        break\n",
    "\n",
    "datas = list(tmp.values[0:break_index]) + [tmp.values[break_index:].sum()]\n",
    "\n",
    "labels = list(tmp.index[0:break_index]) + [f'{tmp.values[break_index:].__len__()} Minor Tissue Types\\nLess than 2%']\n",
    "labels = [i if i != 'None' else 'Cell Lines or Unclassified' for i in labels ]"
   ]
  },
  {
   "cell_type": "code",
   "execution_count": 294,
   "metadata": {},
   "outputs": [
    {
     "data": {
      "image/png": "[encoded data removed]",
      "text/plain": [
       "<Figure size 720x720 with 1 Axes>"
      ]
     },
     "metadata": {},
     "output_type": "display_data"
    }
   ],
   "source": [
    "def func(pct, allvals):\n",
    "    absolute = int(pct/100.*np.sum(allvals))\n",
    "    return \"{:.1f}%\\n({:d})\".format(pct, absolute)\n",
    "\n",
    "fig,ax = plt.subplots(figsize=[10,10])\n",
    "ax.pie(datas, labels=labels, autopct=lambda pct: func(pct, total), pctdistance=0.8)\n",
    "ax.set_title('Tissue Distribution of Mouse HM Reference Dataset')\n",
    "fig.show()\n",
    "fig.savefig('../../Figures/Tissue_distribution_mouse_hm.pdf', format='pdf')"
   ]
  },
  {
   "cell_type": "code",
   "execution_count": 288,
   "metadata": {},
   "outputs": [
    {
     "name": "stderr",
     "output_type": "stream",
     "text": [
      "/fs/home/dongxin/Applications/miniconda3/envs/SCRIPT/lib/python3.8/site-packages/seaborn-0.11.2-py3.8.egg/seaborn/_decorators.py:36: FutureWarning: Pass the following variables as keyword args: x, y. From version 0.12, the only valid positional argument will be `data`, and passing other arguments without an explicit keyword will result in an error or misinterpretation.\n",
      "  warnings.warn(\n"
     ]
    },
    {
     "data": {
      "image/png": "[encoded data removed]",
      "text/plain": [
       "<Figure size 504x504 with 1 Axes>"
      ]
     },
     "metadata": {
      "needs_background": "light"
     },
     "output_type": "display_data"
    }
   ],
   "source": [
    "tmp = data_info['Factor'].value_counts()\n",
    "fig, ax = plt.subplots(figsize=(7, 7))\n",
    "ax = sns.barplot(tmp.values, tmp.index)\n",
    "fig.show()\n",
    "fig.savefig('../../Figures/human_hm_statistic_0_30.pdf', format='pdf')"
   ]
  },
  {
   "cell_type": "code",
   "execution_count": 211,
   "metadata": {},
   "outputs": [
    {
     "name": "stderr",
     "output_type": "stream",
     "text": [
      "/fs/home/dongxin/Applications/miniconda3/envs/SCRIPT/lib/python3.8/site-packages/seaborn-0.11.2-py3.8.egg/seaborn/_decorators.py:36: FutureWarning: Pass the following variables as keyword args: x, y. From version 0.12, the only valid positional argument will be `data`, and passing other arguments without an explicit keyword will result in an error or misinterpretation.\n",
      "  warnings.warn(\n",
      "/fs/home/dongxin/Applications/miniconda3/envs/SCRIPT/lib/python3.8/site-packages/seaborn-0.11.2-py3.8.egg/seaborn/_decorators.py:36: FutureWarning: Pass the following variables as keyword args: x, y. From version 0.12, the only valid positional argument will be `data`, and passing other arguments without an explicit keyword will result in an error or misinterpretation.\n",
      "  warnings.warn(\n"
     ]
    },
    {
     "data": {
      "image/png": "[encoded data removed]",
      "text/plain": [
       "<Figure size 504x720 with 1 Axes>"
      ]
     },
     "metadata": {
      "needs_background": "light"
     },
     "output_type": "display_data"
    },
    {
     "data": {
      "image/png": "[encoded data removed]",
      "text/plain": [
       "<Figure size 504x720 with 1 Axes>"
      ]
     },
     "metadata": {
      "needs_background": "light"
     },
     "output_type": "display_data"
    }
   ],
   "source": [
    "tmp = data_info['Factor'].value_counts()\n",
    "fig, ax = plt.subplots(figsize=(7, 10))\n",
    "ax = sns.barplot(tmp.values[0:30], tmp.index[0:30])\n",
    "fig.show()\n",
    "fig.savefig('../../Figures/mouse_tf_statistic_0_30.pdf', format='pdf')\n",
    "fig, ax = plt.subplots(figsize=(7, 10))\n",
    "ax = sns.barplot(tmp.values[30:60], tmp.index[30:60])\n",
    "fig.show()\n",
    "fig.savefig('../../Figures/mouse_tf_statistic_30_60.pdf', format='pdf')"
   ]
  },
  {
   "cell_type": "code",
   "execution_count": null,
   "metadata": {},
   "outputs": [],
   "source": []
  },
  {
   "cell_type": "code",
   "execution_count": 5,
   "metadata": {},
   "outputs": [
    {
     "name": "stderr",
     "output_type": "stream",
     "text": [
      "/fs/home/dongxin/Applications/miniconda3/lib/python3.9/site-packages/seaborn-0.11.1-py3.9.egg/seaborn/_decorators.py:36: FutureWarning: Pass the following variables as keyword args: x, y. From version 0.12, the only valid positional argument will be `data`, and passing other arguments without an explicit keyword will result in an error or misinterpretation.\n",
      "  warnings.warn(\n"
     ]
    },
    {
     "data": {
      "image/png": "[encoded data removed]",
      "text/plain": [
       "<Figure size 288x288 with 1 Axes>"
      ]
     },
     "metadata": {
      "needs_background": "light"
     },
     "output_type": "display_data"
    }
   ],
   "source": [
    "fig, ax = plt.subplots(figsize=(4, 4))\n",
    "sns.barplot(['SCRIP (ChIP-seq)', 'SCRIP (Motif)', 'SCRIP (Total)', 'chromVAR (Cis-BP)'], [671, 916, 1252, 870], orient='v')\n",
    "ax.set_title('Number of Human TRs')\n",
    "ax.tick_params(axis='x', rotation=45)\n",
    "fig.show()\n",
    "fig.savefig('../../Figures/human_tf.pdf', format='pdf', bbox_inches='tight')"
   ]
  },
  {
   "cell_type": "code",
   "execution_count": 4,
   "metadata": {},
   "outputs": [
    {
     "name": "stderr",
     "output_type": "stream",
     "text": [
      "/fs/home/dongxin/Applications/miniconda3/lib/python3.9/site-packages/seaborn-0.11.1-py3.9.egg/seaborn/_decorators.py:36: FutureWarning: Pass the following variables as keyword args: x, y. From version 0.12, the only valid positional argument will be `data`, and passing other arguments without an explicit keyword will result in an error or misinterpretation.\n",
      "  warnings.warn(\n"
     ]
    },
    {
     "data": {
      "image/png": "[encoded data removed]",
      "text/plain": [
       "<Figure size 288x288 with 1 Axes>"
      ]
     },
     "metadata": {
      "needs_background": "light"
     },
     "output_type": "display_data"
    }
   ],
   "source": [
    "fig, ax = plt.subplots(figsize=(4, 4))\n",
    "sns.barplot(['SCRIP (ChIP-seq)', 'SCRIP (Motif)', 'SCRIP (Total)', 'chromVAR (Cis-BP)'], [440 , 866 ,997, 850], orient='v')\n",
    "ax.set_title('Number of Mouse TRs')\n",
    "ax.tick_params(axis='x', rotation=45)\n",
    "fig.show()\n",
    "fig.savefig('../../Figures/mouse_tf.pdf', format='pdf', bbox_inches='tight')"
   ]
  },
  {
   "cell_type": "markdown",
   "metadata": {},
   "source": [
    "## bin generation"
   ]
  },
  {
   "cell_type": "code",
   "execution_count": 39,
   "metadata": {
    "tags": []
   },
   "outputs": [],
   "source": [
    "for binsize in [500, 1000, 5000]:\n",
    "    chromsize = pd.read_csv('/fs/home/dongxin/Projects/SCRIPT/indices/reference/hg38_region/hg38.chrom.sizes', sep='\\t', index_col=0, header=None)\n",
    "    with open('/fs/home/dongxin/Projects/SCRIPT/indices/reference/hg38_region/hg38_bin_{binsize}.bed'.format(binsize=binsize), 'w+') as f:\n",
    "        for i in chromsize.index:\n",
    "            chr_length = chromsize.loc[i,1]\n",
    "            for j in range(0,chr_length,binsize):\n",
    "                start = j\n",
    "                end = j + binsize\n",
    "                chrom = i\n",
    "                if end > chr_length:\n",
    "                    end = chr_length\n",
    "                f.write('{chrom}\\t{start}\\t{end}\\n'.format(chrom=chrom, start=start, end=end))"
   ]
  },
  {
   "cell_type": "code",
   "execution_count": 40,
   "metadata": {},
   "outputs": [],
   "source": [
    "for binsize in [500, 1000, 5000]:\n",
    "    chromsize = pd.read_csv('/fs/home/dongxin/Projects/SCRIPT/indices/reference/mm10_region/mm10.chrom.sizes', sep='\\t', index_col=0, header=None)\n",
    "    with open('/fs/home/dongxin/Projects/SCRIPT/indices/reference/mm10_region/mm10_bin_{binsize}.bed'.format(binsize=binsize), 'w+') as f:\n",
    "        for i in chromsize.index:\n",
    "            chr_length = chromsize.loc[i,1]\n",
    "            for j in range(0,chr_length,binsize):\n",
    "                start = j\n",
    "                end = j + binsize\n",
    "                chrom = i\n",
    "                if end > chr_length:\n",
    "                    end = chr_length\n",
    "                f.write('{chrom}\\t{start}\\t{end}\\n'.format(chrom=chrom, start=start, end=end))"
   ]
  },
  {
   "cell_type": "markdown",
   "metadata": {},
   "source": [
    "-----\n",
    "## peak length distribution"
   ]
  },
  {
   "cell_type": "code",
   "execution_count": 14,
   "metadata": {
    "scrolled": true
   },
   "outputs": [],
   "source": [
    "path = '/fs/home/dongxin/Projects/SCRIPT/indices/human/tf_chip_qc_5fold_motif'\n",
    "length = []\n",
    "for i in [i for i in os.listdir(path) if i.endswith('bed.gz')]:\n",
    "    tmp = pd.read_csv(path + '/' + i, sep='\\t', header=None)\n",
    "    length += (tmp[2] - tmp[1]).values.tolist()"
   ]
  },
  {
   "cell_type": "code",
   "execution_count": null,
   "metadata": {},
   "outputs": [],
   "source": [
    "np.mean(length)"
   ]
  },
  {
   "cell_type": "code",
   "execution_count": 19,
   "metadata": {},
   "outputs": [],
   "source": [
    "path = '/fs/home/dongxin/Projects/SCRIPT/indices/mouse/tf_chip_qc_5fold'\n",
    "length = []\n",
    "for i in [i for i in os.listdir(path) if i.endswith('bed.gz')]:\n",
    "    tmp = pd.read_csv(path + '/' + i, sep='\\t', header=None)\n",
    "    length += (tmp[2] - tmp[1]).values.tolist()"
   ]
  },
  {
   "cell_type": "code",
   "execution_count": 20,
   "metadata": {},
   "outputs": [
    {
     "data": {
      "text/plain": [
       "331.5337686468348"
      ]
     },
     "execution_count": 20,
     "metadata": {},
     "output_type": "execute_result"
    }
   ],
   "source": [
    "np.mean(length)"
   ]
  },
  {
   "cell_type": "code",
   "execution_count": 26,
   "metadata": {},
   "outputs": [
    {
     "data": {
      "text/plain": [
       "21928.640625"
      ]
     },
     "execution_count": 26,
     "metadata": {},
     "output_type": "execute_result"
    }
   ],
   "source": [
    "np.mean(pd.read_csv('/fs/home/dongxin/Projects/SCRIPT/indices/mouse/tf_chip_qc_5fold/peaks_number.txt', sep='\\t', header=None)[1])"
   ]
  }
 ],
 "metadata": {
  "kernelspec": {
   "display_name": "Python 3",
   "language": "python",
   "name": "python3"
  },
  "language_info": {
   "codemirror_mode": {
    "name": "ipython",
    "version": 3
   },
   "file_extension": ".py",
   "mimetype": "text/x-python",
   "name": "python",
   "nbconvert_exporter": "python",
   "pygments_lexer": "ipython3",
   "version": "3.9.1"
  }
 },
 "nbformat": 4,
 "nbformat_minor": 4
}
