{
 "cells": [
  {
   "cell_type": "markdown",
   "id": "7f48c2ca-26a5-4645-a5b3-864670bb6d07",
   "metadata": {},
   "source": [
    "## count NMI"
   ]
  },
  {
   "cell_type": "code",
   "execution_count": null,
   "id": "108bab07-24bb-46ae-9276-75327f101c41",
   "metadata": {},
   "outputs": [],
   "source": [
    "library(Seurat)\n",
    "library(NMI)\n",
    "library(RColorBrewer)\n",
    "library(ggplot2)\n",
    "library(dplyr)\n",
    "library(destiny)\n",
    "library(readxl)\n",
    "library(tidyverse)\n",
    "library(ggrepel)\n",
    "library(ggtern)"
   ]
  },
  {
   "cell_type": "code",
   "execution_count": null,
   "id": "ccc68d02-bc10-48ee-8e34-cb6248646fa2",
   "metadata": {},
   "outputs": [],
   "source": [
    "enri<-read.table(\"/fs/home/tangke/human_scATAC/hg38_data/small_HSC/HSC.10_10/enrichment/SCRIPT_enrichment.txt\",header=T)"
   ]
  },
  {
   "cell_type": "code",
   "execution_count": null,
   "id": "0ec9723a-915c-4813-8345-db3abfed0265",
   "metadata": {},
   "outputs": [],
   "source": [
    "meta<-read.table(\"/fs/home/tangke/human_scATAC/hg38_data/small_HSC/metadata.txt\")"
   ]
  },
  {
   "cell_type": "code",
   "execution_count": null,
   "id": "e02e028a-72f6-488a-b313-970a12a22461",
   "metadata": {},
   "outputs": [],
   "source": [
    "meta[which(meta$assign.celltype==\"MCP\"),7]<-\"pDC\""
   ]
  },
  {
   "cell_type": "code",
   "execution_count": null,
   "id": "0de0fc13-9825-4319-98b7-fbd972f88cfb",
   "metadata": {},
   "outputs": [],
   "source": [
    "enri<-enri[rownames(enri)%in%rownames(meta),]"
   ]
  },
  {
   "cell_type": "code",
   "execution_count": null,
   "id": "cf041af0-a574-47e6-a947-7da84e13dd61",
   "metadata": {},
   "outputs": [],
   "source": [
    "enri_b<-t(enri)\n",
    "head(enri_b)\n",
    "seurat <- CreateSeuratObject(counts = enri_b, project = \"hsc\")\n",
    "seurat@assays$RNA@scale.data<-as.matrix(seurat@assays$RNA@counts)\n",
    "seurat <- FindVariableFeatures(seurat, selection.method = \"vst\", nfeatures = 2000)\n",
    "seurat <- RunPCA(seurat, features = VariableFeatures(object = seurat))\n",
    "ElbowPlot(seurat)\n",
    "\n",
    "seurat <- FindNeighbors(seurat, dims = 1:25)\n",
    "seurat <- FindClusters(seurat, resolution = 0.7)\n",
    "seurat <- RunUMAP(seurat, dims = 1:50)\n",
    "DimPlot(seurat, reduction = \"umap\")\n",
    "\n",
    "seurat_ident<-as.data.frame(seurat@active.ident)\n",
    "seurat_ident_2<-seurat_ident\n",
    "seurat_ident_2[,1]<-rownames(seurat_ident)\n",
    "seurat_ident_2[,2]<-seurat_ident[,1]"
   ]
  },
  {
   "cell_type": "code",
   "execution_count": null,
   "id": "ca106665-849a-4023-8687-030d823e346e",
   "metadata": {},
   "outputs": [],
   "source": [
    "c<-merge(seurat_ident_2,meta,by=\"row.names\",sort=F)"
   ]
  },
  {
   "cell_type": "code",
   "execution_count": null,
   "id": "bdd6cc93-9e33-4ed4-b9bc-3771d8db9c14",
   "metadata": {},
   "outputs": [],
   "source": [
    "d<-as.factor(c$assign.celltype)\n",
    "names(d)<-c$Row.names"
   ]
  },
  {
   "cell_type": "code",
   "execution_count": null,
   "id": "fef4d4df-c8c5-4e4a-b5d3-db4e93c77a5c",
   "metadata": {},
   "outputs": [],
   "source": [
    "seurat@active.ident<-d\n",
    "DimPlot(seurat, reduction = \"umap\")"
   ]
  },
  {
   "cell_type": "code",
   "execution_count": null,
   "id": "86f57038-7495-45df-a949-1fefdeaecd9d",
   "metadata": {},
   "outputs": [],
   "source": [
    "type<-as.data.frame(seurat@active.ident)\n",
    "b<-type\n",
    "b[,1]<-rownames(type)\n",
    "b[,2]<-type[,1]\n",
    "head(b)"
   ]
  },
  {
   "cell_type": "code",
   "execution_count": null,
   "id": "6c1794c0-3d5a-452e-bece-1d2b1c470580",
   "metadata": {},
   "outputs": [],
   "source": [
    "mutualinformation=NMI(seurat_ident_2,b)  #To calculate the NMI score\n",
    "mutualinformation"
   ]
  },
  {
   "cell_type": "code",
   "execution_count": null,
   "id": "e5135eb9-f5cc-4627-a26a-25ce0b21f255",
   "metadata": {},
   "outputs": [],
   "source": [
    "setwd(\"/fs/home/tangke/human_scATAC/hg38_data/small_HSC/HSC.10_10\")"
   ]
  },
  {
   "cell_type": "code",
   "execution_count": null,
   "id": "cf9b7613-f963-45ee-9361-8ae533b7769e",
   "metadata": {},
   "outputs": [],
   "source": [
    "saveRDS(seurat,\"HSC_seurat.rds\")  #Save rds"
   ]
  },
  {
   "cell_type": "markdown",
   "id": "bef7a2c9-63d8-4098-a8e0-e5952288011b",
   "metadata": {},
   "source": [
    "## trajectory analysis"
   ]
  },
  {
   "cell_type": "code",
   "execution_count": null,
   "id": "59eba00f-0b83-48c7-a578-7f6fac62ae57",
   "metadata": {},
   "outputs": [],
   "source": [
    "logcounts <- GetAssayData(seurat, \"data\")"
   ]
  },
  {
   "cell_type": "code",
   "execution_count": null,
   "id": "82ea3558-a132-4f35-9e49-ee1af4ba6aa8",
   "metadata": {},
   "outputs": [],
   "source": [
    "feature<-sort(apply(logcounts,1,var),decreasing=TRUE)[1:600] #Choose the top 600 most variable TFs to do the trajectory analysis.\n",
    "feature<-rownames(as.data.frame(feature))"
   ]
  },
  {
   "cell_type": "code",
   "execution_count": null,
   "id": "e4deb047-161e-4978-881f-b6357af15f00",
   "metadata": {},
   "outputs": [],
   "source": [
    "input_matrix <- t(as.matrix(logcounts[feature, ]))"
   ]
  },
  {
   "cell_type": "code",
   "execution_count": null,
   "id": "ced7739f-5edc-4299-badb-860589a98c9b",
   "metadata": {},
   "outputs": [],
   "source": [
    "dm <- DiffusionMap(as.matrix(input_matrix))\n",
    "plot(eigenvalues(dm), ylim = 0:1, pch = 20,        \n",
    "xlab = 'Diffusion component (DC)', ylab = 'Eigenvalue')"
   ]
  },
  {
   "cell_type": "code",
   "execution_count": null,
   "id": "9cab6a4c-392f-4a24-b285-3ab1a9ede888",
   "metadata": {},
   "outputs": [],
   "source": [
    "dm <- DiffusionMap(as.matrix(input_matrix),k=4)  #Set the number of nearest neighbors."
   ]
  },
  {
   "cell_type": "code",
   "execution_count": null,
   "id": "449c08fd-cf91-46fa-9fc8-9b7d4df6547f",
   "metadata": {},
   "outputs": [],
   "source": [
    "cell_type<-as.data.frame(seurat@active.ident)\n",
    "head(cell_type)\n",
    "colnames(cell_type)<-\"cell_type\"\n",
    "seurat@meta.data$cell_type<-cell_type$cell_type"
   ]
  },
  {
   "cell_type": "code",
   "execution_count": null,
   "id": "034cea46-bc79-4a9f-b3cf-d13c177c1e85",
   "metadata": {},
   "outputs": [],
   "source": [
    "table(seurat$cell_type)"
   ]
  },
  {
   "cell_type": "code",
   "execution_count": null,
   "id": "23b04090-c397-42d6-b16a-d1bd71d001f4",
   "metadata": {},
   "outputs": [],
   "source": [
    "options(repr.plot.width = 10, repr.plot.height = 10)\n",
    "set.seed(2020)\n",
    "dpt <- DPT(dm,tips=1)\n",
    "c=plot(dpt, 1:2)\n",
    "c+theme_classic()"
   ]
  },
  {
   "cell_type": "code",
   "execution_count": null,
   "id": "06a7513b-6f2c-4c4f-b0ea-137e724420b4",
   "metadata": {},
   "outputs": [],
   "source": [
    "tmp <- data.frame(DC1 = dm$DC1,\n",
    "                  DC2 = dm$DC2,\n",
    "                  timepoint = cell_type,\n",
    "                  dpt = dpt$DPT1)"
   ]
  },
  {
   "cell_type": "code",
   "execution_count": null,
   "id": "ff7690e7-72b7-45cb-be25-6f7e3cec3ada",
   "metadata": {},
   "outputs": [],
   "source": [
    "set.seed(2020)\n",
    "options(repr.plot.width = 10, repr.plot.height = 10)\n",
    "p<-ggplot(tmp, aes(x = DC1, \n",
    "                y = DC2, \n",
    "                colour = cell_type)) +\n",
    "    geom_point(size=2)+ \n",
    "    xlab(\"Diffusion component 1\") + \n",
    "    ylab(\"Diffusion component 2\") +\n",
    "    theme_classic()\n",
    "figure1<-p+ scale_color_manual(values=c(HSC=\"#2D6A4F\",MPP=\"#85BC07\",LMPP=\"#74c69d\",\n",
    "            CLP=\"#95A0FF\",pDC=\"#4cc9f0\",CMP=\"#F0ED4A\",\n",
    "            GMP=\"#F9C1F8\",MEP=\"#FAA300\",mono=\"#EE85F6\",UNK=\"#e9ecef\"))+\n",
    "            theme(axis.title=element_text(size=25),axis.text=element_text(size=25),\n",
    "                  legend.text=element_text(size=20),legend.title=element_text(size=25),text = element_text(family=\"myfont\"))+\n",
    "            guides(colour = guide_legend(override.aes = list(size=5)))\n",
    "  #          theme(plot.title = element_text(size = 12, face = \"bold\") , legend.title=element_text(size=10) , legend.text=element_text(size=9))\n",
    "figure1"
   ]
  },
  {
   "cell_type": "markdown",
   "id": "3087cdde-0e98-417c-a081-e7984763ef9f",
   "metadata": {},
   "source": [
    "## differential TF analysis"
   ]
  },
  {
   "cell_type": "code",
   "execution_count": null,
   "id": "80eb66f3-fbe9-49da-8312-c850fbe99b05",
   "metadata": {},
   "outputs": [],
   "source": [
    "dr <- CreateDimReducObject(embeddings = dm@eigenvectors, key = 'DC')\n",
    "seurat[['DC']] <- dr"
   ]
  },
  {
   "cell_type": "code",
   "execution_count": null,
   "id": "5ca38dfb-089b-4294-beb9-89c8c833ce6f",
   "metadata": {},
   "outputs": [],
   "source": [
    "col=c('#3b4cc0','#4a63d4','#5b7ae5',\n",
    "    '#6d8ff1','#7fa2fa','#92b4fe','#a4c2fe','#b6cefa','#c7d7f1','#d6dce4','#e4d9d3',\n",
    "    '#eecfbf','#f5c2aa','#f7b295','#f59f80','#ef896c','#e67158','#d85646','#c73735','#b40426')"
   ]
  },
  {
   "cell_type": "code",
   "execution_count": null,
   "id": "48316f13-f8cc-4ce7-b1f3-d60a7bbbc226",
   "metadata": {},
   "outputs": [],
   "source": [
    "a<-seurat@assays$RNA@counts"
   ]
  },
  {
   "cell_type": "code",
   "execution_count": null,
   "id": "14b45f4d-fb14-4296-aa1f-059392a58dba",
   "metadata": {},
   "outputs": [],
   "source": [
    "min=min(a[rownames(a)==\"GATA1\",])\n",
    "max=max(a[rownames(a)==\"GATA1\",])\n",
    "min\n",
    "max"
   ]
  },
  {
   "cell_type": "code",
   "execution_count": null,
   "id": "73da49cc-e79e-4882-80ef-d1a356f12f04",
   "metadata": {},
   "outputs": [],
   "source": [
    "p1<-FeaturePlot(seurat,features=\"GATA1\",reduction = \"DC\", combine = FALSE,pt.size=2)\n",
    "fix.sc <- scale_color_gradientn( colours = col,limit=c(-0.8,0.8))"
   ]
  },
  {
   "cell_type": "code",
   "execution_count": null,
   "id": "c3222a12-a5c1-4f11-b797-1157d50e2106",
   "metadata": {},
   "outputs": [],
   "source": [
    "p2 <- lapply(p1, function (x) x + fix.sc)\n",
    "p3<-CombinePlots(p2)\n",
    "p4=p3+xlim(-0.08,0.08)+ylim(-0.12,0.06)+theme(axis.title=element_text(size=25,family=\"myfont\"),axis.text=element_text(size=25),\n",
    "                                          title=element_text(size=25,family=\"myfont\"),\n",
    "                                          legend.text=element_text(size=20,family=\"myfont\"))+NoLegend()\n",
    "   scale_x_continuous(breaks = seq(-0.08, 0.08, by = 0.04))\n",
    "p4       "
   ]
  },
  {
   "cell_type": "code",
   "execution_count": null,
   "id": "22d207f5-e0b1-4a88-baaa-0ded125926e9",
   "metadata": {},
   "outputs": [],
   "source": [
    "tip_idx <- tips(dpt)[[1]]"
   ]
  },
  {
   "cell_type": "code",
   "execution_count": null,
   "id": "04d37795-b69d-4077-b658-0dfbf12bae8d",
   "metadata": {},
   "outputs": [],
   "source": [
    "dpt_order<-as.data.frame(dpt[tip_idx, ])\n",
    "colnames(dpt_order)<-'dpt'"
   ]
  },
  {
   "cell_type": "code",
   "execution_count": null,
   "id": "d40dd632-4129-43f4-b0a6-d2a88e094796",
   "metadata": {},
   "outputs": [],
   "source": [
    "cell<-as.data.frame(rownames(dpt@branch))\n",
    "colnames(cell)<-'cell'"
   ]
  },
  {
   "cell_type": "code",
   "execution_count": null,
   "id": "ed642ec4-c386-4f82-aeb2-ca843d6eb82c",
   "metadata": {},
   "outputs": [],
   "source": [
    "dpt_order$cell<-cell$cell"
   ]
  },
  {
   "cell_type": "code",
   "execution_count": null,
   "id": "21b84d0a-ff85-419c-957b-fcd4d77fe96e",
   "metadata": {},
   "outputs": [],
   "source": [
    "cell_type<-as.data.frame(seurat@active.ident)\n",
    "colnames(cell_type)<-'cell_type'"
   ]
  },
  {
   "cell_type": "code",
   "execution_count": null,
   "id": "80d36962-b49c-4546-9d14-1252cc2ca6e5",
   "metadata": {},
   "outputs": [],
   "source": [
    "dpt_order$cell_type<-cell_type$cell_type"
   ]
  },
  {
   "cell_type": "code",
   "execution_count": null,
   "id": "2f950237-32a8-4c5a-932e-00cd8d2241b9",
   "metadata": {},
   "outputs": [],
   "source": [
    "MEP<-dpt_order[cell_type==c('HSC','MPP','CMP','MEP'),]"
   ]
  },
  {
   "cell_type": "code",
   "execution_count": null,
   "id": "e8af22b9-3442-4c3b-99c3-651f90241ba3",
   "metadata": {},
   "outputs": [],
   "source": [
    "head(MEP)"
   ]
  },
  {
   "cell_type": "code",
   "execution_count": null,
   "id": "add6f917-9f16-4e41-9341-11ad03074d60",
   "metadata": {},
   "outputs": [],
   "source": [
    "TF='GATA1'"
   ]
  },
  {
   "cell_type": "code",
   "execution_count": null,
   "id": "39da9bd3-720c-45ba-be12-961c5df18596",
   "metadata": {},
   "outputs": [],
   "source": [
    "TF_test<-as.data.frame(seurat@assays$RNA@counts[TF,])\n",
    "colnames(TF_test)='count'"
   ]
  },
  {
   "cell_type": "code",
   "execution_count": null,
   "id": "fdd77707-071e-4b62-a79b-5ef00de1a9c9",
   "metadata": {},
   "outputs": [],
   "source": [
    "label<-as.data.frame(seurat@active.ident)\n",
    "colnames(label)='cell'\n",
    "TF_test$cell<-label$cell"
   ]
  },
  {
   "cell_type": "code",
   "execution_count": null,
   "id": "667ad9de-069b-4142-9c81-e427736cab68",
   "metadata": {},
   "outputs": [],
   "source": [
    "TF_test$group=TF"
   ]
  },
  {
   "cell_type": "code",
   "execution_count": null,
   "id": "9856f52f-3468-40fd-93e8-eed37d059535",
   "metadata": {},
   "outputs": [],
   "source": [
    "TF_test$cell<-rownames(TF_test)"
   ]
  },
  {
   "cell_type": "code",
   "execution_count": null,
   "id": "4451e066-59bc-4125-a555-b89da83ea0e3",
   "metadata": {},
   "outputs": [],
   "source": [
    "merge_TF<-merge(MEP,TF_test,by='cell',sort=F)"
   ]
  },
  {
   "cell_type": "code",
   "execution_count": null,
   "id": "24d68c51-1c90-402b-a3db-562a27516180",
   "metadata": {},
   "outputs": [],
   "source": [
    "head(TF_test)"
   ]
  },
  {
   "cell_type": "code",
   "execution_count": null,
   "id": "bfa7188c-dfc1-40a9-a443-10b629883471",
   "metadata": {},
   "outputs": [],
   "source": [
    "g<-ggplot(data = merge_TF,aes(x = dpt,y = count))"
   ]
  },
  {
   "cell_type": "code",
   "execution_count": null,
   "id": "24bca16e-ddff-41e8-a6df-7c2bbbacfea4",
   "metadata": {},
   "outputs": [],
   "source": [
    "options(repr.plot.width = 10, repr.plot.height = 4)"
   ]
  },
  {
   "cell_type": "code",
   "execution_count": null,
   "id": "ce3ca0ea-907f-4022-a419-fbac45310087",
   "metadata": {},
   "outputs": [],
   "source": [
    "p=g+geom_smooth(method = 'loess',formula='y ~ x',color='black',se=F)+geom_point(aes(color=cell_type),size=0.5)+scale_color_manual(values=c(HSC=\"#2D6A4F\",MPP=\"#85BC07\",CMP=\"#F0ED4A\",\n",
    "            MEP=\"#FAA300\"))+theme(axis.title=element_text(size=20),axis.text=element_text(size=20),\n",
    "                  legend.text=element_text(size=15),legend.title=element_text(size=15),text = element_text(family=\"myfont\"),\n",
    "                                  panel.background = element_blank(),axis.line = element_line(colour = \"black\"))+\n",
    "            guides(colour = guide_legend(override.aes = list(size=2)))+theme(plot.title = element_text(hjust = 0.5),title=element_text(size=20))+ggtitle(\"GATA1\")\n",
    "p"
   ]
  },
  {
   "cell_type": "markdown",
   "id": "29d7a093-e2aa-4e92-8318-29f382349611",
   "metadata": {},
   "source": [
    "## triangle plot"
   ]
  },
  {
   "cell_type": "code",
   "execution_count": null,
   "id": "606e7f61-824a-4b85-94a9-c4bf1a310113",
   "metadata": {},
   "outputs": [],
   "source": [
    "dataf<-data.frame(matrix(NA,1243,10))"
   ]
  },
  {
   "cell_type": "code",
   "execution_count": null,
   "id": "823e5e19-0ca3-4535-afe0-9c2c2a6e0869",
   "metadata": {},
   "outputs": [],
   "source": [
    "colnames(dataf)=c(\"CLP\",\"CMP\",\"GMP\",\"HSC\",\"LMPP\",\"MEP\",\"MPP\",\"UNK\",\"mono\",\"pDC\")"
   ]
  },
  {
   "cell_type": "code",
   "execution_count": null,
   "id": "41fa7d78-b5d1-4862-90de-34caeafb89b1",
   "metadata": {},
   "outputs": [],
   "source": [
    "data<-seurat@assays$RNA@counts"
   ]
  },
  {
   "cell_type": "code",
   "execution_count": null,
   "id": "35ec055c-bc2c-4c09-886c-63fae442ba07",
   "metadata": {},
   "outputs": [],
   "source": [
    "rownames(dataf)<-rownames(data)"
   ]
  },
  {
   "cell_type": "code",
   "execution_count": null,
   "id": "f0b32e3f-f88f-4d1a-aa8a-455100ef95bd",
   "metadata": {},
   "outputs": [],
   "source": [
    "for (i in 1:10) {\n",
    "   cell_type<-data[,colnames(data)%in%rownames(meta[meta$assign.celltype==colnames(dataf)[i],])]\n",
    "   cell_type_aver<-as.data.frame(apply(cell_type,1,mean))\n",
    "   colnames(cell_type_aver)<-colnames(dataf)[i]\n",
    "   dataf[,i]<-cell_type_aver[,1]\n",
    "    }"
   ]
  },
  {
   "cell_type": "code",
   "execution_count": null,
   "id": "d48d79ff-ec11-4eb4-abc3-60ecf49bdea2",
   "metadata": {},
   "outputs": [],
   "source": [
    "for (i in 1:1243){\n",
    "    min=min(dataf[i,])\n",
    "    max=max(dataf[i,])\n",
    "    for (c in 1:10){\n",
    "       dataf[i,c]=(dataf[i,c]-min)/(max-min)\n",
    "    }\n",
    "}"
   ]
  },
  {
   "cell_type": "code",
   "execution_count": null,
   "id": "639f0183-aaca-4ca6-b159-e3a2ac92cdb0",
   "metadata": {},
   "outputs": [],
   "source": [
    "dataf_serve<-dataf[rownames(dataf)%in%c(\"GATA1\",\"GATA2\",\"TAL1\",\"GATA6\",\"GATA5\",\"FLI1\",'ZFPM1','TAL2',  #USE\n",
    "                      \"FOXO1\",'PAX5','IKZF1','STAT3',\"SMAD1\",\"FOXP1\",'PRDM1','RUNX1',\n",
    "                      \"SPI1\",\"HSF1\",\"CEBPE\",\"STAT6\",'CEBPA','CEBPB','IRF8','IRF4'),]"
   ]
  },
  {
   "cell_type": "code",
   "execution_count": null,
   "id": "d6c156d2-7176-4dd8-b13e-cca27df46ba8",
   "metadata": {},
   "outputs": [],
   "source": [
    "dataf_serve_use<-dataf_serve[,c(\"MEP\",\"mono\",\"CLP\")]\n",
    "dataf_serve_use$label=rownames(dataf_serve_use)"
   ]
  },
  {
   "cell_type": "code",
   "execution_count": null,
   "id": "5e847a8e-2cc2-4c28-9a13-d4162db78dbd",
   "metadata": {},
   "outputs": [],
   "source": [
    "head(dataf_serve_use)"
   ]
  },
  {
   "cell_type": "code",
   "execution_count": null,
   "id": "5bce973d-b900-447a-bc70-34560fa857a0",
   "metadata": {},
   "outputs": [],
   "source": [
    "dataf_serve_use$group<-\"color\""
   ]
  },
  {
   "cell_type": "code",
   "execution_count": null,
   "id": "927daa37-e7bb-426b-87d9-884964594032",
   "metadata": {},
   "outputs": [],
   "source": [
    "cMEP<-c(\"GATA1\",\"GATA2\",\"TAL1\",\"GATA6\",\"GATA5\",\"FLI1\",'ZFPM1','TAL2')\n",
    "cCLP<-c(\"FOXO1\",'PAX5','IKZF1','STAT3',\"SMAD1\",\"FOXP1\",'PRDM1','RUNX1')  \n",
    "cMONO<-c(\"SPI1\",\"HSF1\",\"CEBPE\",\"STAT6\",'CEBPA','CEBPB','IRF8','IRF4') "
   ]
  },
  {
   "cell_type": "code",
   "execution_count": null,
   "id": "d4e7d422-266a-43f0-baaf-9961eb9ace17",
   "metadata": {},
   "outputs": [],
   "source": [
    "for (i in rownames(dataf_serve_use)){\n",
    "    if (i%in%cMEP){\n",
    "        dataf_serve_use[i,\"group\"]=\"MEP\"\n",
    "    }else if (i%in%cCLP){\n",
    "        dataf_serve_use[i,\"group\"]=\"CLP\"\n",
    "    }else{\n",
    "        dataf_serve_use[i,\"group\"]=\"mono\"\n",
    "    }\n",
    "}"
   ]
  },
  {
   "cell_type": "code",
   "execution_count": null,
   "id": "204c9d08-4ec4-4328-9176-957440127c30",
   "metadata": {},
   "outputs": [],
   "source": [
    "dataf_serve_use$cul<-factor(dataf_serve_use$group,\n",
    "                   levels=c(\"MEP\",\"mono\",\"CLP\"),\n",
    "                   labels=c(\"Erythroid\",\"Myeloid\",\"Lymphoid\"))"
   ]
  },
  {
   "cell_type": "code",
   "execution_count": null,
   "id": "87164c9c-fd36-40da-baac-fa87a41483a9",
   "metadata": {},
   "outputs": [],
   "source": [
    "options(repr.plot.width = 30, repr.plot.height = 30,repr.plot.res = 70)\n",
    "gra3=ggtern(data = dataf_serve_use,aes(x = CLP, y = mono, z =MEP )) + \n",
    "  theme_bw() +\n",
    "  geom_point(aes(color = cul),alpha = 25,size=6) +\n",
    "  tern_limits(T=1.1, L=1.1, R=1.1)+\n",
    "  geom_text(aes(label=label,color=cul),hjust=1,vjust=1,size=15,check_overlap = F,show.legend = FALSE,family=\"myfont\")+  #\n",
    "  theme_nomask()+\n",
    "#  theme_hidegrid()+\n",
    "  theme_hidelabels()+\n",
    "  scale_color_manual(\n",
    "    values = c(\"Erythroid\"=\"#FAA300\",\"Myeloid\"=\"#EE85F6\",\"Lymphoid\"=\"#95A0FF\"))+\n",
    "  labs(x = \"Lymphoid\", y = \"Myeloid\", z = \"Erythroid\")+\n",
    "  theme(text = element_text(size=40,family=\"myfont\"))+\n",
    "  labs(color=\"group\")+\n",
    "  guides(colour = guide_legend(override.aes = list(size=10)))+\n",
    "  theme(legend.position=c(0.8,0.7))+\n",
    "  theme(plot.margin=unit(c(2,2,2,2),\"cm\"))\n",
    "gra3"
   ]
  },
  {
   "cell_type": "code",
   "execution_count": null,
   "id": "51168d01-d51f-4740-a1e1-ce601462e44e",
   "metadata": {},
   "outputs": [],
   "source": []
  }
 ],
 "metadata": {
  "kernelspec": {
   "display_name": "MAESTRO R 4.0.5",
   "language": "R",
   "name": "irmaestro4.0.5"
  },
  "language_info": {
   "codemirror_mode": "r",
   "file_extension": ".r",
   "mimetype": "text/x-r-source",
   "name": "R",
   "pygments_lexer": "r",
   "version": "4.0.5"
  }
 },
 "nbformat": 4,
 "nbformat_minor": 5
}
