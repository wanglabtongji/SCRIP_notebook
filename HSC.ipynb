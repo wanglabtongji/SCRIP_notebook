{
 "cells": [
  {
   "cell_type": "code",
   "execution_count": 8,
   "metadata": {},
   "outputs": [],
   "source": [
    "import os\n",
    "import sys\n",
    "import re\n",
    "import pickle\n",
    "import random\n",
    "import subprocess\n",
    "import time\n",
    "import threading\n",
    "import shutil\n",
    "from concurrent.futures import ThreadPoolExecutor, ProcessPoolExecutor, wait, ALL_COMPLETED\n",
    "from datetime import datetime, timedelta\n",
    "from multiprocessing import Process, Pool\n",
    "\n",
    "import numpy as np\n",
    "import pandas as pd\n",
    "import anndata as ad\n",
    "import h5py\n",
    "import Bio\n",
    "from Bio import motifs\n",
    "import pysam\n",
    "import pyranges\n",
    "import pybedtools\n",
    "import matplotlib.pyplot as plt\n",
    "import matplotlib as mpl\n",
    "import seaborn as sns\n",
    "import sklearn\n",
    "from sklearn import preprocessing\n",
    "import scipy\n",
    "import scanpy as sc\n",
    "from adjustText import adjust_text\n",
    "# import episcanpy\n"
   ]
  },
  {
   "cell_type": "code",
   "execution_count": 9,
   "metadata": {},
   "outputs": [],
   "source": [
    "from scipy import io"
   ]
  },
  {
   "cell_type": "code",
   "execution_count": 4,
   "metadata": {},
   "outputs": [],
   "source": [
    "result = sc.read_h5ad('example/HSC/SCRIPT_result/per10nn_HSC_computed.h5ad')"
   ]
  },
  {
   "cell_type": "code",
   "execution_count": 7,
   "metadata": {},
   "outputs": [],
   "source": [
    "result.uns['ChIP_p'].T.to_csv('example/HSC/chip_p.csv', sep='\\t')"
   ]
  },
  {
   "cell_type": "code",
   "execution_count": 5,
   "metadata": {},
   "outputs": [],
   "source": [
    "data = ad.AnnData(result.uns['ChIP_p'])"
   ]
  },
  {
   "cell_type": "code",
   "execution_count": 6,
   "metadata": {},
   "outputs": [
    {
     "data": {
      "text/html": [
       "<div>\n",
       "<style scoped>\n",
       "    .dataframe tbody tr th:only-of-type {\n",
       "        vertical-align: middle;\n",
       "    }\n",
       "\n",
       "    .dataframe tbody tr th {\n",
       "        vertical-align: top;\n",
       "    }\n",
       "\n",
       "    .dataframe thead th {\n",
       "        text-align: right;\n",
       "    }\n",
       "</style>\n",
       "<table border=\"1\" class=\"dataframe\">\n",
       "  <thead>\n",
       "    <tr style=\"text-align: right;\">\n",
       "      <th></th>\n",
       "    </tr>\n",
       "  </thead>\n",
       "  <tbody>\n",
       "    <tr>\n",
       "      <th>Exp100-Sample9.all_Tn5-AAAGAA_BC00404_N03</th>\n",
       "    </tr>\n",
       "    <tr>\n",
       "      <th>Exp100-Sample9.all_Tn5-GCTTGT_BC06467_N02</th>\n",
       "    </tr>\n",
       "    <tr>\n",
       "      <th>Exp100-Sample9.all_Tn5-ATAGCG_BC03026_N02</th>\n",
       "    </tr>\n",
       "    <tr>\n",
       "      <th>Exp100-Sample8.all_Tn5-CTGTGG_BC03532_N01</th>\n",
       "    </tr>\n",
       "    <tr>\n",
       "      <th>Exp100-Sample9.all_Tn5-TTCGCA_BC01987_N02</th>\n",
       "    </tr>\n",
       "    <tr>\n",
       "      <th>...</th>\n",
       "    </tr>\n",
       "    <tr>\n",
       "      <th>Exp100-Sample1.all_Tn5-TTTGGG_BC04526_N04</th>\n",
       "    </tr>\n",
       "    <tr>\n",
       "      <th>Exp100-Sample10.all_Tn5-TCTAGC_BC00931_N02</th>\n",
       "    </tr>\n",
       "    <tr>\n",
       "      <th>Exp100-Sample1.all_Tn5-TTTGGG_BC04676_N04</th>\n",
       "    </tr>\n",
       "    <tr>\n",
       "      <th>Exp100-Sample10.all_Tn5-TCTAGC_BC00355_N03</th>\n",
       "    </tr>\n",
       "    <tr>\n",
       "      <th>Exp100-Sample10.all_Tn5-TCTAGC_BC00923_N01</th>\n",
       "    </tr>\n",
       "  </tbody>\n",
       "</table>\n",
       "<p>115792 rows × 0 columns</p>\n",
       "</div>"
      ],
      "text/plain": [
       "Empty DataFrame\n",
       "Columns: []\n",
       "Index: [Exp100-Sample9.all_Tn5-AAAGAA_BC00404_N03, Exp100-Sample9.all_Tn5-GCTTGT_BC06467_N02, Exp100-Sample9.all_Tn5-ATAGCG_BC03026_N02, Exp100-Sample8.all_Tn5-CTGTGG_BC03532_N01, Exp100-Sample9.all_Tn5-TTCGCA_BC01987_N02, Exp100-Sample9.all_Tn5-CGCATA_BC05177_N03, Exp100-Sample8.all_Tn5-GTACAG_BC03718_N02, Exp100-Sample8.all_Tn5-CAGACT_BC05045_N03, Exp100-Sample8.all_Tn5-ACTGCA_BC04592_N02, Exp100-Sample9.all_Tn5-TATTTC_BC01798_N02, Exp100-Sample7.all_Tn5-AGTAAA_BC02898_N02, Exp100-Sample8.all_Tn5-TCCAAG_BC00648_N03, Exp100-Sample7.all_Tn5-CCGTAA_BC02320_N02, Exp100-Sample8.all_Tn5-TTCTTG_BC05890_N04, Exp100-Sample7.all_Tn5-GAGTGA_BC06412_N03, Exp100-Sample6.all_Tn5-CAAGTC_BC02490_N02, Exp100-Sample6.all_Tn5-AAGTAT_BC05184_N03, Exp100-Sample7.all_Tn5-TAAGCT_BC01582_N02, Exp100-Sample7.all_Tn5-TGCGGT_BC02639_N02, Exp100-Sample6.all_Tn5-GTCCTA_BC00979_N02, Exp100-Sample6.all_Tn5-CTATTA_BC00457_N03, Exp100-Sample6.all_Tn5-TTTGGG_BC03205_N03, Exp100-Sample6.all_Tn5-TCGCCT_BC03801_N01, Exp100-Sample5.all_Tn5-ATAGCG_BC01728_N01, Exp100-Sample7.all_Tn5-GAGTGA_BC06631_N03, Exp100-Sample7.all_Tn5-AGTAAA_BC02912_N02, Exp100-Sample8.all_Tn5-TTCTTG_BC06056_N05, Exp100-Sample8.all_Tn5-GTACAG_BC03805_N04, Exp100-Sample9.all_Tn5-GCTTGT_BC06640_N06, Exp100-Sample6.all_Tn5-AAGTAT_BC05401_N03, Exp100-Sample7.all_Tn5-TAAGCT_BC01587_N02, Exp100-Sample5.all_Tn5-ATAGCG_BC01735_N03, Exp100-Sample6.all_Tn5-TCGCCT_BC03854_N03, Exp100-Sample6.all_Tn5-CAAGTC_BC02546_N03, Exp100-Sample6.all_Tn5-GTCCTA_BC01199_N01, Exp100-Sample8.all_Tn5-CAGACT_BC05089_N04, Exp100-Sample9.all_Tn5-CGCATA_BC05219_N02, Exp100-Sample7.all_Tn5-TGCGGT_BC02690_N02, Exp100-Sample9.all_Tn5-ATAGCG_BC03036_N02, Exp100-Sample8.all_Tn5-CTGTGG_BC03701_N01, Exp100-Sample9.all_Tn5-TTCGCA_BC02178_N02, Exp100-Sample6.all_Tn5-TTTGGG_BC03233_N01, Exp100-Sample8.all_Tn5-ACTGCA_BC04607_N02, Exp100-Sample9.all_Tn5-AAAGAA_BC03657_N02, Exp100-Sample9.all_Tn5-TATTTC_BC01866_N03, Exp100-Sample7.all_Tn5-CCGTAA_BC02373_N03, Exp100-Sample7.all_Tn5-GAGTGA_BC06689_N02, Exp100-Sample6.all_Tn5-CTATTA_BC00474_N03, Exp100-Sample7.all_Tn5-AGTAAA_BC02947_N02, Exp100-Sample8.all_Tn5-TTCTTG_BC06868_N03, Exp100-Sample9.all_Tn5-GCTTGT_BC06928_N03, Exp100-Sample6.all_Tn5-AAGTAT_BC05483_N02, Exp100-Sample8.all_Tn5-CTGTGG_BC03913_N02, Exp100-Sample6.all_Tn5-TCGCCT_BC04103_N03, Exp100-Sample6.all_Tn5-GTCCTA_BC01290_N02, Exp100-Sample8.all_Tn5-GTACAG_BC03873_N02, Exp100-Sample9.all_Tn5-CGCATA_BC05290_N02, Exp100-Sample9.all_Tn5-AAAGAA_BC03722_N03, Exp100-Sample5.all_Tn5-ATAGCG_BC01745_N02, Exp100-Sample8.all_Tn5-CAGACT_BC05093_N04, Exp100-Sample6.all_Tn5-TTTGGG_BC03247_N04, Exp100-Sample9.all_Tn5-ATAGCG_BC03068_N01, Exp100-Sample6.all_Tn5-CAAGTC_BC02547_N03, Exp100-Sample7.all_Tn5-GAGTGA_BC06776_N02, Exp100-Sample8.all_Tn5-ACTGCA_BC04832_N02, Exp100-Sample7.all_Tn5-TGCGGT_BC03034_N02, Exp100-Sample7.all_Tn5-TAAGCT_BC01615_N02, Exp100-Sample6.all_Tn5-CTATTA_BC00486_N04, Exp100-Sample9.all_Tn5-TATTTC_BC01943_N02, Exp100-Sample8.all_Tn5-GTACAG_BC03876_N03, Exp100-Sample6.all_Tn5-AAGTAT_BC05554_N02, Exp100-Sample9.all_Tn5-GCTTGT_BC07148_N03, Exp100-Sample7.all_Tn5-CCGTAA_BC02385_N02, Exp100-Sample9.all_Tn5-ATAGCG_BC03154_N01, Exp100-Sample9.all_Tn5-TTCGCA_BC02203_N01, Exp100-Sample7.all_Tn5-AGTAAA_BC02972_N02, Exp100-Sample8.all_Tn5-TTCTTG_BC07372_N03, Exp100-Sample9.all_Tn5-CGCATA_BC05364_N04, Exp100-Sample7.all_Tn5-GAGTGA_BC07020_N03, Exp100-Sample6.all_Tn5-GTCCTA_BC01294_N02, Exp100-Sample8.all_Tn5-CTGTGG_BC03935_N03, Exp100-Sample8.all_Tn5-ACTGCA_BC04985_N02, Exp100-Sample8.all_Tn5-TCCAAG_BC00778_N03, Exp100-Sample6.all_Tn5-TCGCCT_BC04118_N05, Exp100-Sample9.all_Tn5-AAAGAA_BC03982_N03, Exp100-Sample6.all_Tn5-TTTGGG_BC03277_N04, Exp100-Sample6.all_Tn5-AAGTAT_BC05586_N04, Exp100-Sample8.all_Tn5-GTACAG_BC03908_N02, Exp100-Sample9.all_Tn5-GCTTGT_BC07162_N03, Exp100-Sample9.all_Tn5-TATTTC_BC02028_N02, Exp100-Sample8.all_Tn5-TTCTTG_BC07446_N03, Exp100-Sample8.all_Tn5-CAGACT_BC05183_N02, Exp100-Sample7.all_Tn5-TAAGCT_BC01726_N03, Exp100-Sample5.all_Tn5-ATAGCG_BC01913_N03, Exp100-Sample7.all_Tn5-TGCGGT_BC03332_N01, Exp100-Sample7.all_Tn5-AGTAAA_BC02980_N01, Exp100-Sample9.all_Tn5-ATAGCG_BC03253_N03, Exp100-Sample6.all_Tn5-GTCCTA_BC01306_N03, Exp100-Sample9.all_Tn5-TTCGCA_BC02220_N02, Exp100-Sample7.all_Tn5-GAGTGA_BC07474_N03, ...]\n",
       "\n",
       "[115792 rows x 0 columns]"
      ]
     },
     "execution_count": 6,
     "metadata": {},
     "output_type": "execute_result"
    }
   ],
   "source": [
    "data.obs"
   ]
  },
  {
   "cell_type": "code",
   "execution_count": 10,
   "metadata": {},
   "outputs": [],
   "source": [
    "destination = 'example/HSC/'\n",
    "pd.DataFrame(data.var.index).to_csv(os.path.join(destination, \"genes.tsv\" ), sep = \"\\t\", index=False, header=False)\n",
    "pd.DataFrame(data.obs.index).to_csv(os.path.join(destination, \"barcodes.tsv\"), sep = \"\\t\", index=False, header=False)\n",
    "data.obs.to_csv(os.path.join(destination, \"metadata.tsv\"), sep = \"\\t\", index=False, header=False)\n",
    "io.mmwrite(os.path.join(destination, \"matrix.mtx\"), data.X)"
   ]
  },
  {
   "cell_type": "code",
   "execution_count": 14,
   "metadata": {},
   "outputs": [],
   "source": [
    "pd.DataFrame(data.X).to_csv(os.path.join(destination, \"matrix.txt\"), sep = \"\\t\", index=False, header=False)"
   ]
  },
  {
   "cell_type": "code",
   "execution_count": 10,
   "metadata": {},
   "outputs": [],
   "source": [
    "with open('example/HSC/genes.txt', 'w') as file:\n",
    "    file.write('\\n'.join(result.uns['ChIP_p'].T.index))"
   ]
  },
  {
   "cell_type": "code",
   "execution_count": 11,
   "metadata": {},
   "outputs": [],
   "source": [
    "with open('example/HSC/barcodes.txt', 'w') as file:\n",
    "    file.write('\\n'.join(result.uns['ChIP_p'].T.columns))"
   ]
  }
 ],
 "metadata": {
  "kernelspec": {
   "display_name": "Python 3",
   "language": "python",
   "name": "python3"
  },
  "language_info": {
   "codemirror_mode": {
    "name": "ipython",
    "version": 3
   },
   "file_extension": ".py",
   "mimetype": "text/x-python",
   "name": "python",
   "nbconvert_exporter": "python",
   "pygments_lexer": "ipython3",
   "version": "3.8.8"
  }
 },
 "nbformat": 4,
 "nbformat_minor": 4
}
