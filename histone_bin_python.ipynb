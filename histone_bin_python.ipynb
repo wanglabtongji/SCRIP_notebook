{
 "cells": [
  {
   "cell_type": "markdown",
   "id": "722855bb-c337-40ea-aabb-e6b55ff162e5",
   "metadata": {},
   "source": [
    "# library"
   ]
  },
  {
   "cell_type": "code",
   "execution_count": 1,
   "id": "4f25efa8-1109-4137-b500-a6a4bb5f9a4f",
   "metadata": {},
   "outputs": [],
   "source": [
    "import os\n",
    "import sys\n",
    "import re\n",
    "import pickle\n",
    "import random\n",
    "import subprocess\n",
    "import time\n",
    "import threading\n",
    "import shutil\n",
    "from concurrent.futures import ThreadPoolExecutor, ProcessPoolExecutor, wait, ALL_COMPLETED, as_completed\n",
    "from datetime import datetime, timedelta\n",
    "from multiprocessing import Process, Pool\n",
    "\n",
    "import numpy as np\n",
    "import pandas as pd\n",
    "import anndata as ad\n",
    "import h5py\n",
    "# import Bio\n",
    "# from Bio import motifs\n",
    "# import pysam\n",
    "import pyranges\n",
    "import pybedtools\n",
    "import matplotlib.pyplot as plt\n",
    "import matplotlib as mpl\n",
    "import seaborn as sns\n",
    "import sklearn\n",
    "from sklearn import preprocessing\n",
    "import scipy\n",
    "from scipy import io\n",
    "import scanpy as sc\n",
    "from sklearn.cluster import KMeans\n",
    "# from adjustText import adjust_text\n",
    "# import episcanpy\n",
    "import ruamel.yaml\n",
    "yaml = ruamel.yaml.YAML(typ=\"safe\")\n",
    "yaml.default_flow_style = False\n",
    "from matplotlib_venn import venn3, venn2, venn3_unweighted, venn2_unweighted\n",
    "\n",
    "import SCRIP\n",
    "from SCRIP.utilities import utils\n",
    "from SCRIP.utilities.utils import print_log, safe_makedirs, excute_info, read_pickle, read_SingleCellExperiment_rds, store_to_pickle\n",
    "\n",
    "import warnings\n",
    "warnings.simplefilter(action='ignore', category=pd.errors.PerformanceWarning)\n",
    "# warnings.simplefilter(action='ignore', category=subprocess.)\n",
    "\n",
    "plt.rcParams.update({\n",
    "    'figure.figsize': [8.0, 8.0],\n",
    "    'font.size' : 15,\n",
    "    'font.family': 'Arial',\n",
    "    'font.style' : 'normal',\n",
    "    'font.weight':'normal',\n",
    "    'figure.titleweight': 'normal',\n",
    "    'axes.labelsize': 14 ,\n",
    "    'axes.titleweight': 'normal',\n",
    "    'axes.labelweight': 'normal',\n",
    "    'axes.spines.right': False,\n",
    "    'axes.spines.top': False,\n",
    "})\n",
    "\n",
    "N = 256\n",
    "vals = np.ones((N, 4))\n",
    "vals[:, 0] = np.linspace(220/256, 34/256, N)\n",
    "vals[:, 1] = np.linspace(220/256, 7/256, N)\n",
    "vals[:, 2] = np.linspace(220/256, 141/256, N)\n",
    "regulation_cmp = mpl.colors.ListedColormap(vals)"
   ]
  },
  {
   "cell_type": "code",
   "execution_count": 2,
   "id": "4123d2a8-aa03-4508-b878-38a58855c583",
   "metadata": {},
   "outputs": [],
   "source": [
    "import anndata2ri"
   ]
  },
  {
   "cell_type": "code",
   "execution_count": null,
   "id": "52bc8bd4-98c8-4869-8485-18b64345dcd9",
   "metadata": {},
   "outputs": [],
   "source": [
    "atac = read_SingleCellExperiment_rds('example/PBMC/data/PBMC_ATAC_500bin/analysis/PBMC_TBMono_500bin.rds')\n",
    "atac.var.index = [i.replace('-', '_') for i in atac.var.index]\n",
    "impute_factor = 'H3K27ac'\n",
    "\n",
    "\n",
    "atac.obs['nFeature_ATAC'] = atac.obs['nFeature_ATAC'].astype(int)\n",
    "atac.obs['nCount_ATAC'] = atac.obs['nCount_ATAC'].astype(int)"
   ]
  },
  {
   "cell_type": "code",
   "execution_count": 11,
   "id": "6c851109-b0ae-48f1-9797-c4c0b5167292",
   "metadata": {},
   "outputs": [
    {
     "name": "stderr",
     "output_type": "stream",
     "text": [
      "/fs/home/dongxin/Applications/miniconda3/envs/SCRIPT/lib/python3.8/site-packages/anndata/_core/anndata.py:1220: FutureWarning: The `inplace` parameter in pandas.Categorical.reorder_categories is deprecated and will be removed in a future version. Removing unused categories will always return a new Categorical object.\n",
      "  c.reorder_categories(natsorted(c.categories), inplace=True)\n",
      "... storing 'Celltype' as categorical\n"
     ]
    }
   ],
   "source": [
    "atac.write_h5ad('example/PBMC/data/PBMC_ATAC_500bin/analysis/PBMC_TBMono_500bin.h5ad')"
   ]
  },
  {
   "cell_type": "code",
   "execution_count": 14,
   "id": "3767ea86-fb13-40c1-a0cc-e82437cbf5fd",
   "metadata": {},
   "outputs": [],
   "source": [
    "atac = ad.read_h5ad('example/PBMC/data/PBMC_ATAC_500bin/analysis/PBMC_TBMono_500bin.h5ad')"
   ]
  },
  {
   "cell_type": "code",
   "execution_count": 15,
   "id": "8f4f8a59-6701-4ee6-8ddc-439a7bcbccbb",
   "metadata": {},
   "outputs": [],
   "source": [
    "sc.pp.calculate_qc_metrics(atac, percent_top=None, log1p=False, inplace=True)\n",
    "sc.pp.filter_genes(atac, min_cells=50)"
   ]
  },
  {
   "cell_type": "code",
   "execution_count": 41,
   "id": "caea5cbd-998f-4623-8313-0e1b30838ad9",
   "metadata": {},
   "outputs": [],
   "source": [
    "atac.write_h5ad('example/PBMC/data/PBMC_ATAC_500bin/analysis/PBMC_TBMono_500bin_passQC.h5ad')"
   ]
  },
  {
   "cell_type": "code",
   "execution_count": null,
   "id": "fa9386d7-4f83-4a3a-bac1-2f9940878c3f",
   "metadata": {},
   "outputs": [],
   "source": [
    "chip_cell_peak_H3K27ac, factor_score = impute(atac, 'H3K27ac', '/fs/home/dongxin/Projects/SCRIPT/indices/index/HM_human', \n",
    "                                              bed_check=True, search_check=True, path='example/histone/peak_base/cuttagpro/SCRIP_PBMC/imputationPBMC0613_not_remove/', \n",
    "                                              write_format='h5ad', ref_baseline=500, remove_others_source=False, n_cores=64)"
   ]
  },
  {
   "cell_type": "code",
   "execution_count": 41,
   "id": "1b7f355a-d6e0-4880-b106-7e9230b77d09",
   "metadata": {},
   "outputs": [],
   "source": [
    "chip_cell_peak_H3K27ac.write_h5ad('/fs/home/dongxin/Projects/SCRIPT/scATAC/example/histone/peak_base/cuttagpro/SCRIP_PBMC/imputationPBMC0612/H3K27ac/imputed_H3K27ac.h5ad')"
   ]
  },
  {
   "cell_type": "code",
   "execution_count": 55,
   "id": "721c0dd1-ac40-4896-ab02-5e065cf73a02",
   "metadata": {},
   "outputs": [],
   "source": [
    "write_to_mtx(chip_cell_peak_H3K27ac, 'example/histone/peak_base/cuttagpro/SCRIP_PBMC/imputationPBMC0613_not_remove/H3K27ac/imputed_H3K27ac_mtx')"
   ]
  },
  {
   "cell_type": "code",
   "execution_count": null,
   "id": "4058429b-dfe1-4d69-9d77-e5c9db8264ce",
   "metadata": {},
   "outputs": [],
   "source": [
    "sc.pp.filter_genes(chip_cell_peak_H3K27ac, min_cells=20)"
   ]
  },
  {
   "cell_type": "code",
   "execution_count": null,
   "id": "f17cc969-df43-4e36-91b8-08d2b47fc26c",
   "metadata": {},
   "outputs": [],
   "source": []
  },
  {
   "cell_type": "markdown",
   "id": "d4a2425b-0aba-4ced-8d21-cbd60ee6c6bc",
   "metadata": {},
   "source": [
    "## Plot"
   ]
  },
  {
   "cell_type": "code",
   "execution_count": 2,
   "id": "20027119-0c01-438c-96d7-108266cf0dec",
   "metadata": {},
   "outputs": [],
   "source": [
    "bulk_t_target = pd.read_csv('/fs/home/dongxin/Projects/SCRIPT/scATAC/example/histone/62350_gene_score_5fold_T.txt', comment = '#', sep='\\t', header = None)\n",
    "bulk_mono_target = pd.read_csv('/fs/home/dongxin/Projects/SCRIPT/scATAC/example/histone/34935_gene_score_5fold_Mono.txt', comment = '#', sep='\\t', header = None)\n",
    "\n",
    "bulk_t_target_list = bulk_t_target[6].unique()\n",
    "bulk_mono_target_list = bulk_mono_target[6].unique()\n",
    "\n",
    "bulk_t_target_rp = bulk_t_target.groupby(6).max()[4]\n",
    "bulk_mono_target_rp = bulk_mono_target.groupby(6).max()[4]"
   ]
  },
  {
   "cell_type": "code",
   "execution_count": 3,
   "id": "24d9b964-fde2-4993-b439-3bdcbe79a851",
   "metadata": {},
   "outputs": [],
   "source": [
    "impute_RP = sc.read_h5ad('/fs/home/dongxin/Projects/SCRIPT/scATAC/example/histone/peak_base/cuttagpro/SCRIP_PBMC/imputationPBMC0613_not_remove/imputed_H3K27ac_RP.h5ad').to_df().T\n",
    "impute_RP.columns = [i.split('-')[0] for i in impute_RP.columns]\n",
    "keys = pd.read_csv('example/PBMC/barcode_key.txt', sep='\\t', index_col=0)\n",
    "keys.index = keys['ATAC']\n",
    "impute_metadata = pd.read_csv('example/PBMC/analysis/metadata.txt', sep='\\t', index_col=0)"
   ]
  },
  {
   "cell_type": "code",
   "execution_count": 8,
   "id": "f21ff94b-08b0-4205-8299-e81449684cd5",
   "metadata": {},
   "outputs": [],
   "source": [
    "atac_rp = sc.read_h5ad('/fs/home/dongxin/Projects/SCRIPT/scATAC/example/histone/peak_base/cuttagpro/SCRIP_PBMC/imputationPBMC0613_not_remove/atac_H3K27ac_RP.h5ad').to_df().T\n",
    "atac_rp.columns = [i.split('-')[0] for i in atac_rp.columns]"
   ]
  },
  {
   "cell_type": "code",
   "execution_count": null,
   "id": "71b4d3af-ba4d-4e9a-be22-4dc99a1e0852",
   "metadata": {},
   "outputs": [],
   "source": [
    "real_RP = read_pickle('/fs/home/dongxin/Projects/SCRIPT/scATAC/example/histone/peak_base/cuttagpro/SCRIPT_PBMC/real_RP.pk')"
   ]
  },
  {
   "cell_type": "code",
   "execution_count": 11,
   "id": "33564ef4-d3c4-440c-b9dc-15d82b516af8",
   "metadata": {},
   "outputs": [],
   "source": [
    "real_matadata = pd.read_csv('example/histone/peak_base/cuttagpro/SCRIPT_PBMC/real_meta_data.txt', sep='\\t')"
   ]
  },
  {
   "cell_type": "code",
   "execution_count": null,
   "id": "d0f5d078-1ab4-4c6a-84c1-19bfabc9b2e5",
   "metadata": {},
   "outputs": [],
   "source": [
    "tmp_meta = pd.read_csv('example/PBMC/pbmc_meta.txt', sep='\\t', index_col=0)\n",
    "keys.index = keys['RNA']\n",
    "tmp_meta.index = [keys.loc[i,'ATAC'] for i in tmp_meta.index]\n",
    "keys.index = keys['ATAC']"
   ]
  },
  {
   "cell_type": "markdown",
   "id": "a3c54ec1-14fe-486a-bed2-01f7c06ba31d",
   "metadata": {},
   "source": [
    "# RP correlation"
   ]
  },
  {
   "cell_type": "code",
   "execution_count": 13,
   "id": "8feb78cc-f0be-4867-8138-e5f5c727a356",
   "metadata": {},
   "outputs": [],
   "source": [
    "bulk_t_target = pd.read_csv('/fs/home/dongxin/Projects/SCRIPT/scATAC/example/histone/62350_gene_score_5fold_T.txt', comment = '#', sep='\\t', header = None)\n",
    "bulk_mono_target = pd.read_csv('/fs/home/dongxin/Projects/SCRIPT/scATAC/example/histone/34935_gene_score_5fold_Mono.txt', comment = '#', sep='\\t', header = None)\n",
    "\n",
    "bulk_t_target_list = bulk_t_target[6].unique()\n",
    "bulk_mono_target_list = bulk_mono_target[6].unique()\n",
    "\n",
    "bulk_t_target_rp = bulk_t_target.groupby(6).max()[4]\n",
    "bulk_mono_target_rp = bulk_mono_target.groupby(6).max()[4]"
   ]
  },
  {
   "cell_type": "code",
   "execution_count": 16,
   "id": "3f7aa371-d776-41bf-9e37-5ac48d2c8143",
   "metadata": {},
   "outputs": [],
   "source": [
    "bulk_ovlp_target = set(bulk_t_target_rp.index).intersection(impute_t_rp.index)"
   ]
  },
  {
   "cell_type": "code",
   "execution_count": 15,
   "id": "ac47fc12-524a-44f6-b2ad-16169c6b6c53",
   "metadata": {},
   "outputs": [],
   "source": [
    "# impute_t_bc = tmp_meta.index[(tmp_meta['CellType'] == 'naive_CD4_T_cells') | (tmp_meta['CellType'] == 'memory_CD4_T_cells') | (tmp_meta['CellType'] == 'naive_CD8_T_cells')| (tmp_meta['CellType'] == 'effector_CD8_T_cells')]\n",
    "with open('/fs/home/dongxin/Projects/SCRIPT/scATAC/example/histone/peak_base/cuttagpro/SCRIP_PBMC/impute_t_bc.txt','r') as file:\n",
    "    impute_t_bc = [i.rstrip().split('-')[0] for i in file.readlines()]\n",
    "# impute_t_bc = set(impute_RP.columns).intersection(keys.loc[impute_t_bc,'RNA'])\n",
    "impute_t_bc = set(impute_RP.columns).intersection(impute_t_bc)\n",
    "impute_t_rp = impute_RP[impute_t_bc].max(1)\n",
    "\n",
    "atac_t_rp = atac_rp[impute_t_bc].max(1)\n",
    "\n",
    "real_t_bc = real_matadata.index[(real_matadata['Celltype'] == 'CD4 T') | (real_matadata['Celltype'] == 'CD8 T') | (real_matadata['Celltype'] == 'other T')]\n",
    "# real_t_bc = real_matadata.index[ (real_matadata['Celltype'] == 'CD4 T')]\n",
    "real_t_rp = real_RP[real_t_bc].max(1)"
   ]
  },
  {
   "cell_type": "code",
   "execution_count": 19,
   "id": "81521d92-60b8-4ca0-bc0f-c1008db88bf4",
   "metadata": {},
   "outputs": [
    {
     "data": {
      "text/plain": [
       "SpearmanrResult(correlation=0.6826890470656624, pvalue=0.0)"
      ]
     },
     "execution_count": 19,
     "metadata": {},
     "output_type": "execute_result"
    }
   ],
   "source": [
    "scipy.stats.spearmanr(impute_t_rp,real_t_rp)"
   ]
  },
  {
   "cell_type": "code",
   "execution_count": 20,
   "id": "cb534623-c558-4dbf-99fa-7f22a776d8db",
   "metadata": {},
   "outputs": [
    {
     "data": {
      "text/plain": [
       "SpearmanrResult(correlation=0.5583129203614595, pvalue=0.0)"
      ]
     },
     "execution_count": 20,
     "metadata": {},
     "output_type": "execute_result"
    }
   ],
   "source": [
    "scipy.stats.spearmanr(atac_t_rp,real_t_rp)"
   ]
  },
  {
   "cell_type": "code",
   "execution_count": 21,
   "id": "926438ab-57a7-43e7-975b-d6b66518c587",
   "metadata": {},
   "outputs": [
    {
     "data": {
      "text/plain": [
       "SpearmanrResult(correlation=0.3856955331547345, pvalue=0.0)"
      ]
     },
     "execution_count": 21,
     "metadata": {},
     "output_type": "execute_result"
    }
   ],
   "source": [
    "scipy.stats.spearmanr(real_t_rp[bulk_ovlp_target],bulk_t_target_rp[bulk_ovlp_target])"
   ]
  },
  {
   "cell_type": "code",
   "execution_count": 22,
   "id": "2ce05220-a8c4-4bd7-993c-5daa84295a65",
   "metadata": {},
   "outputs": [],
   "source": [
    "# impute_mono_bc = tmp_meta.index[(tmp_meta['CellType'] == 'non-classical_monocytes') | (tmp_meta['CellType'] == 'classical_monocytes') | (tmp_meta['CellType'] == 'intermediate_monocytes')]\n",
    "with open('/fs/home/dongxin/Projects/SCRIPT/scATAC/example/histone/peak_base/cuttagpro/SCRIP_PBMC/impute_mono_bc.txt','r') as file:\n",
    "    impute_mono_bc = [i.rstrip().split('-')[0] for i in file.readlines()]\n",
    "# impute_mono_bc = set(impute_RP.columns).intersection(keys.loc[impute_mono_bc,'RNA'])\n",
    "impute_mono_bc = set(impute_RP.columns).intersection(impute_mono_bc)\n",
    "impute_mono_rp = impute_RP[impute_mono_bc].max(1)\n",
    "\n",
    "atac_mono_rp = atac_rp[impute_mono_bc].max(1)\n",
    "\n",
    "real_mono_bc = real_matadata.index[(real_matadata['Celltype'] == 'Mono')]\n",
    "real_mono_rp = real_RP[real_mono_bc].max(1)"
   ]
  },
  {
   "cell_type": "code",
   "execution_count": 23,
   "id": "94142fa1-19b6-4d93-84cc-367de854897e",
   "metadata": {},
   "outputs": [
    {
     "data": {
      "text/plain": [
       "SpearmanrResult(correlation=0.7298391431790926, pvalue=0.0)"
      ]
     },
     "execution_count": 23,
     "metadata": {},
     "output_type": "execute_result"
    }
   ],
   "source": [
    "scipy.stats.spearmanr(impute_mono_rp,real_mono_rp)"
   ]
  },
  {
   "cell_type": "code",
   "execution_count": 24,
   "id": "9bcd05ca-c5c2-42d0-960c-5bb38d28bab0",
   "metadata": {},
   "outputs": [
    {
     "data": {
      "text/plain": [
       "SpearmanrResult(correlation=0.6316547474096083, pvalue=0.0)"
      ]
     },
     "execution_count": 24,
     "metadata": {},
     "output_type": "execute_result"
    }
   ],
   "source": [
    "scipy.stats.spearmanr(atac_mono_rp,real_mono_rp)"
   ]
  },
  {
   "cell_type": "code",
   "execution_count": 25,
   "id": "c713fe2e-52f4-4eb5-8552-33db9afa8da0",
   "metadata": {},
   "outputs": [
    {
     "data": {
      "text/plain": [
       "SpearmanrResult(correlation=0.3584068064358755, pvalue=0.0)"
      ]
     },
     "execution_count": 25,
     "metadata": {},
     "output_type": "execute_result"
    }
   ],
   "source": [
    "scipy.stats.spearmanr(real_mono_rp[bulk_ovlp_target],bulk_t_target_rp[bulk_ovlp_target])"
   ]
  },
  {
   "cell_type": "code",
   "execution_count": 27,
   "id": "68ffdbf1-cb79-46aa-92de-9f46216035a6",
   "metadata": {},
   "outputs": [],
   "source": [
    "data_df = pd.DataFrame([['SCRIP Imputed', 'T Cells', 0.6826890470656624], ['SCRIP Imputed', 'Monocytes', 0.7298391431790926], \n",
    "                        ['scATAC-seq', 'T Cells', 0.5583129203614595], ['scATAC-seq', 'Monocytes', 0.6316547474096083], \n",
    "                        ['Bulk', 'T Cells', 0.3856955331547345], ['Bulk', 'Monocytes', 0.3584068064358755]])"
   ]
  },
  {
   "cell_type": "code",
   "execution_count": 28,
   "id": "eb1013f2-aed1-4521-8460-6c1d4efe5864",
   "metadata": {},
   "outputs": [
    {
     "data": {
      "image/png": "[encoded data removed]",
      "text/plain": [
       "<Figure size 432x432 with 1 Axes>"
      ]
     },
     "metadata": {
      "needs_background": "light"
     },
     "output_type": "display_data"
    }
   ],
   "source": [
    "fig, ax = plt.subplots(figsize=(6,6))\n",
    "sns.barplot(x=1, y=2, data=data_df, hue=0, palette='Set3', ax=ax)\n",
    "ax.legend(bbox_to_anchor=(1.05, 1), loc='upper left', borderaxespad=0)\n",
    "ax.set_xlabel('Cell Type')\n",
    "ax.set_ylabel('RP Correlation with scCUT&Tag-pro')\n",
    "fig.show()\n",
    "fig.savefig('Figures/RP_correlation_imputed_atac_bulk.pdf', bbox_inches='tight')"
   ]
  },
  {
   "cell_type": "markdown",
   "id": "6d75451e-0e8a-49c3-b472-914741e22df8",
   "metadata": {},
   "source": [
    "# target venn overlap"
   ]
  },
  {
   "cell_type": "code",
   "execution_count": 29,
   "id": "abdca35d-e7fd-4040-92f8-91627254d57e",
   "metadata": {},
   "outputs": [],
   "source": [
    "with open('/fs/home/dongxin/Projects/SCRIPT/scATAC/example/histone/peak_base/cuttagpro/SCRIP_PBMC/impute_t_bc.txt','r') as file:\n",
    "    impute_t_bc = [i.rstrip().split('-')[0] for i in file.readlines()]\n",
    "impute_t_bc = set(impute_RP.columns).intersection(impute_t_bc)\n",
    "impute_t_rp = impute_RP[impute_t_bc].mean(1)\n",
    "\n",
    "atac_t_rp = atac_rp[impute_t_bc].mean(1)\n",
    "\n",
    "real_t_bc = real_matadata.index[(real_matadata['Celltype'] == 'CD4 T') | (real_matadata['Celltype'] == 'CD8 T') | (real_matadata['Celltype'] == 'other T')]\n",
    "real_t_rp = real_RP[real_t_bc].mean(1)"
   ]
  },
  {
   "cell_type": "code",
   "execution_count": 30,
   "id": "e7027a76-6207-4cb7-ad97-815fc2b31289",
   "metadata": {},
   "outputs": [],
   "source": []
  },
  {
   "cell_type": "code",
   "execution_count": 252,
   "id": "b0317832-b408-4daa-af71-66218a0f0fe0",
   "metadata": {},
   "outputs": [
    {
     "data": {
      "image/png": "[encoded data removed]",
      "text/plain": [
       "<Figure size 432x432 with 1 Axes>"
      ]
     },
     "metadata": {},
     "output_type": "display_data"
    }
   ],
   "source": [
    "set1 = set(real_t_rp[bulk_ovlp_target].sort_values(ascending=False)[0:1000].index)\n",
    "set2 = set(impute_t_rp[bulk_ovlp_target].sort_values(ascending=False)[0:1000].index)\n",
    "set3 = set(bulk_t_target_list[0:1000])\n",
    "\n",
    "fig, ax = plt.subplots(figsize=(6,6))\n",
    "out = venn3_unweighted([set1, set2, set3],  ('scCUT&Tag-pro', 'SCRIP Imputed', 'Bulk'))\n",
    "# out = venn3_unweighted([736, 637, 232, 858, 11, 110, 21],  ('scCUT&Tag-pro', 'SCRIP Imputed', 'Bulk'))\n",
    "for x in range(len(out.subset_labels)):\n",
    "    if out.subset_labels[x] is not None:\n",
    "        out.subset_labels[x].set_fontsize(20)\n",
    "fig.show()\n",
    "fig.savefig('Figures/T_target_venn.pdf')"
   ]
  },
  {
   "cell_type": "code",
   "execution_count": 48,
   "id": "a61c25a1-ac53-41da-a8cd-a412a46bafb3",
   "metadata": {},
   "outputs": [
    {
     "name": "stdout",
     "output_type": "stream",
     "text": [
      "PER1\", \"JUNB\", \"ZFP36\", \"VAMP2\", \"CIRBP\", \"MIDN\", \"KDM6B\", \"PLEKHG2\", \"CIC\", \"FOSB\", \"JUND\", \"TMEM107\", \"ERF\", \"FAM174C\", \"TEDC1\", \"KLF16\", \"MNT\", \"ARHGAP45\", \"BORCS6\", \"H3C4\", \"H2AC7\", \"MAZ\", \"H2BC7\", \"CRIP1\", \"ING1\", \"PHF23\", \"TSEN34\", \"U2AF2\", \"MBOAT7\", \"GABARAP\", \"RPS11\", \"AKT1S1\", \"HNRNPL\", \"DUSP1\", \"H4C5\", \"ATP5F1D\", \"TBC1D17\", \"DBP\", \"CUTA\", \"H4C2\", \"GSK3A\", \"TMEM88\", \"ZNF48\", \"H3C2\", \"UBE2M\", \"CCDC106\", \"HOOK2\", \"WDR74\", \"SYNGAP1\", \"TRIM41\", \"PLEC\", \"ERCC1\", \"SIN3A\", \"H2AC4\", \"PRRT2\", \"PHF1\", \"ZNF581\", \"DVL2\", \"FBRS\", \"RPL13A\", \"MYLPF\", \"ZNF580\", \"NAA38\", \"TBC1D10B\", \"CHMP2A\", \"CYB5D1\", \"DNAJB1\", \"H4C1\", \"MZF1\", \"MEPCE\", \"FKBP2\", \"PTMA\", \"PAGR1\", \"LOC114841035\", \"FLT3LG\", \"PNKP\", \"TCTEX1D4\", \"U2AF1L4\", \"PSENEN\", \"BTBD19\", \"ZCWPW1\", \"POLR2E\", \"PRDX2\", \"H2BC8\", \"ADGRE5\", \"H2AC8\", \"H4C4\", \"ZNRD2\", \"MED29\", \"CCDC85B\", \"EIF5A\", \"PAF1\", \"UBTF\", \"CD248\", \"RPLP2\", \"FIBP\", \"CTDNEP1\", \"ELP5\", \"H3C1\", \"RNPEPL1\", \"ATXN7L3\", \"FAM89B\", \"MUS81\", \"ABHD17A\", \"C12orf57\", \"SCO2\", \"PLK3\", \"SARAF\", \"BCL9L\", \"CFL1\", \"IGFLR1\", \"TYMP\", \"KLF13\", \"LIN37\", \"BRD2\", \"H2BC3\", \"ZC3H10\", \"GPR137\", \"PRR14\", \"GPX4\", \"BAD\", \"ESRRA\", \"NR4A2\", \"CBARP\", \"HIVEP2\", \"TPGS1\", \"SEPTIN1\", \"PRR7\", \"FOS\", \"RPL41\", \"PNPLA2\", \"ODF3B\", \"ANKMY1\", \"H3C3\", \"IRF2BP2\", \"NAB2\", \"EIF4A1\", \"PPP1R14B\", \"STX5\", \"SRSF2\", \"PIDD1\", \"CRIP2\", \"PTPN6\", \"ZBTB22\", \"MFSD11\", \"DUSP2\", \"RASSF7\", \"LMNTD2\", \"ZNHIT2\", \"HES7\", \"LTBP3\", \"CDK4\", \"TAPBP\", \"SF1\", \"EHBP1L1\", \"ZNF524\", \"EMC9\", \"ZFP36L1\", \"VEGFB\", \"TRIM28\", \"TLCD1\", \"DUSP28\", \"EMP3\", \"ZBTB4\", \"ARHGDIA\", \"PSME2\", \"RNF31\", \"MARCHF9\", \"RASGRP2\", \"POLR2A\", \"FIZ1\", \"CA11\", \"SPATA2L\", \"RASSF1\", \"H3C6\", \"SETD1B\", \"ESYT1\", \"KLF9\", \"MYADM\", \"H2BC6\", \"CTDSP1\", \"ZNF865\", \"NEK8\", \"MKNK2\", \"PPP1R35\", \"DPAGT1\", \"CARS2\", \"H1-3\", \"H2AX\", \"KLF2\", \"GRK6\", \"IQCN\", \"NR1D1\", \"ACADVL\", \"BBC3\", \"GPS2\", \"YIF1A\", \"SOCS3\", \"RHOF\", \"DLG4\", \"SKI\", \"TECR\", \"ZNF784\", \"YWHAZ\", \"SLC35G6\", \"ALOXE3\", \"TM7SF2\", \"NR4A1\", \"CATSPERZ\", \"RAB1B\", \"ALDH16A1\", \"MVP\", \"SNAPC2\", \"METTL23\", \"RPL23A\", \"P4HB\", \"CCDC114\", \"PHRF1\", \"TRIM7\", \"LRRFIP1\", \"HEXIM1\", \"SLC25A22\", \"JMJD6\", \"EFEMP2\", \"LEPROTL1\", \"DAXX\", \"CARNS1\", \"ZBTB7A\", \"CKS1B\", \"SHC1\", \"PFN1\", \"KCNK4\", \"FAU\", \"MRPL49\", \"H2BC5\", \"HRAS\", \"ZNF846\", \"CCDC9\", \"DNAJC4\", \"AMDHD2\", \"PSME1\", \"BTG2\", \"LRRC56\", \"AP3M2\", \"CTSW\", \"RPS9\", \"PIH1D1\", \"PLCB3\", \"HNRNPF\", \"SPHK2\", \"CEMP1\", \"NPRL2\", \"CYB561D2\", \"RPS6KB2\", \"MTA2\", \"CNIH2\", \"ZFP36L2\", \"H1-1\", \"C2CD2L\", \"H2BC10\", \"H4C6\", \"DCAF11\", \"NRL\", \"ZMYND10\", \"PYGO2\", \"LOC101928120\", \"RARA\", \"C17orf49\", \"HNRNPUL1\", \"CDK9\", \"GMEB2\", \"PBXIP1\", \"RAB34\", \"TUBB4B\", \"ENO3\", \"KLF6\", \"RTN2\", \"USP5\", \"H1-4\", \"ZBTB45\", \"TMEM151A\", \"CD68\", \"RPS2\", \"ACTB\", \"CXCR4\", \"RNF44\", \"PPM1N\", \"NEURL4\", \"UNK\", \"EGLN2\", \"ATP6V0C\", \"FOSL1\", \"REXO1\", \"TRMT112\", \"TSPAN31\", \"H3C8\", \"PIP4P1\", \"HNRNPUL2\", \"GZF1\", \"ZNF837\", \""
     ]
    }
   ],
   "source": [
    "# This is used to perform the go analysis\n",
    "for i in impute_t_rp[bulk_ovlp_target].sort_values(ascending=False)[0:300].index:\n",
    "    print(i, end='\", \"')"
   ]
  },
  {
   "cell_type": "code",
   "execution_count": 33,
   "id": "1941c5b2-f71f-4184-b0f8-cc1631f4970a",
   "metadata": {},
   "outputs": [],
   "source": [
    "with open('/fs/home/dongxin/Projects/SCRIPT/scATAC/example/histone/peak_base/cuttagpro/SCRIP_PBMC/impute_mono_bc.txt','r') as file:\n",
    "    impute_mono_bc = [i.rstrip().split('-')[0] for i in file.readlines()]\n",
    "impute_mono_bc = set(impute_RP.columns).intersection(impute_mono_bc)\n",
    "impute_mono_rp = impute_RP[impute_mono_bc].mean(1)\n",
    "\n",
    "atac_mono_rp = atac_rp[impute_mono_bc].mean(1)\n",
    "\n",
    "real_mono_bc = real_matadata.index[(real_matadata['Celltype'] == 'Mono')]\n",
    "real_mono_rp = real_RP[real_mono_bc].mean(1)"
   ]
  },
  {
   "cell_type": "code",
   "execution_count": 35,
   "id": "49fae917-0d92-4870-9b75-93cfd9b9fcef",
   "metadata": {},
   "outputs": [
    {
     "data": {
      "image/png": "[encoded data removed]",
      "text/plain": [
       "<Figure size 432x432 with 1 Axes>"
      ]
     },
     "metadata": {},
     "output_type": "display_data"
    }
   ],
   "source": [
    "set1 = set(real_mono_rp[bulk_ovlp_target].sort_values(ascending=False)[0:1000].index)\n",
    "set2 = set(impute_mono_rp[bulk_ovlp_target].sort_values(ascending=False)[0:1000].index)\n",
    "set3 = set(bulk_mono_target_list[0:1000])\n",
    "\n",
    "fig, ax = plt.subplots(figsize=(6,6))\n",
    "out = venn3_unweighted([set1, set2, set3],  ('scCUT&Tag-pro', 'SCRIP Imputed', 'Bulk'))\n",
    "# out = venn3_unweighted([661, 545, 232, 702, 75, 191, 32], ('scCUT&Pro', 'SCRIPT Imputed', 'Bulk'))\n",
    "for x in range(len(out.subset_labels)):\n",
    "    if out.subset_labels[x] is not None:\n",
    "        out.subset_labels[x].set_fontsize(20)\n",
    "fig.show()\n",
    "fig.savefig('Figures/mono_target_venn.pdf')"
   ]
  },
  {
   "cell_type": "code",
   "execution_count": 49,
   "id": "ba6eb2a3-9e61-4940-8663-185764652c29",
   "metadata": {},
   "outputs": [
    {
     "name": "stdout",
     "output_type": "stream",
     "text": [
      "ZFP36\", \"PLEKHG2\", \"KDM6B\", \"ODF3B\", \"TYMP\", \"MIDN\", \"SCO2\", \"ERCC1\", \"JUNB\", \"DUSP1\", \"FOSB\", \"CIRBP\", \"PER1\", \"TSEN34\", \"MED29\", \"MBOAT7\", \"PAF1\", \"MNT\", \"JUND\", \"FOS\", \"RPS9\", \"TMEM88\", \"MYADM\", \"BTBD19\", \"TCTEX1D4\", \"ATP5F1D\", \"VAMP2\", \"UBE2M\", \"LRRFIP1\", \"MZF1\", \"AKT1S1\", \"NAA38\", \"TBC1D17\", \"CYB5D1\", \"CTDSP1\", \"FTH1\", \"IFI30\", \"CIC\", \"FAM174C\", \"CHMP2A\", \"TEDC1\", \"EIF4A1\", \"WDR74\", \"IRF1\", \"FKBP2\", \"LOC114841035\", \"CRIP1\", \"OSM\", \"VIM\", \"KLF16\", \"KLF2\", \"GABARAP\", \"CD68\", \"SSBP4\", \"PHF23\", \"PLK3\", \"NANOS3\", \"FBRS\", \"TMEM107\", \"ESRRA\", \"ING1\", \"CBARP\", \"THEMIS2\", \"FOXO3\", \"SOCS3\", \"PNKP\", \"PNPLA2\", \"BORCS6\", \"KLHDC7B\", \"GPX4\", \"STX5\", \"ERF\", \"USP3\", \"RPS16\", \"HNRNPL\", \"PTMA\", \"BRD2\", \"LOC100996842\", \"NR4A1\", \"MPDU1\", \"CTDNEP1\", \"ELP5\", \"PLAUR\", \"ADGRE5\", \"ATF3\", \"CD74\", \"RARA\", \"CDK9\", \"PPP1R14B\", \"RPLP2\", \"IQCN\", \"CATSPERZ\", \"PRR14\", \"U2AF2\", \"SP1\", \"FOSL2\", \"CCDC9\", \"H3-3B\", \"NR1D1\", \"U2AF1L4\", \"PSENEN\", \"MKNK2\", \"SH2D3C\", \"PDE4A\", \"DBP\", \"POLR2E\", \"ATP6V0C\", \"AMDHD2\", \"DVL2\", \"CARD19\", \"UNK\", \"HNRNPF\", \"MYLPF\", \"P4HB\", \"SKI\", \"GPR137\", \"BBC3\", \"LMNA\", \"TBC1D10B\", \"SLC11A1\", \"KLF6\", \"BAD\", \"CASP9\", \"MCL1\", \"GRK6\", \"VEGFB\", \"TAGLN2\", \"PIM3\", \"TRIM8\", \"B2M\", \"RFX1\", \"ANKMY1\", \"LIN37\", \"WDR81\", \"NR4A2\", \"GSK3A\", \"TRIM28\", \"MEPCE\", \"RNPEPL1\", \"ATG16L2\", \"DENND4B\", \"CEMP1\", \"ARHGDIA\", \"BEST1\", \"IGFLR1\", \"PRDX2\", \"STK40\", \"FAM89B\", \"ZCWPW1\", \"SENP3\", \"MED11\", \"HOOK2\", \"ZNRD2\", \"MPV17L2\", \"EHD1\", \"DUSP28\", \"TRMT112\", \"DNAJC16\", \"CCDC85B\", \"EHBP1L1\", \"PRDX5\", \"KLF4\", \"PTPN6\", \"C12orf57\", \"LFNG\", \"FIBP\", \"DENND3\", \"ANKRD13D\", \"NR4A3\", \"SIN3A\", \"C17orf49\", \"TLCD1\", \"CRIP2\", \"RALGDS\", \"PLEC\", \"MTX1\", \"TAPBP\", \"KCNK4\", \"IBA57\", \"PIDD1\", \"PLCB3\", \"DNAJC4\", \"RPL23A\", \"EIF5A\", \"MOB3A\", \"THBS3\", \"MEF2D\", \"NEK8\", \"METTL23\", \"BHLHE40\", \"JMJD6\", \"ZFP36L2\", \"ZNF48\", \"RNF31\", \"PSME2\", \"H2AX\", \"PILRA\", \"ZBTB22\", \"ARHGAP45\", \"RGL2\", \"PFN1\", \"CCDC106\", \"DPAGT1\", \"IZUMO4\", \"VASP\", \"KAT8\", \"GZF1\", \"CRACR2B\", \"OAZ1\", \"GNAI2\", \"BCL3\", \"BTG2\", \"ZMYND15\", \"ARRB2\", \"C2CD2L\", \"RNASEK\", \"RTN2\", \"ATP2B1\", \"CXCL16\", \"IRF2BP2\", \"PRKACA\", \"RAB34\", \"TRABD\", \"H3C4\", \"H2AC7\", \"QKI\", \"PPM1N\", \"H2BC7\", \"TNFSF13\", \"FAAP20\", \"ZBTB7A\", \"CFL1\", \"SPHK2\", \"MROH6\", \"MUS81\", \"RASSF1\", \"PIK3R2\", \"H4C5\", \"ENO3\", \"MFSD11\", \"CDC37\", \"MAZ\", \"GSDMD\", \"NXF1\", \"RPS11\", \"SRSF2\", \"CARS2\", \"PDLIM7\", \"EMC9\", \"RHBDF2\", \"METRNL\", \"RPS2\", \"SERTAD3\", \"USP4\", \"DNAJB1\", \"HEXIM1\", \"GPSM3\", \"ZBTB45\", \"TRIB1\", \"SHC1\", \"CKS1B\", \"PPCDC\", \"ZNF672\", \"ZNF581\", \"PDPK1\", \"ABHD17A\", \"ADAT3\", \"SCAMP4\", \"HYAL3\", \"NAA80\", \"EIF1\", \"ARID5A\", \"NDUFAF3\", \"DOK3\", \"DOT1L\", \"ATXN7L3\", \"UBE2D3\", \"DALRD3\", \"PHF1\", \"PPP1R35\", \"SLC16A3\", \"ALDOA\", \"SLC25A22\", \"ADAMTSL4\", \"AHNAK\", \"ZNF580\", \"FAM214B\", \"RNF151\", \"INAFM1\", \"ACTB\", \"IL4I1\", \"ZC3H10\", \"NUDT22\", \"TRPT1\", \"NOTCH1\", \"CUTA\", \"PGS1\", \"PRKCG\", \"ZNF687\", \"CD300LB\", \""
     ]
    }
   ],
   "source": [
    "for i in impute_mono_rp[bulk_ovlp_target].sort_values(ascending=False)[0:300].index:\n",
    "    print(i, end='\", \"')"
   ]
  }
 ],
 "metadata": {
  "kernelspec": {
   "display_name": "SCRIPT",
   "language": "python",
   "name": "script"
  },
  "language_info": {
   "codemirror_mode": {
    "name": "ipython",
    "version": 3
   },
   "file_extension": ".py",
   "mimetype": "text/x-python",
   "name": "python",
   "nbconvert_exporter": "python",
   "pygments_lexer": "ipython3",
   "version": "3.8.12"
  },
  "toc-autonumbering": false,
  "toc-showcode": false
 },
 "nbformat": 4,
 "nbformat_minor": 5
}
