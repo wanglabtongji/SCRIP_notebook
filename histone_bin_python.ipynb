{
 "cells": [
  {
   "cell_type": "markdown",
   "id": "722855bb-c337-40ea-aabb-e6b55ff162e5",
   "metadata": {},
   "source": [
    "# library"
   ]
  },
  {
   "cell_type": "code",
   "execution_count": 35,
   "id": "d9885f6b-2b82-4fec-85db-8022399d43ff",
   "metadata": {},
   "outputs": [],
   "source": [
    "import os\n",
    "import sys\n",
    "import re\n",
    "import pickle\n",
    "import random\n",
    "import subprocess\n",
    "import time\n",
    "import threading\n",
    "import shutil\n",
    "from concurrent.futures import ThreadPoolExecutor, ProcessPoolExecutor, wait, ALL_COMPLETED, as_completed\n",
    "from datetime import datetime, timedelta\n",
    "from multiprocessing import Process, Pool\n",
    "\n",
    "import numpy as np\n",
    "import pandas as pd\n",
    "import anndata as ad\n",
    "import h5py\n",
    "# import Bio\n",
    "# from Bio import motifs\n",
    "import pysam\n",
    "import pyranges\n",
    "import pybedtools\n",
    "import matplotlib.pyplot as plt\n",
    "import matplotlib as mpl\n",
    "import seaborn as sns\n",
    "import sklearn\n",
    "from sklearn import preprocessing\n",
    "import scipy\n",
    "from scipy import io\n",
    "import scanpy as sc\n",
    "from sklearn.cluster import KMeans\n",
    "from adjustText import adjust_text\n",
    "# import episcanpy\n",
    "import ruamel.yaml\n",
    "yaml = ruamel.yaml.YAML(typ=\"safe\")\n",
    "yaml.default_flow_style = False\n",
    "\n",
    "\n",
    "import SCRIPT\n",
    "from SCRIPT.utilities import utils\n",
    "from SCRIPT.utilities.utils import print_log, safe_makedirs, excute_info\n",
    "\n",
    "import warnings\n",
    "warnings.simplefilter(action='ignore', category=pd.errors.PerformanceWarning)\n",
    "# warnings.simplefilter(action='ignore', category=subprocess.)\n",
    "\n",
    "plt.rcParams.update({\n",
    "    'figure.figsize': [8.0, 8.0],\n",
    "    'font.size' : 15,\n",
    "    'font.family': 'Arial',\n",
    "    'font.style' : 'normal',\n",
    "    'font.weight':'bold',\n",
    "    'figure.titleweight': 'bold',\n",
    "    'axes.labelsize': 14 ,\n",
    "    'axes.titleweight': 'normal',\n",
    "    'axes.labelweight': 'bold',\n",
    "    'axes.spines.right': False,\n",
    "    'axes.spines.top': False,\n",
    "})\n",
    "\n",
    "N = 256\n",
    "vals = np.ones((N, 4))\n",
    "vals[:, 0] = np.linspace(220/256, 34/256, N)\n",
    "vals[:, 1] = np.linspace(220/256, 7/256, N)\n",
    "vals[:, 2] = np.linspace(220/256, 141/256, N)\n",
    "regulation_cmp = mpl.colors.ListedColormap(vals)"
   ]
  },
  {
   "cell_type": "code",
   "execution_count": 20,
   "id": "7456d2d7-d1b0-4a33-af1f-491a8ad6abf0",
   "metadata": {},
   "outputs": [],
   "source": [
    "def preprocess(inputadata, min_cells=10, min_genes=200, max_genes=7000, title=''):\n",
    "    adata = inputadata.copy()\n",
    "    sc.pp.filter_cells(adata, min_genes=min_genes)\n",
    "    sc.pp.filter_genes(adata, min_cells=min_cells)\n",
    "    sc.pp.calculate_qc_metrics(adata, percent_top=None, log1p=False, inplace=True)\n",
    "    adata = adata[adata.obs.n_genes_by_counts < max_genes, :]\n",
    "    sc.pl.violin(adata, ['n_genes_by_counts', 'total_counts'], jitter=0.4, multi_panel=True)\n",
    "    sc.pl.scatter(adata, x='total_counts', y='n_genes_by_counts')\n",
    "    sc.tl.pca(adata, svd_solver='arpack')\n",
    "    sc.pl.pca_variance_ratio(adata, log=True)\n",
    "    sc.pp.neighbors(adata, n_neighbors=10, n_pcs=40)\n",
    "    sc.tl.umap(adata)\n",
    "    sc.tl.louvain(adata)\n",
    "    sc.pl.umap(adata, color=['louvain'], legend_fontsize=15, title=title)\n",
    "    return adata"
   ]
  },
  {
   "cell_type": "code",
   "execution_count": 44,
   "id": "fe994f50-c59d-4e4d-b868-96890784171a",
   "metadata": {},
   "outputs": [],
   "source": [
    "H3K27ac = sc.read_10x_h5('example/histone/data/matrix/H3K27ac_bin_count.h5', gex_only=False)\n",
    "# H3K4me1 = sc.read_10x_h5('example/histone/data/H3K4me1_bin_count.h5', gex_only=False)\n",
    "# H3K4me3 = sc.read_10x_h5('example/histone/data/H3K4me3_bin_count.h5', gex_only=False)"
   ]
  },
  {
   "cell_type": "code",
   "execution_count": null,
   "id": "88b9869f-a2fd-4f63-8dfd-f45f11d4d2cf",
   "metadata": {},
   "outputs": [],
   "source": [
    "# H3K27ac = sc.read_10x_mtx('example/histone/data/fastq/H3K27ac_H3K4me1/H3K27ac_merge_filtered/', gex_only=False)\n",
    "# H3K4me1 = sc.read_10x_mtx('example/histone/data/fastq/H3K27ac_H3K4me1/H3K4me1_merge_filtered/', gex_only=False)\n",
    "# H3K4me3 = sc.read_10x_mtx('example/histone/data/fastq/H3K4me3/H3K4me3_merge_filter_filtered/', gex_only=False)\n",
    "# ATAC = sc.read_10x_mtx('example/histone/data/fastq/paired-seq/Access_merge_filter_filtered/', gex_only=False)"
   ]
  },
  {
   "cell_type": "code",
   "execution_count": null,
   "id": "f6f5043e-2dc3-4182-b0cd-a9cce6dc0700",
   "metadata": {},
   "outputs": [],
   "source": [
    "H3K27ac_processed = preprocess(H3K27ac, min_cells=0, min_genes=0, max_genes=70000)"
   ]
  },
  {
   "cell_type": "code",
   "execution_count": null,
   "id": "b4b36f9d-c9f3-4310-af58-c13efcf5cc0b",
   "metadata": {},
   "outputs": [],
   "source": []
  },
  {
   "cell_type": "code",
   "execution_count": null,
   "id": "0437af30-f206-45ec-b3fe-c37f7dfc5e17",
   "metadata": {},
   "outputs": [],
   "source": [
    "H3K4me1_processed = preprocess(H3K4me1, min_cells=50, min_genes=500, max_genes=6000)"
   ]
  },
  {
   "cell_type": "code",
   "execution_count": null,
   "id": "cc5ad64c-dd54-41b3-8600-84aec28da165",
   "metadata": {},
   "outputs": [],
   "source": [
    "H3K4me1_processed"
   ]
  },
  {
   "cell_type": "code",
   "execution_count": null,
   "id": "6decc84a-a333-44d6-97fb-d88ac384c803",
   "metadata": {},
   "outputs": [],
   "source": [
    "sc.pl.umap(H3K4me1_processed, color='n_genes_by_counts')"
   ]
  },
  {
   "cell_type": "code",
   "execution_count": null,
   "id": "cea2d326-94eb-4f1a-b2ea-b525b62043f5",
   "metadata": {},
   "outputs": [],
   "source": [
    "H3K4me1"
   ]
  },
  {
   "cell_type": "code",
   "execution_count": null,
   "id": "1709684e-94ce-4c77-9d4d-6c62c33b94b2",
   "metadata": {},
   "outputs": [],
   "source": [
    "H3K4me3_processed = preprocess(H3K4me3, min_cells=0, min_genes=0, max_genes=10000)"
   ]
  },
  {
   "cell_type": "code",
   "execution_count": null,
   "id": "2f17bb18-dbe2-416b-86eb-4c85fb20ae74",
   "metadata": {},
   "outputs": [],
   "source": [
    "ATAC_processed = preprocess(ATAC, min_cells=0, min_genes=0, max_genes=10000)"
   ]
  },
  {
   "cell_type": "code",
   "execution_count": null,
   "id": "6d2fc963-999e-4fd4-a41c-8bd87e124248",
   "metadata": {},
   "outputs": [],
   "source": [
    "min_peaks = 'auto'\n",
    "min_cells = 'auto'\n",
    "max_peaks = 'auto'"
   ]
  },
  {
   "cell_type": "code",
   "execution_count": null,
   "id": "010f9fc9-3f6c-46cd-b745-a15786364e84",
   "metadata": {},
   "outputs": [],
   "source": [
    "featurstore_to_picklerix = sc.read_10x_h5('example/PBMC/data/ATAC/filtered_mtx/PBMC_granulocyte_sorted_10k_filtered_peak_count.h5', gex_only=False)"
   ]
  },
  {
   "cell_type": "code",
   "execution_count": null,
   "id": "4cac0e8d-e92f-4941-be66-76130005071e",
   "metadata": {},
   "outputs": [],
   "source": [
    "min_peaks = 'auto'\n",
    "min_cells = 'auto'\n",
    "max_peaks = 'auto'\n",
    "sc.pp.calculate_qc_metrics(feature_matrix, percent_top=None, log1p=False, inplace=True)\n",
    "feature_mean = feature_matrix.obs.n_genes_by_counts.mean()\n",
    "feature_std = feature_matrix.obs.n_genes_by_counts.std()\n",
    "\n",
    "if min_cells == 'auto':\n",
    "    min_cells = int(0.005 * feature_matrix.n_obs)\n",
    "else:\n",
    "    min_cells = int(min_cells)\n",
    "sc.pp.filter_genes(feature_matrix, min_cells=min_cells)\n",
    "\n",
    "if min_peaks == 'auto':\n",
    "    min_peaks = 500 if feature_mean-3*feature_std < 500 else feature_mean-3*feature_std\n",
    "else:\n",
    "    min_peaks = int(min_peaks)\n",
    "sc.pp.filter_cells(feature_matrix, min_genes=min_peaks)  # filter by n_genes_by_counts\n",
    "\n",
    "if max_peaks == 'auto':\n",
    "    max_peaks = feature_mean+3*feature_std\n",
    "else:\n",
    "    max_peaks = int(max_peaks)\n",
    "feature_matrix = feature_matrix[feature_matrix.obs.n_genes_by_counts < max_peaks, :]"
   ]
  },
  {
   "cell_type": "code",
   "execution_count": null,
   "id": "acaac0ce-7aef-469c-8d6f-a4aa62dcaa8c",
   "metadata": {},
   "outputs": [],
   "source": [
    "feature_matrix.var"
   ]
  },
  {
   "cell_type": "code",
   "execution_count": null,
   "id": "294e3854-085d-4b80-9fce-39b437ac9efd",
   "metadata": {},
   "outputs": [],
   "source": [
    "feature_matrix"
   ]
  },
  {
   "cell_type": "code",
   "execution_count": null,
   "id": "c1600273-5b6b-40ec-9d9d-a3db60f57c67",
   "metadata": {},
   "outputs": [],
   "source": [
    "sns.displot(H3K4me3.obs.n_genes_by_counts)"
   ]
  },
  {
   "cell_type": "code",
   "execution_count": null,
   "id": "40bdcd60-b097-4a94-af6e-fcc7a4082929",
   "metadata": {},
   "outputs": [],
   "source": [
    "H3K27ac_processed = preprocess(H3K27ac, min_cells=50, min_genes=500, max_genes=7000, title='H3K27ac')"
   ]
  },
  {
   "cell_type": "code",
   "execution_count": null,
   "id": "1db1d6e7-4db7-486f-8c46-63ea6c225ac6",
   "metadata": {},
   "outputs": [],
   "source": [
    "H3K4me1_processed = preprocess(H3K4me1, min_cells=50, min_genes=500, max_genes=15000, title='H3K4me1')"
   ]
  },
  {
   "cell_type": "code",
   "execution_count": null,
   "id": "48fc6618-dda9-4318-b5a8-08b514252f58",
   "metadata": {},
   "outputs": [],
   "source": [
    "H3K4me3_processed = preprocess(H3K4me3, min_cells=10, min_genes=200, max_genes=3000, title='H3K4me3')"
   ]
  },
  {
   "cell_type": "code",
   "execution_count": null,
   "id": "3acd2d31-1608-459f-b509-cfc522123f8d",
   "metadata": {},
   "outputs": [],
   "source": [
    "sc.pp.calculate_qc_metrics(H3K27ac, percent_top=None, log1p=False, inplace=True)\n",
    "\n",
    "sc.pl.violin(H3K27ac, ['n_genes_by_counts', 'total_counts'], jitter=0.4, multi_panel=True)\n",
    "\n",
    "sc.pl.scatter(H3K27ac, x='total_counts', y='n_genes_by_counts')\n",
    "\n",
    "H3K27ac = H3K27ac[H3K27ac.obs.n_genes_by_counts < 7000, :]\n",
    "\n",
    "H3K27ac\n",
    "\n",
    "# sc.pp.scale(H3K27ac, max_value=10)\n",
    "sc.tl.pca(H3K27ac, svd_solver='arpack')\n",
    "sc.pl.pca_variance_ratio(H3K27ac, log=True)\n",
    "sc.pp.neighbors(H3K27ac, n_neighbors=10, n_pcs=40)\n",
    "sc.tl.umap(H3K27ac)\n",
    "\n",
    "sc.tl.louvain(H3K27ac)\n",
    "\n",
    "sc.pl.umap(H3K27ac, color=['louvain'], legend_fontsize=15, title='H3K27ac')"
   ]
  },
  {
   "cell_type": "code",
   "execution_count": 24,
   "id": "3127a777-c910-4026-9d7a-f1840744b23f",
   "metadata": {},
   "outputs": [],
   "source": [
    "metadata = pd.read_csv('example/histone/data/matrix/meta.tsv', sep='\\t', index_col=0)"
   ]
  },
  {
   "cell_type": "code",
   "execution_count": 25,
   "id": "02decb85-f11c-46ec-a635-c3dfd4cbd7d0",
   "metadata": {},
   "outputs": [
    {
     "data": {
      "text/html": [
       "<div>\n",
       "<style scoped>\n",
       "    .dataframe tbody tr th:only-of-type {\n",
       "        vertical-align: middle;\n",
       "    }\n",
       "\n",
       "    .dataframe tbody tr th {\n",
       "        vertical-align: top;\n",
       "    }\n",
       "\n",
       "    .dataframe thead th {\n",
       "        text-align: right;\n",
       "    }\n",
       "</style>\n",
       "<table border=\"1\" class=\"dataframe\">\n",
       "  <thead>\n",
       "    <tr style=\"text-align: right;\">\n",
       "      <th></th>\n",
       "      <th>Tissue</th>\n",
       "      <th>Rep</th>\n",
       "      <th>Target</th>\n",
       "      <th>Total_RNA_Reads</th>\n",
       "      <th>Mapped_RNA_Reads</th>\n",
       "      <th>Uniquely_Mapped_RNA_Reads</th>\n",
       "      <th>UMI_RNA</th>\n",
       "      <th>nGene_RNA</th>\n",
       "      <th>Total_DNA_Reads</th>\n",
       "      <th>Mapped_DNA_Reads</th>\n",
       "      <th>Uniquely_Mapped_DNA_Reads</th>\n",
       "      <th>nFragments_DNA</th>\n",
       "      <th>Membership</th>\n",
       "      <th>Annotation</th>\n",
       "    </tr>\n",
       "    <tr>\n",
       "      <th>Cell_ID</th>\n",
       "      <th></th>\n",
       "      <th></th>\n",
       "      <th></th>\n",
       "      <th></th>\n",
       "      <th></th>\n",
       "      <th></th>\n",
       "      <th></th>\n",
       "      <th></th>\n",
       "      <th></th>\n",
       "      <th></th>\n",
       "      <th></th>\n",
       "      <th></th>\n",
       "      <th></th>\n",
       "      <th></th>\n",
       "    </tr>\n",
       "  </thead>\n",
       "  <tbody>\n",
       "    <tr>\n",
       "      <th>01:02:16:08</th>\n",
       "      <td>FC</td>\n",
       "      <td>2</td>\n",
       "      <td>H3K27ac</td>\n",
       "      <td>19425</td>\n",
       "      <td>18643</td>\n",
       "      <td>18211</td>\n",
       "      <td>5818</td>\n",
       "      <td>999</td>\n",
       "      <td>5426</td>\n",
       "      <td>5284</td>\n",
       "      <td>5093</td>\n",
       "      <td>1878</td>\n",
       "      <td>3</td>\n",
       "      <td>L5</td>\n",
       "    </tr>\n",
       "    <tr>\n",
       "      <th>01:02:19:07</th>\n",
       "      <td>FC</td>\n",
       "      <td>1</td>\n",
       "      <td>H3K27ac</td>\n",
       "      <td>6358</td>\n",
       "      <td>5891</td>\n",
       "      <td>5700</td>\n",
       "      <td>2043</td>\n",
       "      <td>557</td>\n",
       "      <td>2281</td>\n",
       "      <td>2225</td>\n",
       "      <td>2102</td>\n",
       "      <td>793</td>\n",
       "      <td>15</td>\n",
       "      <td>OPC</td>\n",
       "    </tr>\n",
       "    <tr>\n",
       "      <th>01:02:21:07</th>\n",
       "      <td>FC</td>\n",
       "      <td>1</td>\n",
       "      <td>H3K27ac</td>\n",
       "      <td>4726</td>\n",
       "      <td>4500</td>\n",
       "      <td>4399</td>\n",
       "      <td>1545</td>\n",
       "      <td>434</td>\n",
       "      <td>7735</td>\n",
       "      <td>7484</td>\n",
       "      <td>7066</td>\n",
       "      <td>2687</td>\n",
       "      <td>16</td>\n",
       "      <td>Oligo_MOL</td>\n",
       "    </tr>\n",
       "    <tr>\n",
       "      <th>01:02:21:09</th>\n",
       "      <td>FC</td>\n",
       "      <td>3</td>\n",
       "      <td>H3K27ac</td>\n",
       "      <td>15582</td>\n",
       "      <td>14707</td>\n",
       "      <td>14363</td>\n",
       "      <td>4851</td>\n",
       "      <td>1002</td>\n",
       "      <td>17282</td>\n",
       "      <td>16824</td>\n",
       "      <td>15981</td>\n",
       "      <td>6374</td>\n",
       "      <td>3</td>\n",
       "      <td>L5</td>\n",
       "    </tr>\n",
       "    <tr>\n",
       "      <th>01:02:21:10</th>\n",
       "      <td>HC</td>\n",
       "      <td>1</td>\n",
       "      <td>H3K27ac</td>\n",
       "      <td>6385</td>\n",
       "      <td>5980</td>\n",
       "      <td>5861</td>\n",
       "      <td>2035</td>\n",
       "      <td>519</td>\n",
       "      <td>4987</td>\n",
       "      <td>4841</td>\n",
       "      <td>4634</td>\n",
       "      <td>1809</td>\n",
       "      <td>11</td>\n",
       "      <td>DG</td>\n",
       "    </tr>\n",
       "    <tr>\n",
       "      <th>...</th>\n",
       "      <td>...</td>\n",
       "      <td>...</td>\n",
       "      <td>...</td>\n",
       "      <td>...</td>\n",
       "      <td>...</td>\n",
       "      <td>...</td>\n",
       "      <td>...</td>\n",
       "      <td>...</td>\n",
       "      <td>...</td>\n",
       "      <td>...</td>\n",
       "      <td>...</td>\n",
       "      <td>...</td>\n",
       "      <td>...</td>\n",
       "      <td>...</td>\n",
       "    </tr>\n",
       "    <tr>\n",
       "      <th>56:96:79:12</th>\n",
       "      <td>HC</td>\n",
       "      <td>2</td>\n",
       "      <td>ATAC</td>\n",
       "      <td>6511</td>\n",
       "      <td>5211</td>\n",
       "      <td>4847</td>\n",
       "      <td>3424</td>\n",
       "      <td>726</td>\n",
       "      <td>22814</td>\n",
       "      <td>21542</td>\n",
       "      <td>17774</td>\n",
       "      <td>6529</td>\n",
       "      <td>18</td>\n",
       "      <td>Astro_Myoc</td>\n",
       "    </tr>\n",
       "    <tr>\n",
       "      <th>56:96:93:04</th>\n",
       "      <td>HC</td>\n",
       "      <td>1</td>\n",
       "      <td>ATAC</td>\n",
       "      <td>56864</td>\n",
       "      <td>51186</td>\n",
       "      <td>49159</td>\n",
       "      <td>32865</td>\n",
       "      <td>3503</td>\n",
       "      <td>25773</td>\n",
       "      <td>23399</td>\n",
       "      <td>20056</td>\n",
       "      <td>6497</td>\n",
       "      <td>12</td>\n",
       "      <td>CGE</td>\n",
       "    </tr>\n",
       "    <tr>\n",
       "      <th>56:96:94:01</th>\n",
       "      <td>FC</td>\n",
       "      <td>1</td>\n",
       "      <td>ATAC</td>\n",
       "      <td>7444</td>\n",
       "      <td>5227</td>\n",
       "      <td>4181</td>\n",
       "      <td>3245</td>\n",
       "      <td>778</td>\n",
       "      <td>8004</td>\n",
       "      <td>7542</td>\n",
       "      <td>6501</td>\n",
       "      <td>2310</td>\n",
       "      <td>12</td>\n",
       "      <td>CGE</td>\n",
       "    </tr>\n",
       "    <tr>\n",
       "      <th>56:96:94:08</th>\n",
       "      <td>FC</td>\n",
       "      <td>2</td>\n",
       "      <td>ATAC</td>\n",
       "      <td>6488</td>\n",
       "      <td>4950</td>\n",
       "      <td>4280</td>\n",
       "      <td>3114</td>\n",
       "      <td>769</td>\n",
       "      <td>5002</td>\n",
       "      <td>4636</td>\n",
       "      <td>4004</td>\n",
       "      <td>1243</td>\n",
       "      <td>6</td>\n",
       "      <td>CT</td>\n",
       "    </tr>\n",
       "    <tr>\n",
       "      <th>56:96:94:09</th>\n",
       "      <td>FC</td>\n",
       "      <td>2</td>\n",
       "      <td>ATAC</td>\n",
       "      <td>4733</td>\n",
       "      <td>3266</td>\n",
       "      <td>2784</td>\n",
       "      <td>2150</td>\n",
       "      <td>614</td>\n",
       "      <td>30969</td>\n",
       "      <td>28356</td>\n",
       "      <td>23556</td>\n",
       "      <td>7483</td>\n",
       "      <td>1</td>\n",
       "      <td>L23</td>\n",
       "    </tr>\n",
       "  </tbody>\n",
       "</table>\n",
       "<p>64849 rows × 14 columns</p>\n",
       "</div>"
      ],
      "text/plain": [
       "            Tissue  Rep   Target  Total_RNA_Reads  Mapped_RNA_Reads  \\\n",
       "Cell_ID                                                               \n",
       "01:02:16:08     FC    2  H3K27ac            19425             18643   \n",
       "01:02:19:07     FC    1  H3K27ac             6358              5891   \n",
       "01:02:21:07     FC    1  H3K27ac             4726              4500   \n",
       "01:02:21:09     FC    3  H3K27ac            15582             14707   \n",
       "01:02:21:10     HC    1  H3K27ac             6385              5980   \n",
       "...            ...  ...      ...              ...               ...   \n",
       "56:96:79:12     HC    2     ATAC             6511              5211   \n",
       "56:96:93:04     HC    1     ATAC            56864             51186   \n",
       "56:96:94:01     FC    1     ATAC             7444              5227   \n",
       "56:96:94:08     FC    2     ATAC             6488              4950   \n",
       "56:96:94:09     FC    2     ATAC             4733              3266   \n",
       "\n",
       "             Uniquely_Mapped_RNA_Reads  UMI_RNA  nGene_RNA  Total_DNA_Reads  \\\n",
       "Cell_ID                                                                       \n",
       "01:02:16:08                      18211     5818        999             5426   \n",
       "01:02:19:07                       5700     2043        557             2281   \n",
       "01:02:21:07                       4399     1545        434             7735   \n",
       "01:02:21:09                      14363     4851       1002            17282   \n",
       "01:02:21:10                       5861     2035        519             4987   \n",
       "...                                ...      ...        ...              ...   \n",
       "56:96:79:12                       4847     3424        726            22814   \n",
       "56:96:93:04                      49159    32865       3503            25773   \n",
       "56:96:94:01                       4181     3245        778             8004   \n",
       "56:96:94:08                       4280     3114        769             5002   \n",
       "56:96:94:09                       2784     2150        614            30969   \n",
       "\n",
       "             Mapped_DNA_Reads  Uniquely_Mapped_DNA_Reads  nFragments_DNA  \\\n",
       "Cell_ID                                                                    \n",
       "01:02:16:08              5284                       5093            1878   \n",
       "01:02:19:07              2225                       2102             793   \n",
       "01:02:21:07              7484                       7066            2687   \n",
       "01:02:21:09             16824                      15981            6374   \n",
       "01:02:21:10              4841                       4634            1809   \n",
       "...                       ...                        ...             ...   \n",
       "56:96:79:12             21542                      17774            6529   \n",
       "56:96:93:04             23399                      20056            6497   \n",
       "56:96:94:01              7542                       6501            2310   \n",
       "56:96:94:08              4636                       4004            1243   \n",
       "56:96:94:09             28356                      23556            7483   \n",
       "\n",
       "             Membership  Annotation  \n",
       "Cell_ID                              \n",
       "01:02:16:08           3          L5  \n",
       "01:02:19:07          15         OPC  \n",
       "01:02:21:07          16   Oligo_MOL  \n",
       "01:02:21:09           3          L5  \n",
       "01:02:21:10          11          DG  \n",
       "...                 ...         ...  \n",
       "56:96:79:12          18  Astro_Myoc  \n",
       "56:96:93:04          12         CGE  \n",
       "56:96:94:01          12         CGE  \n",
       "56:96:94:08           6          CT  \n",
       "56:96:94:09           1         L23  \n",
       "\n",
       "[64849 rows x 14 columns]"
      ]
     },
     "execution_count": 25,
     "metadata": {},
     "output_type": "execute_result"
    }
   ],
   "source": [
    "metadata"
   ]
  },
  {
   "cell_type": "markdown",
   "id": "3958ad54-c948-4aef-86c5-a976767ec117",
   "metadata": {},
   "source": [
    "# enhance singal"
   ]
  },
  {
   "cell_type": "code",
   "execution_count": 32,
   "id": "2868e406-6d81-4cfc-b836-839137c78425",
   "metadata": {},
   "outputs": [],
   "source": [
    "from sklearn.neighbors import KDTree\n",
    "from sklearn.neighbors import BallTree\n",
    "\n",
    "def find_nearest_cells(q_point, tree, n_neighbor):\n",
    "    _, ind = tree.query(q_point, k=n_neighbor+1)\n",
    "    return ind[0][1:]\n",
    "\n",
    "def cal_neighbor_cell_peak_mat(sub_mat, input_mat, tree, pc_table, impute_n, start_idx, i):\n",
    "    end_index = start_idx + sub_mat.shape[0]\n",
    "    k = 0\n",
    "    for idx in range(start_idx, end_index):\n",
    "        nearest_bc_idx = find_nearest_cells(np.reshape(pc_table[idx,:], (1,-1)), tree, n_neighbor=impute_n)\n",
    "#         scipy.sparse.csr_matrix(input_mat[nearest_bc_idx,:].sum(0))\n",
    "        sub_mat[k,:] = input_mat[nearest_bc_idx,:].sum(0)\n",
    "        k += 1\n",
    "    return sub_mat\n",
    "\n",
    "def cal_neighbor_cell_peak_mat_batch(input_mat, impute_n=5, KD_leafsize=80, nPC = 50, n_cores=8):\n",
    "    '''\n",
    "    input_mat:\n",
    "    a csr sparse matrix, which can be get by adata.X\n",
    "    \n",
    "    '''\n",
    "    print_log(\"Building KD tree...\")\n",
    "    pc_table = sc.tl.pca(input_mat, n_comps=50, svd_solver='arpack')\n",
    "    tree = BallTree(pc_table, KD_leafsize)\n",
    "    print_log(\"Calculating neighbors, divide into {n} chunks...\".format(n=n_cores))\n",
    "    cell_number = input_mat.shape[0]\n",
    "    index_split = [i for i in range(0,cell_number,int(cell_number/n_cores))] + [cell_number]\n",
    "#     input_table_split = np.array_split(input_mat_dense, n_cores)\n",
    "    input_mat_lil = input_mat.tolil()\n",
    "    input_mat_split = [input_mat_lil[index_split[i]:index_split[i+1],:] for i in range(index_split.__len__()-1)]\n",
    "    args = [[sub_mat, input_mat, tree, pc_table, impute_n, index_split[i], i] for (i, sub_mat) in enumerate(input_mat_split)]\n",
    "#     print(args)\n",
    "    with Pool(n_cores) as p:\n",
    "        result = p.starmap(cal_neighbor_cell_peak_mat, args)\n",
    "    cell_peak_csr = scipy.sparse.vstack(result).tocsr()\n",
    "    print_log('Finished!')\n",
    "    return cell_peak_csr"
   ]
  },
  {
   "cell_type": "code",
   "execution_count": 2,
   "id": "5dba9825-8e9c-416c-a90a-aa92399c1d44",
   "metadata": {},
   "outputs": [],
   "source": [
    "input_mat_adata = sc.read_10x_h5('example/histone/data/matrix/ATAC_bin_count.h5', gex_only=False)\n",
    "# input_mat = input_mat_adata.X.copy()"
   ]
  },
  {
   "cell_type": "code",
   "execution_count": null,
   "id": "2d73d0ef-ef10-48b5-aa65-ffeb2c1fca07",
   "metadata": {},
   "outputs": [],
   "source": [
    "imputed_csr = cal_neighbor_cell_peak_mat_batch(input_mat, impute_n=5, KD_leafsize=80, nPC = 50, n_cores=2)\n",
    "utils.store_to_pickle(imputed_csr, 'imputed.csr.pk')"
   ]
  },
  {
   "cell_type": "code",
   "execution_count": 3,
   "id": "e0d27e4c-8e2c-4f19-909b-fc9d38a013e6",
   "metadata": {},
   "outputs": [],
   "source": [
    "imputed_csr = utils.read_pickle('imputed.csr.pk')"
   ]
  },
  {
   "cell_type": "markdown",
   "id": "fbc1e145-77dc-4adc-a69d-375ec1cf6575",
   "metadata": {},
   "source": [
    "# impute singal"
   ]
  },
  {
   "cell_type": "code",
   "execution_count": null,
   "id": "5b8623f2-aeb9-43e6-a418-f4e748f6abe2",
   "metadata": {},
   "outputs": [],
   "source": []
  },
  {
   "cell_type": "code",
   "execution_count": 6,
   "id": "fbfd8327-3935-4edd-bf7f-592bb531f61a",
   "metadata": {},
   "outputs": [],
   "source": [
    "def generate_peak_list(cells, input_mat, peak_confidence=1):\n",
    "    cell_above_cutoff_index = sc.pp.filter_genes(\n",
    "        input_mat[cells, :], min_cells=peak_confidence, inplace=False)[0]\n",
    "    peaks = input_mat.var_names[cell_above_cutoff_index].to_list()\n",
    "    return peaks\n",
    "\n",
    "\n",
    "def generate_beds(file_path, cells, input_mat, peak_confidence=1):\n",
    "    peaks = generate_peak_list(cells, input_mat, peak_confidence)\n",
    "    cell_barcode = os.path.basename(file_path)[:-4]  # remove .bed\n",
    "    if peaks.__len__() == 0:\n",
    "        print_log('Warning: No peaks in {bed_path}, skip generation'.format(bed_path=file_path[:-4]))\n",
    "    else:\n",
    "        peaks = pd.DataFrame([p.rsplit(\"_\", 2) for p in peaks])\n",
    "        peaks.to_csv(file_path, sep=\"\\t\", header=None, index=None)\n",
    "        cmd = 'sort --buffer-size 2G -k1,1 -k2,2n -k3,3n {bed_path} | bgzip -c > {bed_path}.gz\\n'.format(bed_path=file_path)\n",
    "        cmd += 'rm {bed_path}'.format(bed_path=file_path)\n",
    "        subprocess.run(cmd, shell=True, check=True)\n",
    "    return [cell_barcode, peaks.__len__()]\n",
    "\n",
    "\n",
    "def generate_beds_by_matrix(cell_feature_adata, beds_path, peaks_number_path, n_cores):\n",
    "    safe_makedirs(beds_path)\n",
    "    # total_cnt = adata.obs.index.__len__()\n",
    "    executor = ThreadPoolExecutor(max_workers=n_cores)\n",
    "    all_task = []\n",
    "    for cell in cell_feature_adata.obs.index:\n",
    "        # neighbor_cells = find_nearest_cells(cell, coor_table, n_neighbor, step)\n",
    "        # map_dict[cell] = neighbor_cells\n",
    "        all_task.append(executor.submit(generate_beds, beds_path + \"/\" + str(cell) + \".bed\", cell, cell_feature_adata))\n",
    "    wait(all_task, return_when=ALL_COMPLETED)\n",
    "    pd.DataFrame([_.result() for _ in as_completed(all_task)]).to_csv(peaks_number_path, header=None, index=None, sep='\\t')\n",
    "    return"
   ]
  },
  {
   "cell_type": "code",
   "execution_count": 4,
   "id": "df4421f0-d235-4d65-b2c3-5b5019b414e6",
   "metadata": {},
   "outputs": [],
   "source": [
    "input_mat_adata.X = imputed_csr"
   ]
  },
  {
   "cell_type": "code",
   "execution_count": null,
   "id": "20a8fcdc-09e5-4629-84f7-087f7957c049",
   "metadata": {},
   "outputs": [],
   "source": [
    "generate_beds_by_matrix(input_mat_adata, 'example/histone/SCRIPT/imputation/imputed_beds/', 'example/histone/SCRIPT/imputation/imputed_beds_peaks_number.txt', 16)"
   ]
  },
  {
   "cell_type": "code",
   "execution_count": 5,
   "id": "a8ce47b9-9ff9-4f87-ae6a-1763cc037053",
   "metadata": {},
   "outputs": [],
   "source": [
    "def search_seqpare_factor(bed_path, result_path, index_path, factor):\n",
    "    cmd = 'seqpare \"{index_path}/{factor}*.bed.gz\" \"{bed_path}\" -m 1 -o {result_path}\\n'.format(\n",
    "        index_path=index_path, result_path=result_path, bed_path=bed_path, factor=factor)\n",
    "    subprocess.run(cmd, shell=True, check=True)\n",
    "\n",
    "\n",
    "def search_seqpare_factor_batch(bed_folder, result_folder, index_path, factor, n_cores=8, tp=''):\n",
    "    print_log('Start searching beds from {tp} index ...'.format(tp=tp))\n",
    "    safe_makedirs(result_folder)\n",
    "    beds = os.listdir(bed_folder)\n",
    "    args = []\n",
    "    for bed in beds:\n",
    "        barcodes = bed[:-7]  # remove suffix '.bed.gz'\n",
    "        args.append((os.path.join(bed_folder, bed),\n",
    "                     os.path.join(result_folder, barcodes + '.txt'),\n",
    "                     index_path,\n",
    "                     factor))\n",
    "    with Pool(n_cores) as p:\n",
    "        p.starmap(search_seqpare_factor, args)\n",
    "    print_log('Finished searching beds from {tp} index ...'.format(tp=tp))"
   ]
  },
  {
   "cell_type": "code",
   "execution_count": 54,
   "id": "b61fb489-8245-45e7-9349-7e04b7af542a",
   "metadata": {},
   "outputs": [
    {
     "name": "stdout",
     "output_type": "stream",
     "text": [
      "INFO 2021-08-30 09:48:09 Start searching beds from  index ...\n",
      "INFO 2021-08-30 10:09:27 Finished searching beds from  index ...\n"
     ]
    }
   ],
   "source": [
    "search_seqpare_factor_batch('example/histone/SCRIPT/imputation/imputed_beds/', \n",
    "                            'example/histone/SCRIPT/imputation/imputed_results_H3K4me1/', \n",
    "                            '/fs/home/dongxin/Projects/SCRIPT/indices/mouse/hm_chip_qc_1_20k',\n",
    "                           'H3K4me1',\n",
    "                           16)"
   ]
  },
  {
   "cell_type": "code",
   "execution_count": 56,
   "id": "b5592971-1ae3-42fa-9c82-6adcc775e0e4",
   "metadata": {},
   "outputs": [
    {
     "name": "stdout",
     "output_type": "stream",
     "text": [
      "INFO 2021-08-30 10:29:02 Start searching beds from  index ...\n",
      "INFO 2021-08-30 11:10:33 Finished searching beds from  index ...\n"
     ]
    }
   ],
   "source": [
    "search_seqpare_factor_batch('example/histone/SCRIPT/imputation/imputed_beds/', \n",
    "                            'example/histone/SCRIPT/imputation/imputed_results_H3K27ac/', \n",
    "                            '/fs/home/dongxin/Projects/SCRIPT/indices/mouse/hm_chip_qc_1_20k',\n",
    "                           'H3K27ac',\n",
    "                           16)"
   ]
  },
  {
   "cell_type": "code",
   "execution_count": 6,
   "id": "cfbc24e4-a168-4dde-9358-7d16d7fa0187",
   "metadata": {},
   "outputs": [],
   "source": [
    "def get_factor_affinity(input_mat, bed_file_path, reference, factor, ccre_number):\n",
    "    peaks = input_mat.var_names.to_list()\n",
    "    peaks_number = peaks.__len__()\n",
    "    ref_number = pd.read_csv(reference + '/peaks_number.txt', sep='\\t', index_col=0, header=None)\n",
    "    factor_idx = [i for i in ref_number.index if i.startswith(factor)]\n",
    "    ref_number = ref_number.loc[factor_idx,:]\n",
    "    \n",
    "    peaks = pd.DataFrame([p.rsplit(\"_\", 2) for p in peaks])\n",
    "    peaks.to_csv(bed_file_path, sep=\"\\t\", header=None, index=None)\n",
    "    cmd = 'sort --buffer-size 2G -k1,1 -k2,2n -k3,3n {bed_path} | bgzip -c > {bed_path}.gz\\n'.format(bed_path=bed_file_path)\n",
    "    cmd += 'rm {bed_path}'.format(bed_path=bed_file_path)\n",
    "    subprocess.run(cmd, shell=True, check=True)\n",
    "\n",
    "    search_seqpare_factor(bed_file_path + '.gz', bed_file_path[0:-4] + '.txt', reference, factor)\n",
    "    all_peak_result = read_seqpare_result([bed_file_path[0:-4] + '.txt'])\n",
    "    affinity = all_peak_result.iloc[:,0]/(ref_number[1]*peaks_number/ccre_number)\n",
    "    return affinity\n",
    "\n",
    "def read_seqpare_result(files):\n",
    "    for i in range(len(files)):\n",
    "        giggle_result = os.path.basename(files[i])\n",
    "        cell_bc = giggle_result[:-4]  # remove suffix '.txt'\n",
    "        dtframe = pd.read_csv(files[i], sep=\"\\t\", index_col=5)\n",
    "        if i == 0:\n",
    "            dtframe = dtframe.loc[:, ['teo']].copy()\n",
    "            dataset_cell_score_df = dtframe.rename(columns={'teo': cell_bc})\n",
    "        else:\n",
    "            dataset_cell_score_df[cell_bc] = dtframe.loc[:, \"teo\"]\n",
    "    dataset_cell_score_df.index = [i.rsplit('/', 1)[1][:-7] for i in dataset_cell_score_df.index]  # remove suffix '.bed.gz'\n",
    "    return dataset_cell_score_df\n",
    "\n",
    "def read_seqpare_result_batch(path, n_cores=8, tp=''):\n",
    "    print_log(\"Reading searching results, using {n} cores...\".format(n=n_cores))\n",
    "    file_list = os.listdir(path)\n",
    "    result_split = np.array_split(file_list, n_cores)\n",
    "    args = [[[os.path.join(path, j) for j in list_chunk]] for list_chunk in result_split]\n",
    "    with Pool(n_cores) as p:\n",
    "        result = p.starmap(read_seqpare_result, args)\n",
    "    dataset_cell_score_df = pd.concat([i for i in result], axis=1)\n",
    "    print_log(\"Finished reading {tp} index search result!\".format(tp=tp))\n",
    "    return dataset_cell_score_df"
   ]
  },
  {
   "cell_type": "code",
   "execution_count": 8,
   "id": "46ecc2af-d8b5-4e28-bc60-55b8bd60c38b",
   "metadata": {},
   "outputs": [],
   "source": [
    "H3K4me1_affinity = get_factor_affinity(input_mat_adata, 'example/histone/SCRIPT/imputation/all_beds.bed', '/fs/home/dongxin/Projects/SCRIPT/indices/mouse/hm_chip_qc_1_20k', 'H3K4me1', 339815)"
   ]
  },
  {
   "cell_type": "code",
   "execution_count": 7,
   "id": "806ecd5f-4fbc-4015-b326-c5b80c64796c",
   "metadata": {},
   "outputs": [],
   "source": [
    "H3K27ac_affinity = get_factor_affinity(input_mat_adata, 'example/histone/SCRIPT/imputation/all_beds.bed', '/fs/home/dongxin/Projects/SCRIPT/indices/mouse/hm_chip_qc_1_20k', 'H3K27ac', 339815)"
   ]
  },
  {
   "cell_type": "code",
   "execution_count": 9,
   "id": "b4ef65e6-fa2c-4a68-a918-8a8284e24b76",
   "metadata": {},
   "outputs": [
    {
     "name": "stdout",
     "output_type": "stream",
     "text": [
      "INFO 2021-09-07 11:27:41 Reading searching results, using 8 cores...\n",
      "INFO 2021-09-07 11:27:47 Finished reading  index search result!\n"
     ]
    }
   ],
   "source": [
    "H3K4me1_enrich = read_seqpare_result_batch('example/histone/SCRIPT/imputation/imputed_results_H3K4me1/')"
   ]
  },
  {
   "cell_type": "code",
   "execution_count": 10,
   "id": "01a1a6cf-a405-4f43-a91f-b86aa95a204e",
   "metadata": {},
   "outputs": [
    {
     "name": "stdout",
     "output_type": "stream",
     "text": [
      "INFO 2021-09-07 11:27:47 Reading searching results, using 8 cores...\n",
      "INFO 2021-09-07 11:28:11 Finished reading  index search result!\n"
     ]
    }
   ],
   "source": [
    "H3K27ac_enrich = read_seqpare_result_batch('example/histone/SCRIPT/imputation/imputed_results_H3K27ac/')"
   ]
  },
  {
   "cell_type": "code",
   "execution_count": 11,
   "id": "29efcb00-c239-4775-928c-ddfdedd44361",
   "metadata": {},
   "outputs": [],
   "source": [
    "def cal_peak_factor_norm(ref_peak_number_path, peaks_number_path, ccre_number, affinity, factor):\n",
    "    ref_peak_number = pd.read_csv(ref_peak_number_path, sep='\\t', header=None, index_col=0)\n",
    "    factor_idx = [i for i in ref_peak_number.index if i.startswith(factor)]\n",
    "    ref_peak_number = ref_peak_number.loc[factor_idx,:]\n",
    "    data_peak_number = pd.read_csv(peaks_number_path, sep='\\t', header=None, index_col=0)\n",
    "    peak_norm_hyper = (ref_peak_number.dot(data_peak_number.T)/ccre_number)\n",
    "    peak_norm_hyper = (peak_norm_hyper.T * affinity).T\n",
    "    return peak_norm_hyper\n",
    "\n",
    "\n",
    "def cal_score(dataset_mbm_overlap_df, dataset_bg_peak_norm_df):\n",
    "    intersect_frame = dataset_mbm_overlap_df.copy()\n",
    "    peak_hyper_frame = dataset_bg_peak_norm_df.copy().reindex(index=intersect_frame.index, columns=intersect_frame.columns)\n",
    "    fg_dataset_cell_raw_score_df = np.log2((intersect_frame+1)/(peak_hyper_frame+1))\n",
    "    return fg_dataset_cell_raw_score_df"
   ]
  },
  {
   "cell_type": "code",
   "execution_count": 12,
   "id": "b0291a92-a6b8-492d-949b-0ab30d5d6f76",
   "metadata": {},
   "outputs": [],
   "source": [
    "H3K4me1_hyper_bg = cal_peak_factor_norm('/fs/home/dongxin/Projects/SCRIPT/indices/mouse/hm_chip_qc_1_20k/peaks_number.txt', 'example/histone/SCRIPT/imputation/imputed_beds_peaks_number.txt', 339815, H3K4me1_affinity, 'H3K4me1')"
   ]
  },
  {
   "cell_type": "code",
   "execution_count": 13,
   "id": "0680b61a-76df-4821-9b86-f0d4799ef6b8",
   "metadata": {},
   "outputs": [],
   "source": [
    "H3K27ac_hyper_bg = cal_peak_factor_norm('/fs/home/dongxin/Projects/SCRIPT/indices/mouse/hm_chip_qc_1_20k/peaks_number.txt', 'example/histone/SCRIPT/imputation/imputed_beds_peaks_number.txt', 339815, H3K27ac_affinity, 'H3K27ac')"
   ]
  },
  {
   "cell_type": "code",
   "execution_count": 42,
   "id": "731b858b-b6a2-4cdc-a531-22ef518cf8f3",
   "metadata": {},
   "outputs": [],
   "source": [
    "# ref_peak_number[1][ref_peak_number.index[ref_peak_number[1] > 5000]]"
   ]
  },
  {
   "cell_type": "code",
   "execution_count": 14,
   "id": "7658906c-e1fd-4f99-a5f2-b85e29d3b8f7",
   "metadata": {},
   "outputs": [],
   "source": [
    "H3K4me1_score = cal_score(H3K4me1_enrich, H3K4me1_hyper_bg)"
   ]
  },
  {
   "cell_type": "code",
   "execution_count": 15,
   "id": "af2f47f9-7bfc-4511-a710-635d4a602009",
   "metadata": {},
   "outputs": [],
   "source": [
    "ref_peak_number = pd.read_csv('/fs/home/dongxin/Projects/SCRIPT/indices/mouse/hm_chip_qc_1_20k/peaks_number.txt', sep='\\t', header=None, index_col=0)\n",
    "factor_idx = [i for i in ref_peak_number.index if i.startswith('H3K4me1')]\n",
    "ref_peak_number = ref_peak_number.loc[factor_idx,:]\n",
    "H3K4me1_score = H3K4me1_score.loc[ref_peak_number.index[ref_peak_number[1] > 5000],:].copy()"
   ]
  },
  {
   "cell_type": "code",
   "execution_count": null,
   "id": "195035a4-0689-437d-ab39-41fcc16d4cea",
   "metadata": {},
   "outputs": [],
   "source": [
    "H3K4me1_score"
   ]
  },
  {
   "cell_type": "code",
   "execution_count": 16,
   "id": "cc9b2513-1acf-46bf-b95d-5dacb3aa3e9a",
   "metadata": {},
   "outputs": [],
   "source": [
    "H3K27ac_score = cal_score(H3K27ac_enrich, H3K27ac_hyper_bg)"
   ]
  },
  {
   "cell_type": "code",
   "execution_count": 17,
   "id": "8e26db18-891c-4244-bbbe-f93b33371884",
   "metadata": {},
   "outputs": [],
   "source": [
    "ref_peak_number = pd.read_csv('/fs/home/dongxin/Projects/SCRIPT/indices/mouse/hm_chip_qc_1_20k/peaks_number.txt', sep='\\t', header=None, index_col=0)\n",
    "factor_idx = [i for i in ref_peak_number.index if i.startswith('H3K27ac')]\n",
    "ref_peak_number = ref_peak_number.loc[factor_idx,:]\n",
    "H3K27ac_score = H3K27ac_score.loc[ref_peak_number.index[ref_peak_number[1] > 5000],:].copy()"
   ]
  },
  {
   "cell_type": "code",
   "execution_count": 18,
   "id": "c055290a-3889-4e2a-9e08-8731af32cb76",
   "metadata": {},
   "outputs": [],
   "source": [
    "@excute_info('Getting the best reference for each cell.')\n",
    "def get_factor_source(table):\n",
    "    ret_table = table.copy()\n",
    "    # map factor by id \"_\"\n",
    "    factor_index_list = []\n",
    "    for i in ret_table.index:\n",
    "        factor_name = i.split(\"_\")\n",
    "        factor_index_list.append(factor_name[0])\n",
    "    ret_table.loc[:, \"Factor\"] = factor_index_list\n",
    "    max_index = ret_table.groupby(\"Factor\").idxmax()\n",
    "    return max_index"
   ]
  },
  {
   "cell_type": "code",
   "execution_count": 19,
   "id": "6b7da385-44f4-44db-98e7-e94fe3c021ce",
   "metadata": {},
   "outputs": [
    {
     "name": "stdout",
     "output_type": "stream",
     "text": [
      "INFO 2021-09-07 11:28:46 Getting the best reference for each cell.\n"
     ]
    }
   ],
   "source": [
    "H3K4me1_source = get_factor_source(H3K4me1_score)"
   ]
  },
  {
   "cell_type": "code",
   "execution_count": 20,
   "id": "163d4afa-d0ff-4432-9239-ceb10caa030e",
   "metadata": {},
   "outputs": [
    {
     "data": {
      "text/plain": [
       "90"
      ]
     },
     "execution_count": 20,
     "metadata": {},
     "output_type": "execute_result"
    }
   ],
   "source": [
    "H3K4me1_source.loc['H3K4me1',:].unique().__len__()"
   ]
  },
  {
   "cell_type": "code",
   "execution_count": 21,
   "id": "d38af109-05b9-4dfe-9cf6-ec194c18f6c8",
   "metadata": {},
   "outputs": [
    {
     "name": "stdout",
     "output_type": "stream",
     "text": [
      "INFO 2021-09-07 11:28:49 Getting the best reference for each cell.\n"
     ]
    }
   ],
   "source": [
    "H3K27ac_source = get_factor_source(H3K27ac_score)"
   ]
  },
  {
   "cell_type": "code",
   "execution_count": 28,
   "id": "1846ea5a-c435-4944-a24f-3360d18c25fc",
   "metadata": {},
   "outputs": [],
   "source": [
    "metadata['H3K27ac'] = H3K27ac_source.T\n",
    "metadata['H3K4me1'] = H3K4me1_source.T"
   ]
  },
  {
   "cell_type": "code",
   "execution_count": 34,
   "id": "36c8afc4-3f5e-4993-b816-4c5a2f3bd44b",
   "metadata": {},
   "outputs": [],
   "source": [
    "metadata.to_csv('example/histone/data/matrix/meta_with_source.tsv', sep='\\t', index=True)"
   ]
  },
  {
   "cell_type": "code",
   "execution_count": 52,
   "id": "b923df3f-96e4-47e0-9cdb-9d93764031b6",
   "metadata": {},
   "outputs": [
    {
     "name": "stdout",
     "output_type": "stream",
     "text": [
      "113783\n"
     ]
    }
   ],
   "source": [
    "ref_path = '/fs/home/dongxin/Projects/SCRIPT/indices/mouse/hm_chip_qc_1_20k/'\n",
    "chip_bed_list = [pybedtools.BedTool(os.path.join(ref_path, i + '.bed.gz')) for i in H3K27ac_source.iloc[0,:].unique()]\n",
    "chip_bed = chip_bed_list[0].cat(*chip_bed_list[1:])\n",
    "print(chip_bed.__len__())"
   ]
  },
  {
   "cell_type": "code",
   "execution_count": 53,
   "id": "090f9a4d-fcab-40fe-9347-0c2d324193b2",
   "metadata": {},
   "outputs": [],
   "source": [
    "data_bed = pybedtools.BedTool('\\n'.join(['\\t'.join(p.rsplit('_', maxsplit=2)) for p in input_mat_adata.var_names]), from_string=True)\n",
    "intersect_bed = data_bed.intersect(chip_bed, u=True)\n",
    "imputed_chip_peak = str(intersect_bed).replace('\\t','_').split('\\n')[0:-1]"
   ]
  },
  {
   "cell_type": "code",
   "execution_count": 54,
   "id": "336bf87d-625d-4ed1-bb9a-d8c82a70d5ac",
   "metadata": {},
   "outputs": [],
   "source": [
    "chip_cell_peak = input_mat_adata[:,imputed_chip_peak].copy()"
   ]
  },
  {
   "cell_type": "code",
   "execution_count": 55,
   "id": "a58f0b1a-424d-4bbf-8f64-b29263afa075",
   "metadata": {},
   "outputs": [
    {
     "data": {
      "text/plain": [
       "AnnData object with n_obs × n_vars = 14095 × 189973\n",
       "    var: 'gene_ids', 'feature_types', 'genome'"
      ]
     },
     "execution_count": 55,
     "metadata": {},
     "output_type": "execute_result"
    }
   ],
   "source": [
    "chip_cell_peak"
   ]
  },
  {
   "cell_type": "code",
   "execution_count": null,
   "id": "ae71c17a-cd9f-4e87-9121-f45590b33a53",
   "metadata": {},
   "outputs": [],
   "source": []
  },
  {
   "cell_type": "code",
   "execution_count": 56,
   "id": "a4b0b0b7-d770-4119-b9e5-744d0e48f395",
   "metadata": {},
   "outputs": [],
   "source": [
    "chip_cell_peak_df = chip_cell_peak.to_df()"
   ]
  },
  {
   "cell_type": "code",
   "execution_count": 32,
   "id": "2074494b-c981-4754-b4c2-6a910f12d4b4",
   "metadata": {
    "tags": []
   },
   "outputs": [],
   "source": [
    "for i in H3K4me1_source.iloc[0,:].unique():\n",
    "    cellbc = H3K4me1_source.columns[H3K4me1_source.iloc[0,:] == i]\n",
    "    tmp_dataset_bed = pybedtools.BedTool(os.path.join(ref_path, i + '.bed.gz'))\n",
    "#     print(str(intersect_bed.intersect(tmp_dataset_bed)).replace('\\t','_').split('\\n')[0:-1].__len__())\n",
    "    exclude_chip_peak = str(intersect_bed.intersect(tmp_dataset_bed, v=True)).replace('\\t','_').split('\\n')[0:-1]\n",
    "#     ovlp = 441896 - exclude_chip_peak.__len__()\n",
    "#     print(i)\n",
    "#     print(H3K4me1_source.columns[H3K4me1_source.iloc[0,:] == i].__len__())\n",
    "#     print(ovlp)\n",
    "    chip_cell_peak_df.loc[cellbc,exclude_chip_peak] = 0"
   ]
  },
  {
   "cell_type": "code",
   "execution_count": 57,
   "id": "67c2597d-1f97-4880-bd21-53c729ae962d",
   "metadata": {},
   "outputs": [],
   "source": [
    "for i in H3K27ac_source.iloc[0,:].unique():\n",
    "    cellbc = H3K27ac_source.columns[H3K27ac_source.iloc[0,:] == i]\n",
    "    tmp_dataset_bed = pybedtools.BedTool(os.path.join(ref_path, i + '.bed.gz'))\n",
    "#     print(str(intersect_bed.intersect(tmp_dataset_bed)).replace('\\t','_').split('\\n')[0:-1].__len__())\n",
    "    exclude_chip_peak = str(intersect_bed.intersect(tmp_dataset_bed, v=True)).replace('\\t','_').split('\\n')[0:-1]\n",
    "#     ovlp = 441896 - exclude_chip_peak.__len__()\n",
    "#     print(i)\n",
    "#     print(H3K4me1_source.columns[H3K4me1_source.iloc[0,:] == i].__len__())\n",
    "#     print(ovlp)\n",
    "    chip_cell_peak_df.loc[cellbc,exclude_chip_peak] = 0"
   ]
  },
  {
   "cell_type": "code",
   "execution_count": null,
   "id": "de7f9c00-dc93-4b78-893d-7122ab0c1b8a",
   "metadata": {},
   "outputs": [],
   "source": [
    "chip_cell_peak_df.sum(1).sort_values()"
   ]
  },
  {
   "cell_type": "code",
   "execution_count": 58,
   "id": "73f4b55c-4c1f-418f-b507-fc6384238743",
   "metadata": {},
   "outputs": [],
   "source": [
    "chip_cell_peak = sc.AnnData(chip_cell_peak_df)"
   ]
  },
  {
   "cell_type": "code",
   "execution_count": 59,
   "id": "95cb0820-0d28-48e4-a05d-c0c1011431a8",
   "metadata": {},
   "outputs": [],
   "source": [
    "chip_cell_peak.X = scipy.sparse.csr.csr_matrix(chip_cell_peak.X)"
   ]
  },
  {
   "cell_type": "code",
   "execution_count": 60,
   "id": "84b7bfa1-2ad1-4cd9-a921-6bed4518feb3",
   "metadata": {},
   "outputs": [],
   "source": [
    "chip_cell_peak.X[chip_cell_peak.X>1] = 1"
   ]
  },
  {
   "cell_type": "code",
   "execution_count": 36,
   "id": "890754b2-802a-4605-b44a-e613e7b80efd",
   "metadata": {},
   "outputs": [],
   "source": [
    "def write_to_mtx(data, path):\n",
    "    if not os.path.exists(path):\n",
    "        os.makedirs(path)\n",
    "    pd.DataFrame(data.var.index).to_csv(os.path.join(path, \"genes.tsv\" ), sep = \"\\t\", index=False, header=False)\n",
    "    pd.DataFrame(data.obs.index).to_csv(os.path.join(path, \"barcodes.tsv\"), sep = \"\\t\", index=False, header=False)\n",
    "    data.obs.to_csv(os.path.join(path, \"metadata.tsv\"), sep = \"\\t\", index=False, header=False)\n",
    "    io.mmwrite(os.path.join(path, \"matrix.mtx\"), data.X)"
   ]
  },
  {
   "cell_type": "code",
   "execution_count": 37,
   "id": "7c8a0c5e-b517-47df-9e81-5a3c974bf1a1",
   "metadata": {},
   "outputs": [],
   "source": [
    "write_to_mtx(chip_cell_peak, 'example/histone/SCRIPT/imputation/mtx_imputed_H3K4me1/')"
   ]
  },
  {
   "cell_type": "code",
   "execution_count": 61,
   "id": "e4dda3c6-fff9-4d20-9d8f-78623fb6d1cc",
   "metadata": {},
   "outputs": [],
   "source": [
    "write_to_mtx(chip_cell_peak, 'example/histone/SCRIPT/imputation/mtx_imputed_H3K27ac/')"
   ]
  },
  {
   "cell_type": "code",
   "execution_count": 129,
   "id": "3007008a-5623-4228-83d1-e8c97d076603",
   "metadata": {},
   "outputs": [
    {
     "data": {
      "text/plain": [
       "17.0"
      ]
     },
     "execution_count": 129,
     "metadata": {},
     "output_type": "execute_result"
    }
   ],
   "source": [
    "chip_cell_peak.X.sum(1).min()"
   ]
  },
  {
   "cell_type": "code",
   "execution_count": 130,
   "id": "0152611c-e0f1-4d0e-b03e-027ae1b6ab9a",
   "metadata": {},
   "outputs": [
    {
     "data": {
      "text/plain": [
       "AnnData object with n_obs × n_vars = 14095 × 441896"
      ]
     },
     "execution_count": 130,
     "metadata": {},
     "output_type": "execute_result"
    }
   ],
   "source": [
    "chip_cell_peak"
   ]
  },
  {
   "cell_type": "code",
   "execution_count": null,
   "id": "a373c3f4-9542-4c44-9a9d-339bab4fb15c",
   "metadata": {},
   "outputs": [],
   "source": []
  },
  {
   "cell_type": "code",
   "execution_count": null,
   "id": "9c5ac7a8-a469-4f07-bbdc-ba8b11bed559",
   "metadata": {},
   "outputs": [],
   "source": []
  },
  {
   "cell_type": "code",
   "execution_count": 235,
   "id": "3d03ef94-3a8c-4f52-9242-c7c1c170b30e",
   "metadata": {},
   "outputs": [],
   "source": [
    "cellbc = H3K4me1_source.columns[H3K4me1_source.iloc[0,:] == i]"
   ]
  },
  {
   "cell_type": "code",
   "execution_count": 192,
   "id": "9b5783ff-219a-412d-a6f6-f07c97d13e6a",
   "metadata": {},
   "outputs": [],
   "source": [
    "ref_path = '/fs/home/dongxin/Projects/SCRIPT/indices/mouse/hm_chip_qc_1_20k/'\n",
    "chip_bed_list = [pybedtools.BedTool(os.path.join(ref_path, i + '.bed.gz')) for i in H3K27ac_source.iloc[0,:].unique()]"
   ]
  },
  {
   "cell_type": "code",
   "execution_count": null,
   "id": "1217707e-9447-4d65-99eb-20c86ebe26ed",
   "metadata": {
    "scrolled": true,
    "tags": []
   },
   "outputs": [],
   "source": [
    "chip_bed = chip_bed_list[0].cat(*chip_bed_list[1:])\n",
    "print(chip_bed.__len__())\n",
    "data_bed = pybedtools.BedTool('\\n'.join(['\\t'.join(p.rsplit('_', maxsplit=2)) for p in input_mat_adata.var_names]), from_string=True)\n",
    "chip_peak = str(data_bed.intersect(chip_bed, u=True)).replace('\\t','_').split('\\n')[0:-1]"
   ]
  },
  {
   "cell_type": "code",
   "execution_count": null,
   "id": "dcc910d5-7b62-4a13-bc30-77e6664cb70d",
   "metadata": {},
   "outputs": [],
   "source": [
    "chip_peak"
   ]
  },
  {
   "cell_type": "code",
   "execution_count": 196,
   "id": "e7593085-b9c0-4280-920f-7e7e38df30f2",
   "metadata": {},
   "outputs": [],
   "source": [
    "chip_cell_peak.X[chip_cell_peak.X>1] = 1"
   ]
  },
  {
   "cell_type": "code",
   "execution_count": 197,
   "id": "75382d93-da04-4c14-ac84-23774060ae08",
   "metadata": {},
   "outputs": [
    {
     "data": {
      "text/plain": [
       "AnnData object with n_obs × n_vars = 14095 × 190367\n",
       "    var: 'gene_ids', 'feature_types', 'genome'"
      ]
     },
     "execution_count": 197,
     "metadata": {},
     "output_type": "execute_result"
    }
   ],
   "source": [
    "chip_cell_peak"
   ]
  },
  {
   "cell_type": "code",
   "execution_count": 198,
   "id": "a92ffd8b-4717-4964-8765-95ccb7129c2b",
   "metadata": {},
   "outputs": [
    {
     "data": {
      "text/plain": [
       "Index(['51:02:02:12', '51:02:14:06', '51:02:14:09', '51:02:14:12',\n",
       "       '51:02:15:07', '51:02:15:10', '51:02:24:01', '51:02:24:08',\n",
       "       '51:02:27:09', '51:02:27:12',\n",
       "       ...\n",
       "       '56:96:25:10', '56:96:57:05', '56:96:75:02', '56:96:75:11',\n",
       "       '56:96:77:09', '56:96:79:12', '56:96:93:04', '56:96:94:01',\n",
       "       '56:96:94:08', '56:96:94:09'],\n",
       "      dtype='object', length=14095)"
      ]
     },
     "execution_count": 198,
     "metadata": {},
     "output_type": "execute_result"
    }
   ],
   "source": [
    "input_mat_adata.obs_names"
   ]
  },
  {
   "cell_type": "code",
   "execution_count": 199,
   "id": "e5244c90-47f4-403b-be61-0f2126217bcb",
   "metadata": {},
   "outputs": [
    {
     "data": {
      "text/plain": [
       "<14095x2443832 sparse matrix of type '<class 'numpy.float32'>'\n",
       "\twith 150294688 stored elements in Compressed Sparse Row format>"
      ]
     },
     "execution_count": 199,
     "metadata": {},
     "output_type": "execute_result"
    }
   ],
   "source": [
    "input_mat_adata.X"
   ]
  },
  {
   "cell_type": "code",
   "execution_count": null,
   "id": "40b148e4-5a37-41c7-8c65-64647a035169",
   "metadata": {},
   "outputs": [],
   "source": []
  },
  {
   "cell_type": "code",
   "execution_count": null,
   "id": "a6629d8a-04e6-4561-ada1-d24b772bbd0e",
   "metadata": {},
   "outputs": [],
   "source": [
    "# chip_bed = pybedtools.BedTool('/mnt/Storage/home/dongxin/Files/cistrome/human/human_factor/46129_sort_peaks.narrowPeak.bed')\n",
    "tmp_bed = pybedtools.BedTool('\\n'.join(['\\t'.join(p.rsplit('_', maxsplit=2)) for p in ret_cell_peak.columns]), from_string=True) # p[::-1].replace('_','\\t',2)[::-1]\n",
    "chip_peak = str(tmp_bed.intersect(chip_bed, u=True)).replace('\\t','_').split('\\n')[0:-1]\n",
    "\n",
    "chip_peak.__len__()\n",
    "\n",
    "# chip_cell_peak = np.sqrt(chip_cell_peak)\n",
    "\n",
    "chip_cell_peak = ret_cell_peak[chip_peak].copy()\n",
    "\n",
    "cells_list = chip_cell_peak.index\n",
    "\n",
    "peaks_list = chip_cell_peak.columns.tolist()\n",
    "# peaks_list = [p.encode() for p in peaks_list]\n",
    "peaks_info= []\n",
    "for ipeak, peak in enumerate(peaks_list):\n",
    "    peaks_tmp = peak.rsplit(\"_\", maxsplit=2)\n",
    "    peaks_info.append([peaks_tmp[0][3:], (int(peaks_tmp[1]) + int(peaks_tmp[2])) / 2.0, 0, ipeak])\n",
    "\n",
    "genes_peaks_score_dok = RP_Simple(peaks_info, genes_info, 10000)\n",
    "\n",
    "genes_peaks_score_csr = genes_peaks_score_dok.tocsr()\n",
    "genes_cells_score_csr = genes_peaks_score_csr.dot(scipy.sparse.csr_matrix(chip_cell_peak).T)\n",
    "\n",
    "score_cells_dict = {}\n",
    "score_cells_sum_dict = {}\n",
    "\n",
    "for igene, gene in enumerate(genes_list):\n",
    "    score_cells_dict[gene] = igene\n",
    "    score_cells_sum_dict[gene] = genes_cells_score_csr[igene, :].sum()\n",
    "\n",
    "score_cells_dict_dedup = {}\n",
    "score_cells_dict_max = {}\n",
    "genes = list(set([i.split(\"@\")[0] for i in genes_list]))\n",
    "for gene in genes:\n",
    "    score_cells_dict_max[gene] = float(\"-inf\")\n",
    "\n",
    "for gene in genes_list:\n",
    "    symbol = gene.split(\"@\")[0]\n",
    "    if score_cells_sum_dict[gene] > score_cells_dict_max[symbol]:\n",
    "        score_cells_dict_dedup[symbol] = score_cells_dict[gene]\n",
    "        score_cells_dict_max[symbol] = score_cells_sum_dict[gene]\n",
    "gene_symbol = sorted(score_cells_dict_dedup.keys())\n",
    "matrix_row = []\n",
    "for gene in gene_symbol:\n",
    "    matrix_row.append(score_cells_dict_dedup[gene])\n",
    "\n",
    "score_cells_matrix = genes_cells_score_csr[matrix_row, :]\n",
    "\n",
    "RP_table = pd.DataFrame(score_cells_matrix.todense(), index=gene_symbol, columns=cells_list)"
   ]
  },
  {
   "cell_type": "code",
   "execution_count": null,
   "id": "8dbe253c-9fda-496f-ad45-cc41319d3d09",
   "metadata": {},
   "outputs": [],
   "source": []
  },
  {
   "cell_type": "code",
   "execution_count": null,
   "id": "a3c54cfb-e633-4f2a-8bea-eb36120bc16e",
   "metadata": {},
   "outputs": [],
   "source": []
  },
  {
   "cell_type": "code",
   "execution_count": null,
   "id": "c606403d-021f-4466-8b99-8fedd928f955",
   "metadata": {},
   "outputs": [],
   "source": []
  },
  {
   "cell_type": "code",
   "execution_count": null,
   "id": "c17f706b-5aab-443c-aaf2-a7a38fce8752",
   "metadata": {},
   "outputs": [],
   "source": []
  },
  {
   "cell_type": "code",
   "execution_count": null,
   "id": "c4ed2dde-1c92-4089-bc20-7d8e48e535ff",
   "metadata": {},
   "outputs": [],
   "source": []
  },
  {
   "cell_type": "code",
   "execution_count": null,
   "id": "38eee707-e589-4d27-8569-bc9bfaee18f0",
   "metadata": {},
   "outputs": [],
   "source": []
  },
  {
   "cell_type": "code",
   "execution_count": null,
   "id": "68704331-5dee-4c69-9247-e5863ecfca2a",
   "metadata": {},
   "outputs": [],
   "source": []
  },
  {
   "cell_type": "code",
   "execution_count": 13,
   "id": "0113eac8-0a44-4fb9-a745-f0f4285d78c3",
   "metadata": {},
   "outputs": [],
   "source": [
    "n_cores = 2\n",
    "KD_leafsize = 80"
   ]
  },
  {
   "cell_type": "code",
   "execution_count": 177,
   "id": "f22247ee-d4df-41dc-b1cf-30767b24d668",
   "metadata": {
    "tags": []
   },
   "outputs": [],
   "source": [
    "index_split = [i for i in range(0,cell_number,int(cell_number/n_cores))] + [cell_number]"
   ]
  },
  {
   "cell_type": "code",
   "execution_count": 178,
   "id": "74b6d4a7-0240-4b60-9770-f6b13cd874a8",
   "metadata": {},
   "outputs": [
    {
     "data": {
      "text/plain": [
       "<14095x2443832 sparse matrix of type '<class 'numpy.int64'>'\n",
       "\twith 31302243 stored elements in Compressed Sparse Row format>"
      ]
     },
     "execution_count": 178,
     "metadata": {},
     "output_type": "execute_result"
    }
   ],
   "source": [
    "input_mat"
   ]
  },
  {
   "cell_type": "code",
   "execution_count": 24,
   "id": "c44d8103-3a93-4300-8732-02b9c4e5037f",
   "metadata": {},
   "outputs": [],
   "source": [
    "input_mat_dense = input_mat.to_df()"
   ]
  },
  {
   "cell_type": "code",
   "execution_count": 14,
   "id": "d8e0d435-40a0-4dc7-b9a2-dbd48b99a2e5",
   "metadata": {},
   "outputs": [],
   "source": [
    "# pc_table = sc.tl.pca(input_mat, n_comps=50, svd_solver='arpack')\n",
    "tree = BallTree(pc_table, KD_leafsize)"
   ]
  },
  {
   "cell_type": "code",
   "execution_count": 18,
   "id": "ef22580e-5100-4a4e-9aa6-879162b231f9",
   "metadata": {},
   "outputs": [],
   "source": [
    "q_point = np.reshape(pc_table[1,:], (1,-1))"
   ]
  },
  {
   "cell_type": "code",
   "execution_count": 20,
   "id": "47d4413d-1c29-4c1b-9548-746a527ae8dd",
   "metadata": {},
   "outputs": [],
   "source": [
    "nearest_bc_idx = find_nearest_cells(q_point, tree, n_neighbor=5)"
   ]
  },
  {
   "cell_type": "code",
   "execution_count": 27,
   "id": "820373a5-38ec-4474-a97b-32430be828ef",
   "metadata": {},
   "outputs": [
    {
     "data": {
      "text/plain": [
       "matrix([[0., 0., 0., ..., 0., 0., 0.]], dtype=float32)"
      ]
     },
     "execution_count": 27,
     "metadata": {},
     "output_type": "execute_result"
    }
   ],
   "source": [
    "scipy.sparse. "
   ]
  },
  {
   "cell_type": "code",
   "execution_count": 31,
   "id": "df4f0753-6449-4e74-8016-e41a1042aa08",
   "metadata": {},
   "outputs": [
    {
     "data": {
      "text/plain": [
       "<1x2443832 sparse matrix of type '<class 'numpy.float32'>'\n",
       "\twith 2885 stored elements in Compressed Sparse Row format>"
      ]
     },
     "execution_count": 31,
     "metadata": {},
     "output_type": "execute_result"
    }
   ],
   "source": []
  },
  {
   "cell_type": "code",
   "execution_count": 170,
   "id": "0193d073-8494-4eea-b4e0-3e335aadfe3a",
   "metadata": {},
   "outputs": [],
   "source": [
    "a = input_mat.astype(int)"
   ]
  },
  {
   "cell_type": "code",
   "execution_count": 146,
   "id": "90af334e-454b-4bba-a793-f080cafa7493",
   "metadata": {},
   "outputs": [],
   "source": [
    "ret = input_mat_lil.copy()"
   ]
  },
  {
   "cell_type": "code",
   "execution_count": 156,
   "id": "b5cc42cc-0ac0-47b4-ba4e-480a5b5d3b65",
   "metadata": {},
   "outputs": [],
   "source": [
    "nearest_bc_idx = find_nearest_cells(q_point, kd_tree, n_neighbor=5)\n",
    "# nearest_bc = bc_list[nearest_bc_idx]"
   ]
  },
  {
   "cell_type": "code",
   "execution_count": 157,
   "id": "13e80a3b-1798-46b9-872a-f4b042b03bd3",
   "metadata": {},
   "outputs": [
    {
     "data": {
      "text/plain": [
       "array([ 7101,  7000, 13471, 11007, 13312])"
      ]
     },
     "execution_count": 157,
     "metadata": {},
     "output_type": "execute_result"
    }
   ],
   "source": [
    "nearest_bc_idx"
   ]
  },
  {
   "cell_type": "code",
   "execution_count": 149,
   "id": "63c09ec5-f9ad-492b-98e2-4ab358a0b0ed",
   "metadata": {},
   "outputs": [],
   "source": [
    "ret[0,:] = input_mat_csr[nearest_bc_idx,:].sum(0)"
   ]
  },
  {
   "cell_type": "code",
   "execution_count": 29,
   "id": "b98cae6a-eed8-4a4f-a284-492c487ec8b6",
   "metadata": {},
   "outputs": [
    {
     "name": "stdout",
     "output_type": "stream",
     "text": [
      "144 ms ± 155 µs per loop (mean ± std. dev. of 7 runs, 10 loops each)\n"
     ]
    }
   ],
   "source": [
    "%%timeit\n",
    "ret[0,:] = input_mat_csr[nearest_bc_idx,:].sum(0)"
   ]
  },
  {
   "cell_type": "code",
   "execution_count": 117,
   "id": "83ef8899-d195-4b86-b0cf-d1d0a9f7b7ad",
   "metadata": {},
   "outputs": [
    {
     "data": {
      "text/plain": [
       "<2x2443832 sparse matrix of type '<class 'numpy.float32'>'\n",
       "\twith 5926 stored elements in COOrdinate format>"
      ]
     },
     "execution_count": 117,
     "metadata": {},
     "output_type": "execute_result"
    }
   ],
   "source": [
    "scipy.sparse.vstack([ret[0,:], ret[1,:]])"
   ]
  },
  {
   "cell_type": "code",
   "execution_count": 49,
   "id": "b5088d3f-5e9d-468f-9c74-af64032ab1ac",
   "metadata": {},
   "outputs": [
    {
     "data": {
      "text/plain": [
       "<14095x2443832 sparse matrix of type '<class 'numpy.float32'>'\n",
       "\twith 31306602 stored elements in List of Lists format>"
      ]
     },
     "execution_count": 49,
     "metadata": {},
     "output_type": "execute_result"
    }
   ],
   "source": [
    "ret.shape"
   ]
  },
  {
   "cell_type": "code",
   "execution_count": null,
   "id": "2fa42aad-fe99-4b0e-8f6a-eb8938815096",
   "metadata": {},
   "outputs": [],
   "source": []
  },
  {
   "cell_type": "code",
   "execution_count": 99,
   "id": "0945850e-f9f9-424e-a610-b5a7adb87529",
   "metadata": {},
   "outputs": [],
   "source": [
    "index_split = [i for i in range(0,14095,int(np.ceil(14095/5)))] + [14095]"
   ]
  },
  {
   "cell_type": "code",
   "execution_count": 100,
   "id": "0c5db351-0c51-4e79-81f1-2b1352f3d482",
   "metadata": {},
   "outputs": [
    {
     "data": {
      "text/plain": [
       "[0, 2819, 5638, 8457, 11276, 14095]"
      ]
     },
     "execution_count": 100,
     "metadata": {},
     "output_type": "execute_result"
    }
   ],
   "source": [
    "index_split"
   ]
  },
  {
   "cell_type": "code",
   "execution_count": 101,
   "id": "865c75e9-a81e-4f46-a250-c71e84258779",
   "metadata": {},
   "outputs": [],
   "source": [
    "# index_split = [i for i in range(0,cell_number,int(cell_number/n_cores))]\n",
    "# #     input_table_split = np.array_split(input_mat_dense, n_cores)\n",
    "input_mat_split = [input_mat.X[index_split[i]:index_split[i+1],:] for i in range(index_split.__len__()-1)]"
   ]
  },
  {
   "cell_type": "code",
   "execution_count": 102,
   "id": "df3f584c-12e2-4f61-b46d-3a5c9a8e5652",
   "metadata": {},
   "outputs": [
    {
     "data": {
      "text/plain": [
       "[<2819x2443832 sparse matrix of type '<class 'numpy.float32'>'\n",
       " \twith 4971229 stored elements in Compressed Sparse Row format>,\n",
       " <2819x2443832 sparse matrix of type '<class 'numpy.float32'>'\n",
       " \twith 5748312 stored elements in Compressed Sparse Row format>,\n",
       " <2819x2443832 sparse matrix of type '<class 'numpy.float32'>'\n",
       " \twith 7549531 stored elements in Compressed Sparse Row format>,\n",
       " <2819x2443832 sparse matrix of type '<class 'numpy.float32'>'\n",
       " \twith 7281010 stored elements in Compressed Sparse Row format>,\n",
       " <2819x2443832 sparse matrix of type '<class 'numpy.float32'>'\n",
       " \twith 5752161 stored elements in Compressed Sparse Row format>]"
      ]
     },
     "execution_count": 102,
     "metadata": {},
     "output_type": "execute_result"
    }
   ],
   "source": [
    "input_mat_split"
   ]
  },
  {
   "cell_type": "code",
   "execution_count": 62,
   "id": "c2ec731c-c20b-4aa9-a45d-50063dc52cca",
   "metadata": {},
   "outputs": [
    {
     "data": {
      "text/plain": [
       "<15x2443832 sparse matrix of type '<class 'numpy.float32'>'\n",
       "\twith 29912 stored elements in List of Lists format>"
      ]
     },
     "execution_count": 62,
     "metadata": {},
     "output_type": "execute_result"
    }
   ],
   "source": [
    "ret[14080:14760,:]"
   ]
  },
  {
   "cell_type": "code",
   "execution_count": 16,
   "id": "a9640c04-2dc8-4126-a201-da04b5bcbfcb",
   "metadata": {},
   "outputs": [
    {
     "name": "stdout",
     "output_type": "stream",
     "text": [
      "3.21 s ± 42.1 ms per loop (mean ± std. dev. of 7 runs, 1 loop each)\n"
     ]
    }
   ],
   "source": [
    "%%timeit\n",
    "input_mat_dense.loc[nearest_bc,:].sum()"
   ]
  },
  {
   "cell_type": "code",
   "execution_count": 18,
   "id": "27415657-748b-4235-a4e8-e3d4b4e3e620",
   "metadata": {},
   "outputs": [
    {
     "data": {
      "text/plain": [
       "array([ 7101,  7000, 13471, 11007, 13312])"
      ]
     },
     "execution_count": 18,
     "metadata": {},
     "output_type": "execute_result"
    }
   ],
   "source": [
    "nearest_bc_idx"
   ]
  },
  {
   "cell_type": "code",
   "execution_count": null,
   "id": "8ad17ed1-021a-43cd-afce-d08b4790d731",
   "metadata": {},
   "outputs": [],
   "source": [
    "input_mat_dense.loc[nearest_bc,:].sum()"
   ]
  },
  {
   "cell_type": "code",
   "execution_count": null,
   "id": "9ae5535b-ae59-4159-8117-886005398e40",
   "metadata": {},
   "outputs": [],
   "source": [
    "print_log(\"Calculating neighbors, divide into {n} chunks...\".format(n=n_cores))\n",
    "input_table_split = np.array_split(input_mat_dense, n_cores)\n",
    "args = [[table, input_mat_dense, tree, bc_list, impute_n, i] for (i, table) in enumerate(input_table_split)]\n",
    "with Pool(n_cores) as p:\n",
    "    result = p.starmap(cal_neighbor_cell_peak_mat, args)\n",
    "cell_peak = pd.concat([i for i in result])\n",
    "print_log('Finished!')\n",
    "#     return sp.sparse.csr_matrix(cell_peak)"
   ]
  },
  {
   "cell_type": "code",
   "execution_count": null,
   "id": "01f861dc-9d3b-48fa-a810-2a52966f8de5",
   "metadata": {},
   "outputs": [
    {
     "name": "stdout",
     "output_type": "stream",
     "text": [
      "INFO 2021-08-17 11:34:29 Building KD tree...\n",
      "INFO 2021-08-17 11:35:41 Calculating enrichment, divide into 16 chunks...\n"
     ]
    }
   ],
   "source": [
    "ATAC_impute = cal_neighbor_cell_peak_mat_batch(ATAC, 5, 80, 16)\n",
    "utils.store_to_pickle(ATAC_impute, 'example/histone/data/matrix/ATAC_impute.pk')"
   ]
  },
  {
   "cell_type": "code",
   "execution_count": 11,
   "id": "b9efffb1-bc92-4772-ba8f-9ce591c07e00",
   "metadata": {},
   "outputs": [],
   "source": [
    "sc.pp.calculate_qc_metrics(ATAC, inplace=True)"
   ]
  },
  {
   "cell_type": "code",
   "execution_count": null,
   "id": "a046eda9-0419-46d5-a737-f2d6572297f6",
   "metadata": {},
   "outputs": [],
   "source": [
    "ATAC_pp = preprocess(ATAC, min_cells=50, min_genes=200, max_genes=7000, title='')"
   ]
  },
  {
   "cell_type": "code",
   "execution_count": null,
   "id": "c56127d3-41e2-410b-a549-20183848a19c",
   "metadata": {},
   "outputs": [],
   "source": [
    "sc.tl.pca(ATAC, n_comps=50, svd_solver='arpack')"
   ]
  },
  {
   "cell_type": "code",
   "execution_count": 25,
   "id": "2aa21df4-afe6-4e0c-83c7-1c141891d3e0",
   "metadata": {},
   "outputs": [
    {
     "data": {
      "text/plain": [
       "AnnData object with n_obs × n_vars = 14095 × 36153\n",
       "    obs: 'n_genes_by_counts', 'log1p_n_genes_by_counts', 'total_counts', 'log1p_total_counts', 'pct_counts_in_top_50_genes', 'pct_counts_in_top_100_genes', 'pct_counts_in_top_200_genes', 'pct_counts_in_top_500_genes', 'n_genes', 'louvain'\n",
       "    var: 'gene_ids', 'feature_types', 'genome', 'n_cells_by_counts', 'mean_counts', 'log1p_mean_counts', 'pct_dropout_by_counts', 'total_counts', 'log1p_total_counts', 'n_cells'\n",
       "    uns: 'pca', 'neighbors', 'umap', 'louvain', 'louvain_colors'\n",
       "    obsm: 'X_pca', 'X_umap'\n",
       "    varm: 'PCs'\n",
       "    obsp: 'distances', 'connectivities'"
      ]
     },
     "execution_count": 25,
     "metadata": {},
     "output_type": "execute_result"
    }
   ],
   "source": [
    "ATAC_pp"
   ]
  },
  {
   "cell_type": "code",
   "execution_count": 23,
   "id": "f2dcba8a-5322-427e-84eb-f09fbfeabc0a",
   "metadata": {},
   "outputs": [
    {
     "data": {
      "text/plain": [
       "AnnData object with n_obs × n_vars = 14095 × 2443832\n",
       "    obs: 'n_genes_by_counts', 'log1p_n_genes_by_counts', 'total_counts', 'log1p_total_counts', 'pct_counts_in_top_50_genes', 'pct_counts_in_top_100_genes', 'pct_counts_in_top_200_genes', 'pct_counts_in_top_500_genes'\n",
       "    var: 'gene_ids', 'feature_types', 'genome', 'n_cells_by_counts', 'mean_counts', 'log1p_mean_counts', 'pct_dropout_by_counts', 'total_counts', 'log1p_total_counts'"
      ]
     },
     "execution_count": 23,
     "metadata": {},
     "output_type": "execute_result"
    }
   ],
   "source": [
    "ATAC"
   ]
  }
 ],
 "metadata": {
  "kernelspec": {
   "display_name": "script",
   "language": "python",
   "name": "script"
  },
  "language_info": {
   "codemirror_mode": {
    "name": "ipython",
    "version": 3
   },
   "file_extension": ".py",
   "mimetype": "text/x-python",
   "name": "python",
   "nbconvert_exporter": "python",
   "pygments_lexer": "ipython3",
   "version": "3.9.5"
  },
  "toc-autonumbering": false,
  "toc-showcode": false
 },
 "nbformat": 4,
 "nbformat_minor": 5
}
