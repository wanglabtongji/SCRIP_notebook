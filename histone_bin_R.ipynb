{
 "cells": [
  {
   "cell_type": "code",
   "execution_count": null,
   "id": "07c50201-356b-4c3f-9561-35808af1bf29",
   "metadata": {},
   "outputs": [],
   "source": [
    "library(devtools)\n",
    "install_github(\"r3fang/SnapATAC\")"
   ]
  },
  {
   "cell_type": "code",
   "execution_count": null,
   "id": "7b9d252b-cbdb-4bde-8bc5-fb02e7f89805",
   "metadata": {},
   "outputs": [],
   "source": [
    "install.packages('ClusterProfiler')"
   ]
  },
  {
   "cell_type": "code",
   "execution_count": null,
   "id": "ec7fed30-aa2f-4a04-b5e1-b10aa5c6d1fe",
   "metadata": {},
   "outputs": [],
   "source": [
    "BiocManager::install('DO.db',force = TRUE)"
   ]
  },
  {
   "cell_type": "markdown",
   "id": "f3868d04-97b7-4ce5-94dc-ba5a16e2b80d",
   "metadata": {},
   "source": [
    "# library"
   ]
  },
  {
   "cell_type": "code",
   "execution_count": null,
   "id": "8b58a447-92c2-4142-8ba1-66ca92740a29",
   "metadata": {},
   "outputs": [],
   "source": [
    "library(SnapATAC)\n",
    "library(Matrix)\n",
    "library(Seurat)\n",
    "library(MAESTRO)\n",
    "library(Signac)\n",
    "library(qs)\n",
    "library(harmony)\n",
    "library(VennDiagram)\n",
    "library(tidyverse)\n",
    "library(hrbrthemes)\n",
    "library(tm)\n",
    "library(proustr)\n",
    "library(SingleCellExperiment)\n",
    "library(clusterProfiler)"
   ]
  },
  {
   "cell_type": "code",
   "execution_count": null,
   "id": "6b94681a-5c8c-42f6-82c3-2eab671a64b2",
   "metadata": {},
   "outputs": [],
   "source": [
    "barcode_key <- read.table('example//PBMC/barcode_key.txt')\n",
    "rownames(barcode_key) <- barcode_key[,'ATAC']"
   ]
  },
  {
   "cell_type": "markdown",
   "id": "ad106fa9-d661-49a0-b254-fa79f11600ea",
   "metadata": {},
   "source": [
    "# ATAC"
   ]
  },
  {
   "cell_type": "code",
   "execution_count": null,
   "id": "b0f2ecc3-1acb-4383-9dd3-45dd281544c7",
   "metadata": {},
   "outputs": [],
   "source": [
    "atac_pbmc_count <- Read10X_h5('example/PBMC/data/PBMC_ATAC_500bin/PBMC_500bin_peak_count.h5')"
   ]
  },
  {
   "cell_type": "code",
   "execution_count": null,
   "id": "fa6ce2f4-74f9-4655-9e83-b31caf245909",
   "metadata": {},
   "outputs": [],
   "source": [
    "atac_pbmc_count <- BinarizeCounts(atac_pbmc_count)"
   ]
  },
  {
   "cell_type": "code",
   "execution_count": null,
   "id": "33d59465-bce6-4380-b12f-414d59fcfe07",
   "metadata": {},
   "outputs": [],
   "source": [
    "atac_pbmc_res <- ATACRunSeurat(inputMat = atac_pbmc_count,\n",
    "                                 project = \"atac\",\n",
    "                                 min.c = 10,\n",
    "                                 min.p = 200,\n",
    "                                 method = \"LSI\",\n",
    "                                 dims.use = 1:30,\n",
    "                                 cluster.res = 0.6,\n",
    "                                 only.pos = TRUE,\n",
    "                                 peaks.test.use = \"presto\",\n",
    "                                 peaks.cutoff = 1e-05,\n",
    "                                 peaks.pct = 0.1,\n",
    "                                 peaks.logfc = 0.2,\n",
    "                                 outdir = 'example/PBMC/data/PBMC_ATAC_500bin/analysis/')"
   ]
  },
  {
   "cell_type": "code",
   "execution_count": null,
   "id": "f60d06d6-09f7-4adb-9a99-c7203ebb1af8",
   "metadata": {},
   "outputs": [],
   "source": [
    "metadata <- read.table('example/PBMC/analysis/metadata.txt')\n",
    "rownames(metadata) <- paste0(barcode_key[rownames(metadata),'RNA'],'-1')"
   ]
  },
  {
   "cell_type": "code",
   "execution_count": null,
   "id": "66544691-0a38-4699-b885-baa588f0dd1e",
   "metadata": {},
   "outputs": [],
   "source": [
    "atac_pbmc_res$ATAC@meta.data$Celltype <- metadata[rownames(atac_pbmc_res$ATAC@meta.data),'Celltype']"
   ]
  },
  {
   "cell_type": "code",
   "execution_count": null,
   "id": "5c5a04ee-4ce6-4beb-890e-219558fd9ac2",
   "metadata": {},
   "outputs": [],
   "source": [
    "DimPlot(atac_pbmc_res$ATAC, group.by = 'Celltype')"
   ]
  },
  {
   "cell_type": "code",
   "execution_count": null,
   "id": "cc9f9568-2b3c-4a15-a9af-c77f0d8e109b",
   "metadata": {},
   "outputs": [],
   "source": [
    "qsave(atac_pbmc_res, 'example/PBMC/data/PBMC_ATAC_500bin/analysis/atac_pbmc_res.qs')"
   ]
  },
  {
   "cell_type": "code",
   "execution_count": null,
   "id": "8ab045ab-d0a2-4337-bcd1-864a420668af",
   "metadata": {},
   "outputs": [],
   "source": [
    "atac_pbmc_res <- qread('example/PBMC/data/PBMC_ATAC_500bin/analysis/atac_pbmc_res.qs')"
   ]
  },
  {
   "cell_type": "code",
   "execution_count": null,
   "id": "3809db66-f154-4bff-8a6e-ceeef38d786b",
   "metadata": {},
   "outputs": [],
   "source": [
    "write.table(atac_pbmc_res$ATAC@meta.data, 'example/PBMC/data/PBMC_ATAC_500bin/analysis/meta_bin.txt')"
   ]
  },
  {
   "cell_type": "code",
   "execution_count": null,
   "id": "38a4bd0e-839d-480e-8145-49af5d1c282e",
   "metadata": {},
   "outputs": [],
   "source": [
    "atac_pbmc_res$ATAC@meta.data"
   ]
  },
  {
   "cell_type": "code",
   "execution_count": null,
   "id": "ff7ecd8b-c552-41ac-8dd4-9ef452d2346b",
   "metadata": {},
   "outputs": [],
   "source": [
    "useful_bc <- rownames(atac_pbmc_res$ATAC@meta.data)[atac_pbmc_res$ATAC@meta.data[,'Celltype'] %in% c('CD14Mono', 'CD16Mono', 'CD4T', 'CD8T', 'B')]"
   ]
  },
  {
   "cell_type": "code",
   "execution_count": null,
   "id": "5882b508-2532-4bc3-8963-1eb58d4a45ad",
   "metadata": {},
   "outputs": [],
   "source": [
    "DefaultAssay(atac_pbmc_res$ATAC) <- 'ATAC'"
   ]
  },
  {
   "cell_type": "code",
   "execution_count": null,
   "id": "707f087d-6e40-4836-8bcb-5c9e85aeadc4",
   "metadata": {},
   "outputs": [],
   "source": [
    "atac_pbmc_se <- as.SingleCellExperiment(atac_pbmc_res$ATAC[,useful_bc])"
   ]
  },
  {
   "cell_type": "code",
   "execution_count": null,
   "id": "39be1818-e9f8-4f36-b4f8-b465c916f7b7",
   "metadata": {},
   "outputs": [],
   "source": [
    "saveRDS(atac_pbmc_se, 'example/PBMC/data/PBMC_ATAC_500bin/analysis/PBMC_TBMono_500bin.rds')"
   ]
  },
  {
   "cell_type": "code",
   "execution_count": null,
   "id": "a6c0f17a-584c-46b1-89f0-342ad3385151",
   "metadata": {},
   "outputs": [],
   "source": []
  },
  {
   "cell_type": "markdown",
   "id": "3621769c-1990-4ef8-a905-aa93b99f3b71",
   "metadata": {},
   "source": [
    "# H3K27ac"
   ]
  },
  {
   "cell_type": "code",
   "execution_count": null,
   "id": "97d17039-ad1b-4819-8e2d-b077a3ae4a2d",
   "metadata": {},
   "outputs": [],
   "source": [
    "h3k27ac_pbmc_count <- Read10X_h5('example/histone/peak_base/cuttagpro/PBMC_H3K27ac_500bin/PBMC_H3K27ac_500bin_peak_count.h5')\n",
    "h3k27ac_pbmc_count <- BinarizeCounts(h3k27ac_pbmc_count)"
   ]
  },
  {
   "cell_type": "code",
   "execution_count": null,
   "id": "a9afb86f-9e2b-4fd3-9dfd-5ca7d750dea1",
   "metadata": {
    "scrolled": true,
    "tags": []
   },
   "outputs": [],
   "source": [
    "H3K27ac_pbmc_res <- ATACRunSeurat(inputMat = h3k27ac_pbmc_count,\n",
    "                                 project = \"h3k27ac\",\n",
    "                                 min.c = 20,\n",
    "                                 min.p = 200,\n",
    "                                 method = \"LSI\",\n",
    "                                 dims.use = 1:30,\n",
    "                                 cluster.res = 0.6,\n",
    "                                 only.pos = TRUE,\n",
    "                                 peaks.test.use = \"presto\",\n",
    "                                 peaks.cutoff = 1e-05,\n",
    "                                 peaks.pct = 0.1,\n",
    "                                 peaks.logfc = 0.2,\n",
    "                                 outdir = 'example/histone/peak_base/cuttagpro/PBMC_H3K27ac_500bin/analysis')"
   ]
  },
  {
   "cell_type": "code",
   "execution_count": null,
   "id": "6b197922-e549-4f01-a919-9a8f3dd94e18",
   "metadata": {},
   "outputs": [],
   "source": [
    "DimPlot(H3K27ac_pbmc_res$ATAC)"
   ]
  },
  {
   "cell_type": "code",
   "execution_count": null,
   "id": "faea9d8f-6aa6-4fa0-994b-1b7f00bcd5ef",
   "metadata": {},
   "outputs": [],
   "source": [
    "annotated_h3k27ac <- readRDS('example/histone/peak_base/cuttagpro/H3K27ac.rds')"
   ]
  },
  {
   "cell_type": "code",
   "execution_count": null,
   "id": "591d06a5-af3e-4576-b47b-b3fafe9dfcbb",
   "metadata": {},
   "outputs": [],
   "source": [
    "write.table(annotated_h3k27ac@meta.data, 'example/histone/peak_base/cuttagpro/H3K27ac_metadata.txt', quote=FALSE, sep='\\t')"
   ]
  },
  {
   "cell_type": "code",
   "execution_count": null,
   "id": "6183037c-22ae-4be2-b009-c04c3c0c196a",
   "metadata": {},
   "outputs": [],
   "source": [
    "metadata <- annotated_h3k27ac@meta.data"
   ]
  },
  {
   "cell_type": "code",
   "execution_count": null,
   "id": "092ba48a-a3dc-4696-a0a2-28ac65d5880e",
   "metadata": {},
   "outputs": [],
   "source": [
    "H3K27ac_pbmc_res$ATAC@meta.data$Celltype <- metadata[rownames(H3K27ac_pbmc_res$ATAC@meta.data),'predicted.celltype.l1']"
   ]
  },
  {
   "cell_type": "code",
   "execution_count": null,
   "id": "90182667-1369-4d35-b743-59835296e779",
   "metadata": {},
   "outputs": [],
   "source": [
    "DimPlot(H3K27ac_pbmc_res$ATAC, group.by = 'Celltype')"
   ]
  },
  {
   "cell_type": "code",
   "execution_count": null,
   "id": "72baabd7-95fe-4628-a142-1f3032730ee8",
   "metadata": {},
   "outputs": [],
   "source": [
    "qsave(H3K27ac_pbmc_res, 'example/histone/peak_base/cuttagpro/PBMC_H3K27ac_500bin/analysis/H3K27ac_pbmc_res.qs')"
   ]
  },
  {
   "cell_type": "code",
   "execution_count": null,
   "id": "fecb87ed-ac3b-4d5a-affe-a65a397e69ad",
   "metadata": {},
   "outputs": [],
   "source": [
    "H3K27ac_pbmc_res <- qread('example/histone/peak_base/cuttagpro/PBMC_H3K27ac_500bin/analysis/H3K27ac_pbmc_res.qs')"
   ]
  },
  {
   "cell_type": "code",
   "execution_count": null,
   "id": "4858dc6e-f04f-423e-9abd-b06e01d37f78",
   "metadata": {},
   "outputs": [],
   "source": [
    "real_h3k27ac <- as.SingleCellExperiment(H3K27ac_pbmc_res$ATAC)"
   ]
  },
  {
   "cell_type": "code",
   "execution_count": null,
   "id": "79d9fc87-c977-46a7-a21b-a28adb646b26",
   "metadata": {},
   "outputs": [],
   "source": [
    "saveRDS(real_h3k27ac, 'example/histone/peak_base/cuttagpro/PBMC_H3K27ac_500bin/analysis/real_SE.rds')"
   ]
  },
  {
   "cell_type": "code",
   "execution_count": null,
   "id": "bd9559ed-bc33-43ec-9031-6d14460e7cdf",
   "metadata": {},
   "outputs": [],
   "source": [
    "write.table(atac_pbmc_res$ATAC@meta.data, 'example/PBMC/data/PBMC_ATAC_500bin/analysis/meta_bin.txt')"
   ]
  },
  {
   "cell_type": "code",
   "execution_count": null,
   "id": "d43ab9e0-99c4-404e-bb0f-757d0cddc61f",
   "metadata": {},
   "outputs": [],
   "source": [
    "atac_imputed_h3k27ac_count <- Read10X('example/histone/peak_base/cuttagpro/SCRIPT_PBMC/imputationPBMC1022/imputed_H3K27ac_mtx/', gene.column = 1)"
   ]
  },
  {
   "cell_type": "code",
   "execution_count": null,
   "id": "e7446c6d-4cfd-470b-a9c2-93db8c898768",
   "metadata": {
    "tags": []
   },
   "outputs": [],
   "source": [
    "dim(atac_imputed_h3k27ac_count)"
   ]
  },
  {
   "cell_type": "code",
   "execution_count": null,
   "id": "b2efee41-31eb-4c69-bce4-9c396d04bb73",
   "metadata": {
    "scrolled": true,
    "tags": []
   },
   "outputs": [],
   "source": [
    "atac_impute_h3k27ac_res <- ATACRunSeurat(inputMat = atac_imputed_h3k27ac_count,\n",
    "                                 project = \"h3k27ac\",\n",
    "                                 min.c = 20,\n",
    "                                 min.p = 200,\n",
    "                                 method = \"LSI\",\n",
    "                                 dims.use = 1:30,\n",
    "                                 cluster.res = 0.6,\n",
    "                                 only.pos = TRUE,\n",
    "                                 peaks.test.use = \"presto\",\n",
    "                                 peaks.cutoff = 1e-05,\n",
    "                                 peaks.pct = 0.1,\n",
    "                                 peaks.logfc = 0.2,\n",
    "                                 outdir = 'example/histone/peak_base/cuttagpro/SCRIPT_PBMC/imputationPBMC1022/analysis')"
   ]
  },
  {
   "cell_type": "code",
   "execution_count": null,
   "id": "d4964555-4b79-4f3a-a878-fda7352034b7",
   "metadata": {},
   "outputs": [],
   "source": [
    "DimPlot(atac_impute_h3k27ac_res$ATAC)"
   ]
  },
  {
   "cell_type": "code",
   "execution_count": null,
   "id": "2b70db73-1aea-4b9d-a6eb-19829b5e3f07",
   "metadata": {},
   "outputs": [],
   "source": [
    "imputed_h3k27ac_se <- as.SingleCellExperiment(atac_impute_h3k27ac_res$ATAC)"
   ]
  },
  {
   "cell_type": "code",
   "execution_count": null,
   "id": "e18f4a3e-65c8-488d-91b2-50f0ebf04c3b",
   "metadata": {},
   "outputs": [],
   "source": [
    "qsave(atac_impute_h3k27ac_res, 'example/histone/peak_base/cuttagpro/SCRIPT_PBMC/imputationPBMC1022/analysis/seurat.qs')"
   ]
  },
  {
   "cell_type": "code",
   "execution_count": null,
   "id": "16600114-9d6a-4c99-ac7b-904c96bbfabb",
   "metadata": {},
   "outputs": [],
   "source": [
    "saveRDS(imputed_h3k27ac_se, 'example/histone/peak_base/cuttagpro/SCRIPT_PBMC/imputationPBMC1022/analysis/SE.rds')"
   ]
  },
  {
   "cell_type": "code",
   "execution_count": null,
   "id": "285244a9-d89c-49c7-b058-dc35fef89e83",
   "metadata": {},
   "outputs": [],
   "source": [
    "real_h3k27ac <- H3K27ac_pbmc_res$ATAC"
   ]
  },
  {
   "cell_type": "code",
   "execution_count": null,
   "id": "b10f3e89-8872-48a2-a87f-3e1a6147d46a",
   "metadata": {},
   "outputs": [],
   "source": [
    "h3k27ac_pbmc_count <- Read10X_h5('example/histone/peak_base/cuttagpro/PBMC_H3K27ac_500bin/PBMC_H3K27ac_500bin_peak_count.h5')\n",
    "h3k27ac_pbmc_count <- BinarizeCounts(h3k27ac_pbmc_count)"
   ]
  },
  {
   "cell_type": "code",
   "execution_count": null,
   "id": "85fad2d1-b236-43d3-b040-d07da6a09a3b",
   "metadata": {},
   "outputs": [],
   "source": [
    "impute_h3k27ac <- atac_impute_h3k27ac_res$ATAC"
   ]
  },
  {
   "cell_type": "code",
   "execution_count": null,
   "id": "e0b76bc2-24d8-4a3e-b49f-1224ce102068",
   "metadata": {},
   "outputs": [],
   "source": [
    "atac_imputed_h3k27ac_count <- atac_impute_h3k27ac_res$ATAC@assays$ATAC@counts"
   ]
  },
  {
   "cell_type": "code",
   "execution_count": null,
   "id": "f9e7d47a-32a7-4813-bbc4-822366f519e8",
   "metadata": {},
   "outputs": [],
   "source": [
    "library(reticulate)\n",
    "use_python(\"/fs/home/dongxin/Applications/miniconda3/envs/MAESTRO/bin/python\", required = TRUE)"
   ]
  },
  {
   "cell_type": "code",
   "execution_count": null,
   "id": "2d83edba-c60b-4b69-b736-4c083bee0590",
   "metadata": {},
   "outputs": [],
   "source": [
    "real.pbmc.gene_10k <- ATACCalculateGenescore(h3k27ac_pbmc_count, organism = \"GRCh38\", decaydistance = 10000, model = 'Simple')\n",
    "# real_h3k27ac <- ATACAttachGenescore(ATAC = real_h3k27ac, RPmatrix = real.pbmc.gene_10k)"
   ]
  },
  {
   "cell_type": "code",
   "execution_count": null,
   "id": "6dd2f764-4e8f-43f6-86c9-069868a197c7",
   "metadata": {},
   "outputs": [],
   "source": [
    "impute.pbmc.gene_10k <- ATACCalculateGenescore(atac_imputed_h3k27ac_count, organism = \"GRCh38\", decaydistance = 10000, model = 'Simple')\n",
    "impute_h3k27ac <- ATACAttachGenescore(ATAC = impute_h3k27ac, RPmatrix = impute.pbmc.gene_10k)"
   ]
  },
  {
   "cell_type": "code",
   "execution_count": null,
   "id": "7a159f48-8e99-497a-ab59-1db71ef1529e",
   "metadata": {},
   "outputs": [],
   "source": [
    "FeaturePlot(real_h3k27ac, 'STAT1')"
   ]
  },
  {
   "cell_type": "code",
   "execution_count": null,
   "id": "078e0327-3c0e-45e6-9b0b-c98e59d2c70f",
   "metadata": {},
   "outputs": [],
   "source": [
    "FeaturePlot(impute_h3k27ac, 'STAT1')"
   ]
  },
  {
   "cell_type": "code",
   "execution_count": null,
   "id": "4c4a7866-e449-473d-97c7-d047c2237335",
   "metadata": {},
   "outputs": [],
   "source": [
    "qsave(real_h3k27ac, 'example/histone/peak_base/cuttagpro/SCRIPT_PBMC/real_RP_inte_10k.qs')"
   ]
  },
  {
   "cell_type": "code",
   "execution_count": null,
   "id": "7e57cdaa-7041-4a02-9ead-f207f59f03c8",
   "metadata": {},
   "outputs": [],
   "source": [
    "qsave(impute_h3k27ac, 'example/histone/peak_base/cuttagpro/SCRIPT_PBMC/imputationPBMC1022/imputed_RP_inte_10k.qs')"
   ]
  },
  {
   "cell_type": "code",
   "execution_count": null,
   "id": "9ab9442c-c3bc-4569-8998-c331b6c5d36a",
   "metadata": {},
   "outputs": [],
   "source": [
    "qsave(impute.pbmc.gene_10k, 'example/histone/peak_base/cuttagpro/SCRIPT_PBMC/impute_RP_inte_10k.qs')"
   ]
  },
  {
   "cell_type": "code",
   "execution_count": null,
   "id": "0bf59219-d3f2-4cf0-be6d-e78bd663793d",
   "metadata": {},
   "outputs": [],
   "source": []
  },
  {
   "cell_type": "code",
   "execution_count": null,
   "id": "2f20209c-a89e-404f-bbea-5d6e56e392be",
   "metadata": {},
   "outputs": [],
   "source": []
  },
  {
   "cell_type": "code",
   "execution_count": null,
   "id": "8ff7dc5b-4d57-4aa5-b46b-7ab54f743b27",
   "metadata": {},
   "outputs": [],
   "source": [
    "real_h3k27ac <- qread('example/histone/peak_base/cuttagpro/SCRIPT_PBMC/real_RP_inte_10k.qs')"
   ]
  },
  {
   "cell_type": "code",
   "execution_count": null,
   "id": "02339a6f-bd4a-40f4-b412-b0a7784d5394",
   "metadata": {},
   "outputs": [],
   "source": [
    "impute_h3k27ac <- qread('example/histone/peak_base/cuttagpro/SCRIPT_PBMC/imputationPBMC1022/imputed_RP_inte_10k.qs')"
   ]
  },
  {
   "cell_type": "code",
   "execution_count": null,
   "id": "63733174-5a23-46d5-8f83-1b07d01337f5",
   "metadata": {},
   "outputs": [],
   "source": [
    "write.table(real_h3k27ac@meta.data, 'example/histone/peak_base/cuttagpro/SCRIPT_PBMC/real_meta_data.txt', quote = FALSE, sep='\\t')"
   ]
  },
  {
   "cell_type": "code",
   "execution_count": null,
   "id": "a3439019-70f4-414a-a489-64f29ac952fd",
   "metadata": {},
   "outputs": [],
   "source": [
    "tmp_matrix <- as.matrix(rowSums(real_h3k27ac@assays$ATAC@counts[,real_mono_bc]))\n",
    "write.table(tmp_matrix, '/fs/home/dongxin/Projects/SCRIPT/scATAC/example/histone/trackplot/real_mono.bedgraph', sep='\\t', col.names = FALSE, quote=FALSE)"
   ]
  },
  {
   "cell_type": "code",
   "execution_count": null,
   "id": "3e561231-d662-4ff2-86a9-0abc72b3dc03",
   "metadata": {},
   "outputs": [],
   "source": [
    "tmp_matrix <- as.matrix(rowSums(impute_h3k27ac@assays$ATAC@counts[,intersect(paste0(impute_mono_bc,'-1'), colnames(impute_h3k27ac@assays$ATAC@counts))]))\n",
    "write.table(tmp_matrix, '/fs/home/dongxin/Projects/SCRIPT/scATAC/example/histone/trackplot/impute_mono.bedgraph', sep='\\t', col.names = FALSE, quote=FALSE)"
   ]
  },
  {
   "cell_type": "code",
   "execution_count": null,
   "id": "109aa6cb-6e69-42d6-a262-2a41b75b504b",
   "metadata": {},
   "outputs": [],
   "source": []
  },
  {
   "cell_type": "code",
   "execution_count": null,
   "id": "482a9c99-74d6-4519-8a80-e992dd1d3b8f",
   "metadata": {},
   "outputs": [],
   "source": [
    "impute.pbmc.gene_10k <- impute_h3k27ac@assays$ACTIVITY@counts"
   ]
  },
  {
   "cell_type": "code",
   "execution_count": null,
   "id": "da207768-259d-4baa-9997-b48e32eb0877",
   "metadata": {},
   "outputs": [],
   "source": [
    "real.pbmc.gene_10k <- real_h3k27ac@assays$ACTIVITY@counts"
   ]
  },
  {
   "cell_type": "code",
   "execution_count": null,
   "id": "4b53ab7c-d116-4617-ae47-de9318745a39",
   "metadata": {},
   "outputs": [],
   "source": [
    "real.pbmc.gene_10k_se <- SingleCellExperiment(real.pbmc.gene_10k)"
   ]
  },
  {
   "cell_type": "code",
   "execution_count": null,
   "id": "c9f01fec-ae9d-42b0-80a0-2eabf1f484b7",
   "metadata": {},
   "outputs": [],
   "source": [
    "saveRDS(real.pbmc.gene_10k_se, 'example/histone/peak_base/cuttagpro/SCRIPT_PBMC/real_RP.rds')"
   ]
  },
  {
   "cell_type": "code",
   "execution_count": null,
   "id": "76c1bdee-1457-4886-8560-4442d07a01be",
   "metadata": {},
   "outputs": [],
   "source": []
  },
  {
   "cell_type": "markdown",
   "id": "b28705df-d102-4ffa-a6c4-5a747b74d622",
   "metadata": {},
   "source": [
    "## RP correlation"
   ]
  },
  {
   "cell_type": "code",
   "execution_count": null,
   "id": "51997b9d-1a9b-4c43-b159-08b98b49c146",
   "metadata": {},
   "outputs": [],
   "source": [
    "imputed_metadata = read.csv('example/PBMC/analysis/metadata.txt', sep='\\t', row.names=1)\n",
    "atac_bc <- rownames(imputed_metadata)\n",
    "key = read.table('example/PBMC/barcode_key.txt',sep='\\t', header=TRUE)\n",
    "atac_bc <- key[which(key$ATAC %in% atac_bc),'RNA']\n",
    "rownames(imputed_metadata) <- atac_bc"
   ]
  },
  {
   "cell_type": "code",
   "execution_count": null,
   "id": "f2c9eae8-c93a-4c13-ad87-2af3b0cecd26",
   "metadata": {},
   "outputs": [],
   "source": [
    "impute.pbmc.gene_10k_matrix = as.matrix(impute.pbmc.gene_10k)\n",
    "real_metadata = real_h3k27ac@meta.data\n",
    "real.pbmc.gene_10k_matrix =  as.matrix(real.pbmc.gene_10k)"
   ]
  },
  {
   "cell_type": "code",
   "execution_count": null,
   "id": "6718bf47-66be-4377-bc4c-4ec63ca7a8d1",
   "metadata": {},
   "outputs": [],
   "source": [
    "impute_t_bc = rownames(imputed_metadata)[which(imputed_metadata['Cell.Type'] == \"T\")]\n",
    "impute_t_rp = apply(impute.pbmc.gene_10k_matrix[,intersect(paste0(impute_t_bc,'-1'), colnames(impute.pbmc.gene_10k_matrix))],1, mean)"
   ]
  },
  {
   "cell_type": "code",
   "execution_count": null,
   "id": "51221501-7760-48da-a59b-0e2ea8c16fbd",
   "metadata": {},
   "outputs": [],
   "source": [
    "real_t_bc = rownames(real_metadata)[which(real_metadata['Celltype'] == 'CD4 T' | real_metadata['Celltype'] == 'CD8 T' |real_metadata['Celltype'] =='other T')]\n",
    "real_t_rp = apply(real.pbmc.gene_10k_matrix[,intersect(real_t_bc, colnames(real.pbmc.gene_10k_matrix))],1, mean)"
   ]
  },
  {
   "cell_type": "code",
   "execution_count": null,
   "id": "6a32e289-a512-4469-9d9e-bd8602d1a4e0",
   "metadata": {},
   "outputs": [],
   "source": [
    "bulk_target = unique(read.table('/fs/home/dongxin/Projects/SCRIPT/scATAC/example/histone/62350_gene_score_5fold_T.txt', comment.char = '#')$V7)[0:1000]"
   ]
  },
  {
   "cell_type": "code",
   "execution_count": null,
   "id": "da4d5c4c-4658-46cb-ba55-cd3b9441b24f",
   "metadata": {},
   "outputs": [],
   "source": [
    "venn.diagram(\n",
    "  x = list(\n",
    "    names(sort(real_t_rp, decreasing = TRUE)[0:1000]), \n",
    "    names(sort(impute_t_rp, decreasing = TRUE)[0:1000]) , \n",
    "    bulk_target\n",
    "    ),\n",
    "  category.names = c(\"scCUT&Pro\" , \"SCRIPT Imputed\" , \"Bulk\"),\n",
    "  filename = 'venn_t.png',\n",
    "  output = TRUE ,\n",
    "  imagetype=\"png\" ,\n",
    "  height = 800 , \n",
    "  width = 800 , \n",
    "  resolution = 300,\n",
    "  compression = \"lzw\",\n",
    "  lwd = 1,\n",
    "  col=c(\"#440154ff\", '#21908dff', '#fc2727ff'),\n",
    "  fill = c(alpha(\"#440154ff\",0.3), alpha('#21908dff',0.3), alpha('#fc2727ff',0.3)),\n",
    "  cex = 1,\n",
    "  fontfamily = \"Arial\",\n",
    "  cat.cex = 0.7,\n",
    "  cat.default.pos = \"outer\",\n",
    "  cat.pos = c(-27, 22, 135),\n",
    "  cat.dist = c(0.055, 0.055, 0.085),\n",
    "  cat.fontfamily = \"Arial\",\n",
    "  cat.col = c(\"#440154ff\", '#21908dff', '#fc2727ff'),\n",
    "  rotation = 1\n",
    "        )"
   ]
  },
  {
   "cell_type": "code",
   "execution_count": null,
   "id": "7ed7224d-579f-4f22-85e6-66e5b636d4f0",
   "metadata": {},
   "outputs": [],
   "source": [
    "cor(impute_t_rp, real_t_rp,  method = \"spearman\")"
   ]
  },
  {
   "cell_type": "code",
   "execution_count": null,
   "id": "45f2cd9f-a61b-4b1c-af11-18bd4962b5b2",
   "metadata": {
    "tags": []
   },
   "outputs": [],
   "source": [
    "ggplot(data.frame(impute_t_rp, real_t_rp), aes(x=real_t_rp, y=impute_t_rp)) +\n",
    "geom_point()+\n",
    "geom_smooth(method=lm)+\n",
    "theme_classic()+ \n",
    "geom_rug()+\n",
    "theme(text = element_text(size=20), axis.text.x = element_text(angle=90, hjust=1)) "
   ]
  },
  {
   "cell_type": "code",
   "execution_count": null,
   "id": "1d83c24a-4181-4ee8-a236-596dc8fe12d2",
   "metadata": {},
   "outputs": [],
   "source": [
    "impute_mono_bc = rownames(imputed_metadata)[which(imputed_metadata['Cell.Type'] == \"Mono\")]\n",
    "impute_mono_rp = apply(impute.pbmc.gene_10k_matrix[,intersect(paste0(impute_mono_bc,'-1'), colnames(impute.pbmc.gene_10k_matrix))],1, mean)"
   ]
  },
  {
   "cell_type": "code",
   "execution_count": null,
   "id": "b711fd36-2887-4bb1-a266-7378afb8525f",
   "metadata": {},
   "outputs": [],
   "source": [
    "real_mono_bc = rownames(real_metadata)[which(real_metadata['Celltype'] == 'Mono')]\n",
    "real_mono_rp = apply(real.pbmc.gene_10k_matrix[,intersect(real_mono_bc, colnames(real.pbmc.gene_10k_matrix))],1, mean)"
   ]
  },
  {
   "cell_type": "code",
   "execution_count": null,
   "id": "a184fa79-43bf-49b9-9573-85abe0117d1c",
   "metadata": {},
   "outputs": [],
   "source": [
    "cor(impute_mono_rp, real_mono_rp,  method = \"spearman\")"
   ]
  },
  {
   "cell_type": "code",
   "execution_count": null,
   "id": "399e84d9-51ae-4df0-8d9b-1f4e2c58b3ad",
   "metadata": {
    "tags": []
   },
   "outputs": [],
   "source": [
    "ggplot(data.frame(impute_mono_rp, real_mono_rp), aes(x=real_mono_rp, y=impute_mono_rp)) +\n",
    "geom_point()+\n",
    "geom_smooth(method=lm)+\n",
    "theme_classic()+ \n",
    "geom_rug()+\n",
    "theme(text = element_text(size=20), axis.text.x = element_text(angle=90, hjust=1)) "
   ]
  },
  {
   "cell_type": "code",
   "execution_count": null,
   "id": "efaf6ef6-0cdf-4fba-ae3f-f0ec261635f3",
   "metadata": {},
   "outputs": [],
   "source": [
    "cor(impute_t_rp, real_mono_rp, method = 'spearman')"
   ]
  },
  {
   "cell_type": "code",
   "execution_count": null,
   "id": "3d7aba05-7f42-4d2c-bd0d-5539dc8adf7e",
   "metadata": {
    "tags": []
   },
   "outputs": [],
   "source": [
    "ggplot(data.frame(impute_t_rp, real_mono_rp), aes(x=real_mono_rp, y=impute_t_rp)) +\n",
    "geom_point()+\n",
    "geom_smooth(method=lm)+\n",
    "theme_classic()+ \n",
    "geom_rug()+\n",
    "theme(text = element_text(size=20), axis.text.x = element_text(angle=90, hjust=1)) "
   ]
  },
  {
   "cell_type": "code",
   "execution_count": null,
   "id": "bed2ae7d-c22f-417a-ae7c-422a54344080",
   "metadata": {},
   "outputs": [],
   "source": [
    "T_target = read.table('/fs/home/dongxin/Projects/SCRIPT/scATAC/example/histone/SCRIPT_1114_remove_others/imputation/H3K27ac_T_rp_gene.txt')$V1[0:50]"
   ]
  }
 ],
 "metadata": {
  "kernelspec": {
   "display_name": "MAESTRO R 4.0.5",
   "language": "R",
   "name": "irmaestro4.0.5"
  },
  "language_info": {
   "codemirror_mode": "r",
   "file_extension": ".r",
   "mimetype": "text/x-r-source",
   "name": "R",
   "pygments_lexer": "r",
   "version": "4.0.5"
  }
 },
 "nbformat": 4,
 "nbformat_minor": 5
}
