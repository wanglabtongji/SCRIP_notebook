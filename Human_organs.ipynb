{
 "cells": [
  {
   "cell_type": "markdown",
   "id": "8f7c2040-9965-49ef-a06a-9c156df41d38",
   "metadata": {},
   "source": [
    "# TF analysis"
   ]
  },
  {
   "cell_type": "markdown",
   "id": "a7d997a8-079c-4763-b6b3-43317576f8d1",
   "metadata": {},
   "source": [
    "## count NMI"
   ]
  },
  {
   "cell_type": "code",
   "execution_count": null,
   "id": "8d027eef-9b0d-47c9-9f29-6bffced77d0e",
   "metadata": {},
   "outputs": [],
   "source": [
    "library(Seurat)\n",
    "library(NMI)\n",
    "library(RColorBrewer)\n",
    "library(ggplot2)\n",
    "library(dplyr)\n",
    "library(ComplexHeatmap)\n",
    "library(RColorBrewer)\n",
    "library(patchwork)\n",
    "library(data.tree) \n",
    "library(gridExtra) \n",
    "library(rlist) \n",
    "library(phangorn) \n",
    "library(scales)\n",
    "library(dendextend)\n",
    "library(tidytree)\n",
    "library(ggtree)\n",
    "library(ape)\n",
    "library(phylogram)\n",
    "library(clusterProfiler)\n",
    "library(org.Hs.eg.db)\n",
    "library(igraph)\n",
    "library(ggraph)\n",
    "library(tidygraph)"
   ]
  },
  {
   "cell_type": "code",
   "execution_count": null,
   "id": "ce333ddf-1f17-45c7-90ca-203331822a08",
   "metadata": {},
   "outputs": [],
   "source": [
    "# enri<-read.table(\"/fs/home/tangke/human_scATAC/hg38_data/SCRIPT2/lung.10_10/enrichment/SCRIPT_enrichment.txt\",header=T)  #25,0.5,30\n",
    "enri_b<-t(enri)\n",
    "head(enri_b)\n",
    "seurat <- CreateSeuratObject(counts = enri_b, project = \"lung\")\n",
    "seurat@assays$RNA@scale.data<-as.matrix(seurat@assays$RNA@counts)\n",
    "seurat <- FindVariableFeatures(seurat, selection.method = \"vst\", nfeatures = 2000)\n",
    "seurat <- RunPCA(seurat, features = VariableFeatures(object = seurat))\n",
    "ElbowPlot(seurat)\n",
    "\n",
    "seurat <- FindNeighbors(seurat, dims = 1:25)\n",
    "seurat <- FindClusters(seurat, resolution = 0.7)\n",
    "seurat <- RunUMAP(seurat, dims = 1:50)\n",
    "DimPlot(seurat, reduction = \"umap\")\n",
    "\n",
    "seurat_ident<-as.data.frame(seurat@active.ident)\n",
    "seurat_ident_2<-seurat_ident\n",
    "seurat_ident_2[,1]<-rownames(seurat_ident)\n",
    "seurat_ident_2[,2]<-seurat_ident[,1]\n",
    "\n",
    "input_file<-readRDS(\"/fs/home/tangke/human_scATAC/hg38_data/GSM4508936_lung_filtered.seurat.rds\")\n",
    "b<-as.data.frame(input_file@active.ident)\n",
    "b$cell_type<-input_file@meta.data$cell_type\n",
    "c<-merge(seurat_ident_2,b,by=\"row.names\",sort=F)\n",
    "\n",
    "d<-c$cell_type\n",
    "names(d)<-c$Row.names\n",
    "\n",
    "seurat@active.ident<-d\n",
    "DimPlot(seurat, reduction = \"umap\")"
   ]
  },
  {
   "cell_type": "code",
   "execution_count": null,
   "id": "efa98fd4-af49-44de-a0ba-bab32d9d7d6f",
   "metadata": {},
   "outputs": [],
   "source": [
    "type<-as.data.frame(seurat@active.ident)\n",
    "b<-type\n",
    "b[,1]<-rownames(type)\n",
    "b[,2]<-type[,1]\n",
    "head(b)"
   ]
  },
  {
   "cell_type": "code",
   "execution_count": null,
   "id": "0f4d4b4a-c58f-440b-ba6e-923221beb7eb",
   "metadata": {},
   "outputs": [],
   "source": [
    "mutualinformation=NMI(seurat_ident_2,b)\n",
    "mutualinformation"
   ]
  },
  {
   "cell_type": "markdown",
   "id": "e3abcc39-70c3-4ce8-8c4d-bc4b34732b52",
   "metadata": {},
   "source": [
    "## subcluster"
   ]
  },
  {
   "cell_type": "code",
   "execution_count": null,
   "id": "c1dea919-0b9c-47e7-9964-80db2fbbf9bf",
   "metadata": {},
   "outputs": [],
   "source": [
    "clusters<-seurat@active.ident\n",
    "clusters <- as.data.frame(clusters)\n",
    "clusters$cell <- rownames(clusters)"
   ]
  },
  {
   "cell_type": "code",
   "execution_count": null,
   "id": "b108087f-608a-4353-a3c7-6f22c33b4690",
   "metadata": {},
   "outputs": [],
   "source": [
    "a=c(\"Ciliated epithelial cells\",\"Lymphatic endothelial cells\",\"Lymphoid cells\",\"Megakaryocytes\",\"Myeloid cells\",\n",
    "    \"Neuroendocrine cells\")\n",
    "b=c(\"Stromal cells\")\n",
    "c=c(\"Bronchiolar and alveolar epithelial cells\")\n",
    "d=c(\"Vascular endothelial cells\")"
   ]
  },
  {
   "cell_type": "code",
   "execution_count": null,
   "id": "b4b1beb5-27e7-46a6-a56b-85ed914247b0",
   "metadata": {},
   "outputs": [],
   "source": [
    "cluster_list <- list()\n",
    "for (i in a){\n",
    "  clusters_cell <- clusters[which(clusters$clusters==i),\"cell\"]\n",
    "  cluster_list[[i]] <- sample(clusters_cell,ceiling(length(clusters_cell)/1))\n",
    "}\n",
    "for (i in b){\n",
    "  clusters_cell <- clusters[which(clusters$clusters==i),\"cell\"]\n",
    "  cluster_list[[i]] <- sample(clusters_cell,ceiling(length(clusters_cell)/20))\n",
    "}\n",
    "for (i in c){\n",
    "  clusters_cell <- clusters[which(clusters$clusters==i),\"cell\"]\n",
    "  cluster_list[[i]] <- sample(clusters_cell,ceiling(length(clusters_cell)/10))\n",
    "}\n",
    "for (i in d){\n",
    "  clusters_cell <- clusters[which(clusters$clusters==i),\"cell\"]\n",
    "  cluster_list[[i]] <- sample(clusters_cell,ceiling(length(clusters_cell)/2.5))\n",
    "}"
   ]
  },
  {
   "cell_type": "code",
   "execution_count": null,
   "id": "6461cb3a-bb66-4e33-ad6a-6ce35de727b4",
   "metadata": {},
   "outputs": [],
   "source": [
    "selected_cells <- unlist(cluster_list)\n",
    "length(selected_cells)"
   ]
  },
  {
   "cell_type": "code",
   "execution_count": null,
   "id": "3e630e2a-178f-4935-a918-8b9ea5c675d8",
   "metadata": {},
   "outputs": [],
   "source": [
    "lung<-seurat"
   ]
  },
  {
   "cell_type": "code",
   "execution_count": null,
   "id": "b85a36fb-5f99-4bb7-8a79-8e675ab3bb34",
   "metadata": {},
   "outputs": [],
   "source": [
    "table(lung@active.ident)"
   ]
  },
  {
   "cell_type": "code",
   "execution_count": null,
   "id": "f77cda6c-dee7-4b56-acac-ae771d1c55a3",
   "metadata": {},
   "outputs": [],
   "source": [
    "sub_lung<-seurat[,selected_cells]"
   ]
  },
  {
   "cell_type": "code",
   "execution_count": null,
   "id": "83a17cf8-37dd-451e-8b0c-5c15946963a4",
   "metadata": {},
   "outputs": [],
   "source": [
    "lung_use<-sub_lung"
   ]
  },
  {
   "cell_type": "code",
   "execution_count": null,
   "id": "67c1acce-a612-4fb7-9224-2457f96255f5",
   "metadata": {},
   "outputs": [],
   "source": [
    "table(lung_use@active.ident)"
   ]
  },
  {
   "cell_type": "code",
   "execution_count": null,
   "id": "0b9b38c3-daeb-4b57-b74e-48a9d9d2dda4",
   "metadata": {},
   "outputs": [],
   "source": [
    "saveRDS(lung_use,'/fs/home/tangke/human_scATAC/hg38_data/SCRIPT3/seurat_tf/lung_sub_SCRIPT_seurat.rds')"
   ]
  },
  {
   "cell_type": "code",
   "execution_count": null,
   "id": "e25b507d-c7e9-48f7-b8fb-b7f7f0064076",
   "metadata": {},
   "outputs": [],
   "source": [
    "rm(list=ls())"
   ]
  },
  {
   "cell_type": "markdown",
   "id": "39c563ce-834b-4f53-bbbe-9858ac394cb3",
   "metadata": {},
   "source": [
    "## complexheatmap analysis"
   ]
  },
  {
   "cell_type": "code",
   "execution_count": null,
   "id": "f09c14fe-88dd-4e0f-97b5-312cdfbe53a5",
   "metadata": {},
   "outputs": [],
   "source": [
    "lung_use<-readRDS(\"/fs/home/tangke/human_scATAC/hg38_data/SCRIPT3/seurat_tf/lung_sub_SCRIPT_seurat.rds\")"
   ]
  },
  {
   "cell_type": "code",
   "execution_count": null,
   "id": "5ec84029-8698-46e3-a07e-7921c49c874c",
   "metadata": {},
   "outputs": [],
   "source": [
    "lung.markers <- FindAllMarkers(lung_use, only.pos = TRUE, min.pct = 0.1, logfc.threshold = 0.1)"
   ]
  },
  {
   "cell_type": "code",
   "execution_count": null,
   "id": "077a779b-98ad-4f35-97a0-78604eec00f0",
   "metadata": {},
   "outputs": [],
   "source": [
    "lung.markers_use<-lung.markers %>%\n",
    "    group_by(cluster) %>%\n",
    "    slice_max(n = 30, order_by = avg_log2FC)"
   ]
  },
  {
   "cell_type": "code",
   "execution_count": null,
   "id": "786f0118-4a24-4c88-ac74-6088b91396f9",
   "metadata": {},
   "outputs": [],
   "source": [
    "gene<-unique(lung.markers_use$gene)"
   ]
  },
  {
   "cell_type": "code",
   "execution_count": null,
   "id": "4b8fab7d-4b2b-4f06-b0f0-4b464b83d2da",
   "metadata": {},
   "outputs": [],
   "source": [
    "mat <- GetAssayData(lung_use, slot = \"counts\")\n",
    "mat_use<-as.matrix(mat[gene,])"
   ]
  },
  {
   "cell_type": "code",
   "execution_count": null,
   "id": "87114581-5f2f-462d-9d31-4591bccbf84b",
   "metadata": {},
   "outputs": [],
   "source": [
    "dim(mat_use)"
   ]
  },
  {
   "cell_type": "code",
   "execution_count": null,
   "id": "2ea68fef-8b59-49c1-94f9-4e688841bb08",
   "metadata": {},
   "outputs": [],
   "source": [
    "mycol=c(\"#FF6D6F\",\"#00AEEC\",\"#8cb369\",\"#b8b8ff\",\"#FEFBDD\",\n",
    "           \"#FFA6CD\",\"#cddafd\",\"#4ecdc4\",\"#FDB12C\",\"#ffa69e\")\n",
    "show_col(mycol)"
   ]
  },
  {
   "cell_type": "code",
   "execution_count": null,
   "id": "5aef4240-0603-4f4d-87b0-6561f176c517",
   "metadata": {},
   "outputs": [],
   "source": [
    "names<-as.data.frame(lung_use@active.ident)\n",
    "colnames(names)<-\"cell_type\"\n",
    "type=names$cell_type\n",
    "ha = HeatmapAnnotation(type = type, annotation_name_side = \"left\",\n",
    "                       col=list(type=c(\"Bronchiolar and alveolar epithelial cells\"=mycol[2],\"Stromal cells\"=mycol[4],\"Vascular endothelial cells\"=mycol[8],\n",
    "            \"Lymphoid cells\"=mycol[6],\"Ciliated epithelial cells\"=mycol[1],\"Lymphatic endothelial cells\"=mycol[8],\n",
    "            \"Megakaryocytes\"=mycol[9],\"Myeloid cells\"=mycol[10],\"Neuroendocrine cells\"=mycol[3])\n",
    "           ))"
   ]
  },
  {
   "cell_type": "code",
   "execution_count": null,
   "id": "14c84aa8-b9ff-4e0f-96f6-7a2bcddc2810",
   "metadata": {},
   "outputs": [],
   "source": [
    "dim(lung_use)"
   ]
  },
  {
   "cell_type": "code",
   "execution_count": null,
   "id": "ee68508a-75d0-42d4-a633-92fc03ba9b00",
   "metadata": {},
   "outputs": [],
   "source": [
    "for (i in 1:150){\n",
    "    min=min(mat_use[i,])\n",
    "    max=max(mat_use[i,])\n",
    "    for (c in 1:9417){\n",
    "       mat_use[i,c]=(mat_use[i,c]-min)/(max-min)\n",
    "    }\n",
    "}"
   ]
  },
  {
   "cell_type": "code",
   "execution_count": null,
   "id": "cc313a3e-94ca-43d2-acaa-5715e1626489",
   "metadata": {},
   "outputs": [],
   "source": [
    "names$cell_type<-as.factor(names$cell_type)\n",
    "annotation_col =names"
   ]
  },
  {
   "cell_type": "code",
   "execution_count": null,
   "id": "e5307556-3cd9-4a02-a0bf-c7bdd49c042e",
   "metadata": {},
   "outputs": [],
   "source": [
    "options(repr.plot.width = 20, repr.plot.height = 20,repr.plot.res = 70)\n",
    "set.seed(2021)\n",
    "p<-Heatmap(mat_use,cluster_rows=TRUE,\n",
    "       cluster_columns=TRUE,\n",
    "       show_column_names=FALSE,\n",
    "       show_row_names=TRUE,\n",
    "      top_anno=ha,\n",
    "       column_km=7,\n",
    "       row_km = 10,\n",
    "#      row_km=6,\n",
    "       show_row_dend=FALSE,\n",
    "      show_column_dend=FALSE,\n",
    "#        right_annotation=row_anno,\n",
    "       heatmap_legend_param=list(\n",
    "       title=\"score\",\n",
    "       title_position=\"leftcenter-rot\"\n",
    "       ),\n",
    "       row_gap = unit(0, \"mm\"), \n",
    "        column_gap = unit(0, \"mm\"),\n",
    "        border = TRUE,\n",
    "        width = unit(40, \"cm\"), \n",
    "        height = unit(40, \"cm\"),\n",
    "           row_names_side = \"left\"\n",
    "       )\n",
    "p"
   ]
  },
  {
   "cell_type": "markdown",
   "id": "fee5c44a-d732-4b82-9f23-bcffd37c60d8",
   "metadata": {},
   "source": [
    "## circle plot"
   ]
  },
  {
   "cell_type": "code",
   "execution_count": null,
   "id": "10988d86-d1ba-411a-8493-b4ee79c1d6c6",
   "metadata": {},
   "outputs": [],
   "source": [
    "set.seed (2021)\n",
    "t<-draw(p)\n",
    "a=column_dend(t)\n",
    "o=column_order(t)"
   ]
  },
  {
   "cell_type": "code",
   "execution_count": null,
   "id": "7ce0643f-048d-40de-9a74-de4fb8b155a9",
   "metadata": {},
   "outputs": [],
   "source": [
    "for (i in 1:7){\n",
    "    dend=a[[i]]\n",
    "    assign(paste(\"dend\",i,sep=''),dend)\n",
    "    order=o[[i]]\n",
    "    om=data.frame(matrix(NA,150,length(order)))\n",
    "    for (j in 1:length(order)){\n",
    "        for (c in order){\n",
    "            om[,j]=mat_use[,c]\n",
    "            colnames(om)[j]=colnames(mat_use)[c]\n",
    "            assign(paste(\"om\",i,sep=''),om)\n",
    "        }\n",
    "    }\n",
    "}"
   ]
  },
  {
   "cell_type": "code",
   "execution_count": null,
   "id": "1d846845-3a2a-41f7-bbf1-6efd3216e712",
   "metadata": {},
   "outputs": [],
   "source": [
    "for (i in 1:7){\n",
    "    dend=a[[i]]\n",
    "    assign(paste(\"dend\",i,sep=''),dend)\n",
    "    }"
   ]
  },
  {
   "cell_type": "code",
   "execution_count": null,
   "id": "9fe52c8b-c18a-4ea7-8f64-5924df99bb41",
   "metadata": {},
   "outputs": [],
   "source": [
    "om345<-cbind(om3,om4,om5)\n",
    "om12<-cbind(om1,om2)\n",
    "om12345<-cbind(om1,om2,om3,om4,om5)\n",
    "om67<-cbind(om6,om7)"
   ]
  },
  {
   "cell_type": "code",
   "execution_count": null,
   "id": "002b60dc-f20f-4464-b08f-c208d2c0756f",
   "metadata": {},
   "outputs": [],
   "source": [
    "dend_12=as.dendrogram(hclust(dist(t(cbind(rowMeans(om1),rowMeans(om2)\n",
    "                                         )))))\n",
    "dend_12 = merge_dendrogram(dend_12, list(dend1,dend2))\n",
    "dend_345=as.dendrogram(hclust(dist(t(cbind(rowMeans(om3),rowMeans(om4),rowMeans(om5)\n",
    "                                         )))))\n",
    "dend_345 = merge_dendrogram(dend_345, list(dend3,dend4,dend5))\n",
    "dend_67=as.dendrogram(hclust(dist(t(cbind(rowMeans(om6),rowMeans(om7)\n",
    "                                         )))))\n",
    "dend_67 = merge_dendrogram(dend_67, list(dend6,dend7))\n",
    "dend_12345=as.dendrogram(hclust(dist(t(cbind(rowMeans(om12),rowMeans(om345)\n",
    "                                         )))))\n",
    "dend_12345<- merge_dendrogram(dend_12345, list(dend_345,dend_12))\n",
    "dend_p=as.dendrogram(hclust(dist(t(cbind(rowMeans(om12345),rowMeans(om67)\n",
    "                                         )))))\n",
    "dend_p<- merge_dendrogram(dend_p, list(dend_12345,dend_67))"
   ]
  },
  {
   "cell_type": "code",
   "execution_count": null,
   "id": "18bbf1bf-9215-4499-9321-c05f1187181f",
   "metadata": {},
   "outputs": [],
   "source": [
    "dend_p"
   ]
  },
  {
   "cell_type": "code",
   "execution_count": null,
   "id": "612d8dfb-5618-4a80-b15f-c126cb1a4a14",
   "metadata": {},
   "outputs": [],
   "source": [
    "use<-as.phylo(dend_p)\n",
    "names<-as.data.frame(lung_use@active.ident)\n",
    "colnames(names)<-\"cell_type\"\n",
    "type=names$cell_type\n",
    "groupInfo <- split(colnames(mat_use), type)\n",
    "use <- groupOTU(use, groupInfo)"
   ]
  },
  {
   "cell_type": "code",
   "execution_count": null,
   "id": "ff555619-2ac1-4fb3-97fd-253237ab6032",
   "metadata": {},
   "outputs": [],
   "source": [
    "transformtree<-function(tree,radialparameter,repeatparameter,tiplength){ \n",
    "    # radialparameter # # change this to collapse less(0.5) or more (3) and modify repeatparameter together \n",
    "    # repeatparameter # # i.e. increase if there are very small branches (levels) \n",
    "    #number of hierarchical levels in tree \n",
    "    dfr0<-as.data.frame(tree$edge) \n",
    "    tree2<-FromDataFrameNetwork(dfr0)# data.tree package \n",
    "    levels<-ToDataFrameTable(tree2, \"level\") \n",
    "    edgelevels<-max(levels)-1 \n",
    "    # establish the hierarchy of nodes looking for the children of the children nodes \n",
    "    centralnode<-getMRCA(tree,1:length(tree$tip.label)) \n",
    "    childrenlist<-list() \n",
    "    childrenlist[1]<-list(phangorn::Children(tree, centralnode)) \n",
    "    for (i in 2:edgelevels){ \n",
    "    childrenlist[i]<- list(unlist(lapply(unlist(childrenlist[i-1]), function(x) phangorn::Children(tree, x)))) \n",
    "    } \n",
    "    # remove nodes of tips, we do not want to modify their length \n",
    "    childrentipsremoved<-lapply(childrenlist, function(x) x[!is.element(x,1:length(tree$tip.label))]) \n",
    "    # list of inner nodes \n",
    "    groupedinnernodes<-rlist::list.clean(childrentipsremoved, fun = function(x) length(x) == 0L) \n",
    "    #this is the vector that will multiply the inner edges \n",
    "    transfvector<- rep(((c(1:(length(groupedinnernodes)/repeatparameter))^(-radialparameter))*5), \n",
    "        each=repeatparameter) \n",
    "    # check length of groups of inner nodes and the transformation vector \n",
    "    lengths<-unlist(lapply(groupedinnernodes, function(x) length(x))) \n",
    "    if(length(lengths)-length(transfvector)>0) { \n",
    "    for (i in 1:abs(length(lengths)-length(transfvector)) ){ \n",
    "     transfvector <- c(transfvector,transfvector[length(transfvector)]) \n",
    "    } } \n",
    "    if(length(lengths)-length(transfvector)<0) { \n",
    "    for (i in 1:abs(length(lengths)-length(transfvector)) ){ \n",
    "     transfvector <- transfvector[-1] }} \n",
    "    # create the factor to transform the inner edges \n",
    "    vector1<-unlist(mapply(rep, transfvector,lengths)) \n",
    "    # discard length info, replace all edge length information by 1 \n",
    "    size<-length(tree$edge.length) \n",
    "    tree$edge.length<-rep(1,size) \n",
    "    # replace edge length for the connecting inner nodes only \n",
    "    innernodes<-unlist(groupedinnernodes) \n",
    "    tree$edge.length[unlist(lapply(innernodes,function(x,y) which(y==x),y=tree$edge[,2]))]<- \n",
    "    tree$edge.length[unlist(lapply(innernodes,function(x,y) which(y==x),y=tree$edge[,2]))]* \n",
    "    vector1 \n",
    "    # modify length of tip edges # optional decrease for big trees \n",
    "    tree$edge.length[tree$edge.length==1]<-tiplength \n",
    "    return(tree) \n",
    "} "
   ]
  },
  {
   "cell_type": "code",
   "execution_count": null,
   "id": "298d2387-e289-481e-babc-6c8c9a841b8c",
   "metadata": {},
   "outputs": [],
   "source": [
    "tree<-transformtree(use,2.5,2,0.2) "
   ]
  },
  {
   "cell_type": "code",
   "execution_count": null,
   "id": "179e5057-bb06-4d67-937a-297cd3ea94c4",
   "metadata": {},
   "outputs": [],
   "source": [
    "options(repr.plot.width = 20, repr.plot.height = 20,repr.plot.res = 40)\n",
    "g=ggtree(tree, color=\"black\", layout=\"circular\",branch.length=\"branch.length\", size=1, open.angle=30)+\n",
    "    geom_tiplab(aes(label=NA,col=group), align=T,linesize = 0.08,linetype = 1,offset = 3)+\n",
    "    theme(legend.title=element_text(face=\"bold\", size=15), legend.position=\"right\", legend.text=element_text(size=13)) +\n",
    "    scale_color_manual(\n",
    "    values = c(\"Bronchiolar and alveolar epithelial cells\"=mycol[2],\"Stromal cells\"=mycol[4],\"Vascular endothelial cells\"=mycol[8],\n",
    "            \"Lymphoid cells\"=mycol[6],\"Ciliated epithelial cells\"=mycol[1],\"Lymphatic endothelial cells\"=mycol[8],\n",
    "            \"Megakaryocytes\"=mycol[9],\"Myeloid cells\"=mycol[10],\"Neuroendocrine cells\"=mycol[3]))\n",
    "g"
   ]
  },
  {
   "cell_type": "markdown",
   "id": "c7fe09a0-55bf-4f7e-a535-45480fef173d",
   "metadata": {},
   "source": [
    "# Target analysis"
   ]
  },
  {
   "cell_type": "markdown",
   "id": "c256bdb6-fa1a-4e8d-acf8-84a437613ae1",
   "metadata": {},
   "source": [
    "## GO analysis"
   ]
  },
  {
   "cell_type": "code",
   "execution_count": null,
   "id": "b5931188-442a-4068-97b9-564d2130a86c",
   "metadata": {},
   "outputs": [],
   "source": [
    "rm(list=ls())"
   ]
  },
  {
   "cell_type": "code",
   "execution_count": null,
   "id": "c9f60ef6-319a-40ea-9abd-e0f72449a810",
   "metadata": {},
   "outputs": [],
   "source": [
    "lung_script<-readRDS(\"/fs/home/tangke/human_scATAC/hg38_data/SCRIPT3/seurat_tf/lung_sub_SCRIPT_seurat.rds\")\n",
    "table(lung_script@active.ident)"
   ]
  },
  {
   "cell_type": "code",
   "execution_count": null,
   "id": "6fdbb209-c257-4631-92df-59b04b9d9af9",
   "metadata": {},
   "outputs": [],
   "source": [
    "Lymphoid_cells<-subset(lung_script,idents=c('Lymphoid cells'),invert=FALSE)  #GATA3 is expressed in Lymphoid"
   ]
  },
  {
   "cell_type": "code",
   "execution_count": null,
   "id": "ecfec561-4532-4bca-89f0-1a14fbc1a230",
   "metadata": {},
   "outputs": [],
   "source": [
    "GATA3<-Read10X(\"/fs/home/tangke/human_scATAC/hg38_data/SCRIPT2/lung_impute/imputation/GATA3_10x\",gene.column =1)"
   ]
  },
  {
   "cell_type": "code",
   "execution_count": null,
   "id": "d88d36fc-5d25-4797-85ac-419b3c6f91be",
   "metadata": {},
   "outputs": [],
   "source": [
    "use_GATA3<-GATA3[,colnames(GATA3)%in%rownames(Lymphoid_cells@meta.data)]  #choose lymphoid cell in GATA3 matrix\n",
    "use_qc_GATA3<-use_GATA3[,colnames(use_GATA3)%in%rownames(as.data.frame(sort(colSums(use_GATA3),decreasing=TRUE)[1:500]))]  #cell qc\n",
    "Lymphoid_use_GATA3<-as.data.frame(sort(rowMeans(use_qc_GATA3),decreasing = TRUE)[1:1000]) #gene qc"
   ]
  },
  {
   "cell_type": "code",
   "execution_count": null,
   "id": "8f36a1c1-603d-4d2f-a1a6-4834ed2ebd2d",
   "metadata": {},
   "outputs": [],
   "source": [
    "eg_gata3_ly <- bitr(rownames(Lymphoid_use_GATA3), fromType=\"SYMBOL\", toType=c(\"ENTREZID\"), OrgDb=\"org.Hs.eg.db\")\n",
    "head(eg_gata3_ly)"
   ]
  },
  {
   "cell_type": "code",
   "execution_count": null,
   "id": "916c3a9f-46b8-4435-b4be-79a842e7f6e3",
   "metadata": {},
   "outputs": [],
   "source": [
    "go_gata3_ly<-enrichGO(eg_gata3_ly$ENTREZID, OrgDb = org.Hs.eg.db, ont='BP',\n",
    "               pAdjustMethod = 'BH',\n",
    "               qvalueCutoff = 0.05,\n",
    "               keyType = 'ENTREZID')"
   ]
  },
  {
   "cell_type": "code",
   "execution_count": null,
   "id": "8efdcbcd-23ef-4a76-9f6a-0b56c9688aa6",
   "metadata": {},
   "outputs": [],
   "source": [
    "go_gata3_ly_use<-go_gata3_ly[c(10,14,15,27,31,32,33,41,42,44),]"
   ]
  },
  {
   "cell_type": "code",
   "execution_count": null,
   "id": "62600a14-ccbb-467f-810c-40c07e319403",
   "metadata": {},
   "outputs": [],
   "source": [
    "go_gata3_ly_use"
   ]
  },
  {
   "cell_type": "code",
   "execution_count": null,
   "id": "4a31d8aa-b569-4371-a05b-7f2e8f253b5c",
   "metadata": {},
   "outputs": [],
   "source": [
    "go_gata3_ly_use<-go_gata3_ly_use[order(go_gata3_ly_use[,9],decreasing = TRUE),]"
   ]
  },
  {
   "cell_type": "code",
   "execution_count": null,
   "id": "e0132c2d-ecc9-4438-8923-25d610e2470f",
   "metadata": {},
   "outputs": [],
   "source": [
    "go_gata3_ly_use$Description[2]='regulation of myeloid cell\\ndifferentiation'\n",
    "go_gata3_ly_use$Description[4]='regulation of megakaryocyte\\ndifferentiation'\n",
    "go_gata3_ly_use$Description[5]='negative regulation of\\nmyeloid cell differentiation'\n",
    "go_gata3_ly_use$Description[7]='cellular response to\\ninterleukin-7'\n",
    "go_gata3_ly_use$Description[9]='negative regulation of\\nmegakaryocyte differentiation'\n",
    "go_gata3_ly_use$Description[10]='interleukin-7-mediated\\nsignaling pathway'"
   ]
  },
  {
   "cell_type": "code",
   "execution_count": null,
   "id": "bf58e82f-8a0e-43e7-ae6a-c80bca04c0d7",
   "metadata": {},
   "outputs": [],
   "source": [
    "options(repr.plot.width = 7, repr.plot.height = 10,repr.plot.res = 70)\n",
    "par(mar=c(3,3,0.5,0.5),mgp=c(1.5,0.5,0),bg='black')"
   ]
  },
  {
   "cell_type": "code",
   "execution_count": null,
   "id": "7e36d778-8b6e-4f7e-9436-9b0b3961c510",
   "metadata": {},
   "outputs": [],
   "source": [
    "gata3_ly=ggplot(go_gata3_ly_use,aes(Description,Count))+geom_point(aes(color= pvalue,size=Count))+\n",
    "labs(x = \"GO Terms\",y = \"Gene Numbers\",title = \"GATA3 targets in LC\") + \n",
    "        coord_flip()+theme_bw() +\n",
    "        theme(panel.grid = element_blank())+\n",
    "        theme(plot.title = element_text(hjust = 0.8, size = 15), \n",
    "              axis.text.y = element_text(size = 15,color='black'),\n",
    "              axis.text.x = element_text(size = 15,color='black'), \n",
    "              axis.title.y = element_text(size = 15),\n",
    "              axis.title.x = element_text(size = 15),\n",
    "              legend.title = element_text(size = 15),\n",
    "              legend.text = element_text(size = 15),\n",
    "              text = element_text(hjust = 0.5))+scale_color_continuous(low='#FF6D6F',high='#4ecdc4')+\n",
    "              scale_x_discrete(limits = rev(go_gata3_ly_use$Description))+\n",
    "theme(text = element_text(size=40,family=\"myfont\"))+\n",
    "scale_y_continuous(breaks=seq(0,25,10))+theme(legend.position=c(0.8,0.4))\n",
    "gata3_ly"
   ]
  },
  {
   "cell_type": "markdown",
   "id": "10d6a12f-72cb-4b9e-b5a3-22a32c477e44",
   "metadata": {},
   "source": [
    "## target analysis"
   ]
  },
  {
   "cell_type": "code",
   "execution_count": null,
   "id": "ab0daa78-52e0-42ef-be29-75e0e18bacbf",
   "metadata": {},
   "outputs": [],
   "source": [
    "gata3_target_igra<-c('KAT6B','HSPD1','CREB1','TLE4','IRF9','SP3','FBXW7','NFKB2','SEH1L','H4C2','TARBP2',\n",
    "                     'SETD3','KAT7','HMGB2','KMT2E','RMRP','RPS9','CIC','USP5','OARD1')"
   ]
  },
  {
   "cell_type": "code",
   "execution_count": null,
   "id": "0ecd34f4-5ac4-4543-90b1-a5f19dfbce7d",
   "metadata": {},
   "outputs": [],
   "source": [
    "Lymphoid_use_GATA3$gene<-rownames(Lymphoid_use_GATA3)"
   ]
  },
  {
   "cell_type": "code",
   "execution_count": null,
   "id": "99c6aeba-0762-4e6b-b0fd-678b85d6793a",
   "metadata": {},
   "outputs": [],
   "source": [
    "weight_GATA3<-Lymphoid_use_GATA3[(Lymphoid_use_GATA3$gene)%in%gata3_target_igra,]"
   ]
  },
  {
   "cell_type": "code",
   "execution_count": null,
   "id": "7caeaa51-b091-4896-b5fc-e6c5ce7c73d1",
   "metadata": {},
   "outputs": [],
   "source": [
    "colnames(weight_GATA3)<-c('weight','gene')"
   ]
  },
  {
   "cell_type": "code",
   "execution_count": null,
   "id": "f4d066a2-03c7-48df-94e3-e7d2e168a86b",
   "metadata": {},
   "outputs": [],
   "source": [
    "hb_graph_gata3<-data.frame(matrix(NA,20,2))\n",
    "hb_graph_gata3[,1]<-c(rep('GATA3',20))\n",
    "hb_graph_gata3[1:20,2]<-weight_GATA3$gene\n",
    "hb_graph_gata3[1:20,3]<-weight_GATA3$weight\n",
    "colnames(hb_graph_gata3)<-c('TF',\"target\",'weight')\n",
    "name_gata3<-data.frame(c(hb_graph_gata3$TF,hb_graph_gata3$target))"
   ]
  },
  {
   "cell_type": "code",
   "execution_count": null,
   "id": "9ecde768-f61f-4b74-ab28-ad9e21db6f00",
   "metadata": {},
   "outputs": [],
   "source": [
    "nodes_gata3<-name_gata3%>%\n",
    "    distinct()%>%\n",
    "mutate(group=c(rep('4',21)))\n",
    "colnames(nodes_gata3)<-c(\"label\",\"group\")"
   ]
  },
  {
   "cell_type": "code",
   "execution_count": null,
   "id": "8312a5b1-b0b4-4fb0-ae98-1b2668f02347",
   "metadata": {},
   "outputs": [],
   "source": [
    "nodes_gata3[(nodes_gata3$labe)%in%c('GATA3'),2]='1'\n",
    "nodes_gata3[(nodes_gata3$label)%in%c('KAT6B','HSPD1','CREB1','TLE4','IRF9','SP3','FBXW7','NFKB2'),2]='2'   #reference"
   ]
  },
  {
   "cell_type": "code",
   "execution_count": null,
   "id": "396a69c3-03c2-4365-a788-0e130f3302df",
   "metadata": {},
   "outputs": [],
   "source": [
    "edges_gata3<-hb_graph_gata3%>%\n",
    "    rename(from=TF,to=target,weight=weight)"
   ]
  },
  {
   "cell_type": "code",
   "execution_count": null,
   "id": "fa9ef4e4-4a93-416f-ab2b-6618dc828691",
   "metadata": {},
   "outputs": [],
   "source": [
    "net_pc_gata3<-graph_from_data_frame(\n",
    "   d=edges_gata3,vertices = nodes_gata3,\n",
    "   directed=TRUE)\n",
    "\n",
    "net_pc_gata3"
   ]
  },
  {
   "cell_type": "code",
   "execution_count": null,
   "id": "3673a0a0-b324-4e78-b97b-dcc3b7dc7d08",
   "metadata": {},
   "outputs": [],
   "source": [
    "graph_pc_gata3<-as_tbl_graph(net_pc_gata3)"
   ]
  },
  {
   "cell_type": "code",
   "execution_count": null,
   "id": "b9062fb5-cb48-4a77-9ccf-a92261c47c7a",
   "metadata": {},
   "outputs": [],
   "source": [
    "options(repr.plot.width = 10, repr.plot.height = 15,repr.plot.res = 70)\n",
    "par(mar=c(3,3,0.5,0.5),mgp=c(1.5,0.5,0),bg='black')"
   ]
  },
  {
   "cell_type": "code",
   "execution_count": null,
   "id": "7c68398a-7dfc-4ec7-9c9a-f1c26458a3fa",
   "metadata": {},
   "outputs": [],
   "source": [
    "g_gata3<-ggraph(graph_pc_gata3,layout=\"stress\")+   #kk\n",
    "geom_edge_link(color='lightblue',aes(edge_width=100*weight),\n",
    "                arrow = arrow(length = unit(10, 'mm')), \n",
    "                end_cap = circle(20, 'mm'))+\n",
    "geom_node_point(aes(color=group),size = 45,alpha=0.4)+\n",
    "geom_node_text(aes(label = name),size=15) +\n",
    "scale_color_manual(\n",
    "    values = c(\"1\"=\"#FDB12C\",\"2\"=\"#FFA6CD\",\"3\"=\"#b8b8ff\",'4'='#cddafd')) +\n",
    "scale_edge_width(range=c(0.5,1.5))+\n",
    "theme(text = element_text(size=40,family=\"myfont\"))+\n",
    "theme_void()+\n",
    "NoLegend()\n",
    "\n",
    "g_gata3"
   ]
  },
  {
   "cell_type": "code",
   "execution_count": null,
   "id": "e1c636fd-7f8f-4857-be80-bf6ab54e0737",
   "metadata": {},
   "outputs": [],
   "source": []
  }
 ],
 "metadata": {
  "kernelspec": {
   "display_name": "MAESTRO R 4.0.5",
   "language": "R",
   "name": "irmaestro4.0.5"
  },
  "language_info": {
   "codemirror_mode": "r",
   "file_extension": ".r",
   "mimetype": "text/x-r-source",
   "name": "R",
   "pygments_lexer": "r",
   "version": "4.0.5"
  }
 },
 "nbformat": 4,
 "nbformat_minor": 5
}
